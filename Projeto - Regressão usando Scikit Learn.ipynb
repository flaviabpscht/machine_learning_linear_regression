<<<<<<<< HEAD:Projeto - Machine_Learning _Tarifas_Plano_Saude.ipynb
{
 "cells": [
  {
   "cell_type": "markdown",
   "id": "61e4cc44",
   "metadata": {},
   "source": [
    "# <a>Projeto - Técnicas de Mmchine learning para previsão de tarifas de planos de saúde</a>\n",
    "# <a>Machine Learning techniques to estimate health plan rates</a>"
   ]
  },
========
>>>>>>>> 07c379b7ea19929e0eeab38f43e69eb41c1b77bf:Projeto - Regressão usando Scikit Learn.ipynb
  {
   "cell_type": "code",
   "execution_count": 61,
   "id": "96e65ef8",
   "metadata": {
    "scrolled": true
   },
   "outputs": [
    {
     "name": "stdout",
     "output_type": "stream",
     "text": [
      "Requirement already satisfied: scikit-learn in d:\\myenv\\lib\\site-packages (1.4.1.post1)\n",
      "Requirement already satisfied: seaborn in d:\\myenv\\lib\\site-packages (0.13.2)\n",
      "Requirement already satisfied: numpy<2.0,>=1.19.5 in d:\\myenv\\lib\\site-packages (from scikit-learn) (1.26.4)\n",
      "Requirement already satisfied: scipy>=1.6.0 in d:\\myenv\\lib\\site-packages (from scikit-learn) (1.12.0)\n",
      "Requirement already satisfied: joblib>=1.2.0 in d:\\myenv\\lib\\site-packages (from scikit-learn) (1.3.2)\n",
      "Requirement already satisfied: threadpoolctl>=2.0.0 in d:\\myenv\\lib\\site-packages (from scikit-learn) (3.3.0)\n",
      "Requirement already satisfied: pandas>=1.2 in d:\\myenv\\lib\\site-packages (from seaborn) (2.2.0)\n",
      "Requirement already satisfied: matplotlib!=3.6.1,>=3.4 in d:\\myenv\\lib\\site-packages (from seaborn) (3.8.3)\n",
      "Requirement already satisfied: contourpy>=1.0.1 in d:\\myenv\\lib\\site-packages (from matplotlib!=3.6.1,>=3.4->seaborn) (1.2.0)\n",
      "Requirement already satisfied: cycler>=0.10 in d:\\myenv\\lib\\site-packages (from matplotlib!=3.6.1,>=3.4->seaborn) (0.12.1)\n",
      "Requirement already satisfied: fonttools>=4.22.0 in d:\\myenv\\lib\\site-packages (from matplotlib!=3.6.1,>=3.4->seaborn) (4.49.0)\n",
      "Requirement already satisfied: kiwisolver>=1.3.1 in d:\\myenv\\lib\\site-packages (from matplotlib!=3.6.1,>=3.4->seaborn) (1.4.5)\n",
      "Requirement already satisfied: packaging>=20.0 in d:\\myenv\\lib\\site-packages (from matplotlib!=3.6.1,>=3.4->seaborn) (23.2)\n",
      "Requirement already satisfied: pillow>=8 in d:\\myenv\\lib\\site-packages (from matplotlib!=3.6.1,>=3.4->seaborn) (10.2.0)\n",
      "Requirement already satisfied: pyparsing>=2.3.1 in d:\\myenv\\lib\\site-packages (from matplotlib!=3.6.1,>=3.4->seaborn) (3.1.1)\n",
      "Requirement already satisfied: python-dateutil>=2.7 in d:\\myenv\\lib\\site-packages (from matplotlib!=3.6.1,>=3.4->seaborn) (2.8.2)\n",
      "Requirement already satisfied: pytz>=2020.1 in d:\\myenv\\lib\\site-packages (from pandas>=1.2->seaborn) (2024.1)\n",
      "Requirement already satisfied: tzdata>=2022.7 in d:\\myenv\\lib\\site-packages (from pandas>=1.2->seaborn) (2024.1)\n",
      "Requirement already satisfied: six>=1.5 in d:\\myenv\\lib\\site-packages (from python-dateutil>=2.7->matplotlib!=3.6.1,>=3.4->seaborn) (1.16.0)\n"
     ]
    }
   ],
   "source": [
    "!pip install scikit-learn seaborn"
   ]
  },
  {
   "cell_type": "code",
   "execution_count": 2,
   "id": "c357c854",
   "metadata": {},
   "outputs": [],
   "source": [
    "# importando as bibliotecas para leitura dos dados e criação de gráficos\n",
    "import os\n",
    "import pandas as pd\n",
    "from matplotlib import pyplot as plt\n",
    "import numpy as np\n",
    "import seaborn as sns\n",
    "\n",
    "\n",
    "# configurando pandas para mostrar todas as linhas e colunas\n",
    "pd.set_option('display.max_rows', None)\n",
    "pd.set_option('display.max_columns', None) \n",
    "\n",
    "# configurando pandas para não mostrar notação científica para números\n",
    "pd.set_option('display.float_format', lambda x: '%.2f' % x)"
   ]
  },
  {
   "cell_type": "code",
   "execution_count": 3,
   "id": "295316e3",
   "metadata": {},
   "outputs": [
    {
     "data": {
      "text/html": [
       "<div>\n",
       "<style scoped>\n",
       "    .dataframe tbody tr th:only-of-type {\n",
       "        vertical-align: middle;\n",
       "    }\n",
       "\n",
       "    .dataframe tbody tr th {\n",
       "        vertical-align: top;\n",
       "    }\n",
       "\n",
       "    .dataframe thead th {\n",
       "        text-align: right;\n",
       "    }\n",
       "</style>\n",
       "<table border=\"1\" class=\"dataframe\">\n",
       "  <thead>\n",
       "    <tr style=\"text-align: right;\">\n",
       "      <th></th>\n",
       "      <th>age</th>\n",
       "      <th>sex</th>\n",
       "      <th>bmi</th>\n",
       "      <th>children</th>\n",
       "      <th>smoker</th>\n",
       "      <th>region</th>\n",
       "      <th>charges</th>\n",
       "    </tr>\n",
       "  </thead>\n",
       "  <tbody>\n",
       "    <tr>\n",
       "      <th>0</th>\n",
       "      <td>19</td>\n",
       "      <td>female</td>\n",
       "      <td>27.90</td>\n",
       "      <td>0</td>\n",
       "      <td>yes</td>\n",
       "      <td>southwest</td>\n",
       "      <td>16884.92</td>\n",
       "    </tr>\n",
       "    <tr>\n",
       "      <th>1</th>\n",
       "      <td>18</td>\n",
       "      <td>male</td>\n",
       "      <td>33.77</td>\n",
       "      <td>1</td>\n",
       "      <td>no</td>\n",
       "      <td>southeast</td>\n",
       "      <td>1725.55</td>\n",
       "    </tr>\n",
       "    <tr>\n",
       "      <th>2</th>\n",
       "      <td>28</td>\n",
       "      <td>male</td>\n",
       "      <td>33.00</td>\n",
       "      <td>3</td>\n",
       "      <td>no</td>\n",
       "      <td>southeast</td>\n",
       "      <td>4449.46</td>\n",
       "    </tr>\n",
       "    <tr>\n",
       "      <th>3</th>\n",
       "      <td>33</td>\n",
       "      <td>male</td>\n",
       "      <td>22.70</td>\n",
       "      <td>0</td>\n",
       "      <td>no</td>\n",
       "      <td>northwest</td>\n",
       "      <td>21984.47</td>\n",
       "    </tr>\n",
       "    <tr>\n",
       "      <th>4</th>\n",
       "      <td>32</td>\n",
       "      <td>male</td>\n",
       "      <td>28.88</td>\n",
       "      <td>0</td>\n",
       "      <td>no</td>\n",
       "      <td>northwest</td>\n",
       "      <td>3866.86</td>\n",
       "    </tr>\n",
       "  </tbody>\n",
       "</table>\n",
       "</div>"
      ],
      "text/plain": [
       "   age     sex   bmi  children smoker     region  charges\n",
       "0   19  female 27.90         0    yes  southwest 16884.92\n",
       "1   18    male 33.77         1     no  southeast  1725.55\n",
       "2   28    male 33.00         3     no  southeast  4449.46\n",
       "3   33    male 22.70         0     no  northwest 21984.47\n",
       "4   32    male 28.88         0     no  northwest  3866.86"
      ]
     },
     "execution_count": 3,
     "metadata": {},
     "output_type": "execute_result"
    }
   ],
   "source": [
    "# Ler os dados do seguro\n",
    "df_seguro = pd.read_csv('./data/insurance.csv')\n",
    "df_seguro.head()"
   ]
  },
  {
   "cell_type": "code",
   "execution_count": 4,
   "id": "cc5f394d",
   "metadata": {},
   "outputs": [
    {
     "data": {
      "text/plain": [
       "(1338, 7)"
      ]
     },
     "execution_count": 4,
     "metadata": {},
     "output_type": "execute_result"
    }
   ],
   "source": [
    "# Avaliando a quantidade de linhas e colunas\n",
    "df_seguro.shape"
   ]
  },
  {
   "cell_type": "code",
   "execution_count": 5,
   "id": "d4bec7d3",
   "metadata": {},
   "outputs": [
    {
     "data": {
      "text/plain": [
       "age           int64\n",
       "sex          object\n",
       "bmi         float64\n",
       "children      int64\n",
       "smoker       object\n",
       "region       object\n",
       "charges     float64\n",
       "dtype: object"
      ]
     },
     "execution_count": 5,
     "metadata": {},
     "output_type": "execute_result"
    }
   ],
   "source": [
    "# Avaliando os tipos\n",
    "df_seguro.dtypes"
   ]
  },
  {
   "cell_type": "code",
   "execution_count": 6,
   "id": "148bc693",
   "metadata": {},
   "outputs": [
    {
     "name": "stdout",
     "output_type": "stream",
     "text": [
      "<class 'pandas.core.frame.DataFrame'>\n",
      "RangeIndex: 1338 entries, 0 to 1337\n",
      "Data columns (total 7 columns):\n",
      " #   Column    Non-Null Count  Dtype  \n",
      "---  ------    --------------  -----  \n",
      " 0   age       1338 non-null   int64  \n",
      " 1   sex       1338 non-null   object \n",
      " 2   bmi       1338 non-null   float64\n",
      " 3   children  1338 non-null   int64  \n",
      " 4   smoker    1338 non-null   object \n",
      " 5   region    1338 non-null   object \n",
      " 6   charges   1338 non-null   float64\n",
      "dtypes: float64(2), int64(2), object(3)\n",
      "memory usage: 73.3+ KB\n"
     ]
    }
   ],
   "source": [
    "df_seguro.info()"
   ]
  },
  {
   "cell_type": "markdown",
   "id": "9d77a78c",
   "metadata": {},
   "source": [
    "## <a> Estatística descritiva </a>\n",
    "\n",
    "## <a> Descriptive statistics </a>"
   ]
  },
  {
   "cell_type": "code",
   "execution_count": 7,
   "id": "6f58402c",
   "metadata": {},
   "outputs": [
    {
     "data": {
      "text/html": [
       "<div>\n",
       "<style scoped>\n",
       "    .dataframe tbody tr th:only-of-type {\n",
       "        vertical-align: middle;\n",
       "    }\n",
       "\n",
       "    .dataframe tbody tr th {\n",
       "        vertical-align: top;\n",
       "    }\n",
       "\n",
       "    .dataframe thead th {\n",
       "        text-align: right;\n",
       "    }\n",
       "</style>\n",
       "<table border=\"1\" class=\"dataframe\">\n",
       "  <thead>\n",
       "    <tr style=\"text-align: right;\">\n",
       "      <th></th>\n",
       "      <th>age</th>\n",
       "      <th>bmi</th>\n",
       "      <th>children</th>\n",
       "      <th>charges</th>\n",
       "    </tr>\n",
       "  </thead>\n",
       "  <tbody>\n",
       "    <tr>\n",
       "      <th>count</th>\n",
       "      <td>1338.00</td>\n",
       "      <td>1338.00</td>\n",
       "      <td>1338.00</td>\n",
       "      <td>1338.00</td>\n",
       "    </tr>\n",
       "    <tr>\n",
       "      <th>mean</th>\n",
       "      <td>39.21</td>\n",
       "      <td>30.66</td>\n",
       "      <td>1.09</td>\n",
       "      <td>13270.42</td>\n",
       "    </tr>\n",
       "    <tr>\n",
       "      <th>std</th>\n",
       "      <td>14.05</td>\n",
       "      <td>6.10</td>\n",
       "      <td>1.21</td>\n",
       "      <td>12110.01</td>\n",
       "    </tr>\n",
       "    <tr>\n",
       "      <th>min</th>\n",
       "      <td>18.00</td>\n",
       "      <td>15.96</td>\n",
       "      <td>0.00</td>\n",
       "      <td>1121.87</td>\n",
       "    </tr>\n",
       "    <tr>\n",
       "      <th>25%</th>\n",
       "      <td>27.00</td>\n",
       "      <td>26.30</td>\n",
       "      <td>0.00</td>\n",
       "      <td>4740.29</td>\n",
       "    </tr>\n",
       "    <tr>\n",
       "      <th>50%</th>\n",
       "      <td>39.00</td>\n",
       "      <td>30.40</td>\n",
       "      <td>1.00</td>\n",
       "      <td>9382.03</td>\n",
       "    </tr>\n",
       "    <tr>\n",
       "      <th>75%</th>\n",
       "      <td>51.00</td>\n",
       "      <td>34.69</td>\n",
       "      <td>2.00</td>\n",
       "      <td>16639.91</td>\n",
       "    </tr>\n",
       "    <tr>\n",
       "      <th>max</th>\n",
       "      <td>64.00</td>\n",
       "      <td>53.13</td>\n",
       "      <td>5.00</td>\n",
       "      <td>63770.43</td>\n",
       "    </tr>\n",
       "  </tbody>\n",
       "</table>\n",
       "</div>"
      ],
      "text/plain": [
       "          age     bmi  children  charges\n",
       "count 1338.00 1338.00   1338.00  1338.00\n",
       "mean    39.21   30.66      1.09 13270.42\n",
       "std     14.05    6.10      1.21 12110.01\n",
       "min     18.00   15.96      0.00  1121.87\n",
       "25%     27.00   26.30      0.00  4740.29\n",
       "50%     39.00   30.40      1.00  9382.03\n",
       "75%     51.00   34.69      2.00 16639.91\n",
       "max     64.00   53.13      5.00 63770.43"
      ]
     },
     "execution_count": 7,
     "metadata": {},
     "output_type": "execute_result"
    }
   ],
   "source": [
    "df_seguro.describe()"
   ]
  },
  {
   "cell_type": "code",
   "execution_count": 8,
   "id": "c1e15b75",
   "metadata": {},
   "outputs": [
    {
     "data": {
      "text/plain": [
       "<Axes: xlabel='age', ylabel='Count'>"
      ]
     },
     "execution_count": 8,
     "metadata": {},
     "output_type": "execute_result"
    },
    {
     "data": {
      "image/png": "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",
      "text/plain": [
       "<Figure size 640x480 with 1 Axes>"
      ]
     },
     "metadata": {},
     "output_type": "display_data"
    }
   ],
   "source": [
    "# Analisando as distribuições das idades\n",
    "sns.set_style(\"darkgrid\")\n",
    "plt.tight_layout()\n",
    "\n",
    "sns.histplot(data=df_seguro, x='age' )"
   ]
  },
  {
   "cell_type": "code",
   "execution_count": 9,
   "id": "c5d0032c",
   "metadata": {},
   "outputs": [
    {
     "data": {
      "text/plain": [
       "age\n",
       "18   5.16\n",
       "19   5.08\n",
       "50   2.17\n",
       "51   2.17\n",
       "47   2.17\n",
       "46   2.17\n",
       "45   2.17\n",
       "20   2.17\n",
       "48   2.17\n",
       "52   2.17\n",
       "22   2.09\n",
       "49   2.09\n",
       "54   2.09\n",
       "53   2.09\n",
       "21   2.09\n",
       "26   2.09\n",
       "24   2.09\n",
       "25   2.09\n",
       "28   2.09\n",
       "27   2.09\n",
       "23   2.09\n",
       "43   2.02\n",
       "29   2.02\n",
       "30   2.02\n",
       "41   2.02\n",
       "42   2.02\n",
       "44   2.02\n",
       "31   2.02\n",
       "40   2.02\n",
       "32   1.94\n",
       "33   1.94\n",
       "56   1.94\n",
       "34   1.94\n",
       "55   1.94\n",
       "57   1.94\n",
       "37   1.87\n",
       "59   1.87\n",
       "58   1.87\n",
       "36   1.87\n",
       "38   1.87\n",
       "35   1.87\n",
       "39   1.87\n",
       "61   1.72\n",
       "60   1.72\n",
       "63   1.72\n",
       "62   1.72\n",
       "64   1.64\n",
       "Name: proportion, dtype: float64"
      ]
     },
     "execution_count": 9,
     "metadata": {},
     "output_type": "execute_result"
    }
   ],
   "source": [
    "df_seguro['age'].value_counts(normalize = True)*100\n",
    "#porcentagem da distribuição etária"
   ]
  },
  {
   "cell_type": "code",
   "execution_count": 10,
   "id": "1350755b",
   "metadata": {},
   "outputs": [
    {
     "data": {
      "text/plain": [
       "<Axes: ylabel='age'>"
      ]
     },
     "execution_count": 10,
     "metadata": {},
     "output_type": "execute_result"
    },
    {
     "data": {
      "image/png": "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",
      "text/plain": [
       "<Figure size 640x480 with 1 Axes>"
      ]
     },
     "metadata": {},
     "output_type": "display_data"
    }
   ],
   "source": [
    "sns.set_style('darkgrid')\n",
    "plt.tight_layout()\n",
    "sns.boxplot(data=df_seguro['age'])"
   ]
  },
  {
   "cell_type": "code",
   "execution_count": 11,
   "id": "80b0fbc2",
   "metadata": {},
   "outputs": [
    {
     "data": {
      "text/plain": [
       "<Axes: xlabel='bmi', ylabel='Count'>"
      ]
     },
     "execution_count": 11,
     "metadata": {},
     "output_type": "execute_result"
    },
    {
     "data": {
      "image/png": "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",
      "text/plain": [
       "<Figure size 640x480 with 1 Axes>"
      ]
     },
     "metadata": {},
     "output_type": "display_data"
    }
   ],
   "source": [
    "# Analisando as distribuições do índice de massa corporal\n",
    "sns.set_style(\"darkgrid\")\n",
    "plt.tight_layout()\n",
    "\n",
    "sns.histplot(data=df_seguro, x='bmi')"
   ]
  },
  {
   "cell_type": "code",
   "execution_count": 12,
   "id": "93c6dfc4",
   "metadata": {},
   "outputs": [
    {
     "data": {
      "text/plain": [
       "<Axes: ylabel='bmi'>"
      ]
     },
     "execution_count": 12,
     "metadata": {},
     "output_type": "execute_result"
    },
    {
     "data": {
      "image/png": "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",
      "text/plain": [
       "<Figure size 640x480 with 1 Axes>"
      ]
     },
     "metadata": {},
     "output_type": "display_data"
    }
   ],
   "source": [
    "sns.set_style('darkgrid')\n",
    "plt.tight_layout()\n",
    "\n",
    "sns.boxplot( data=df_seguro['bmi'])"
   ]
  },
  {
   "cell_type": "code",
   "execution_count": 13,
   "id": "e8261a7b",
   "metadata": {},
   "outputs": [
    {
     "data": {
      "text/plain": [
       "<Axes: xlabel='children', ylabel='count'>"
      ]
     },
     "execution_count": 13,
     "metadata": {},
     "output_type": "execute_result"
    },
    {
     "data": {
      "image/png": "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",
      "text/plain": [
       "<Figure size 640x480 with 1 Axes>"
      ]
     },
     "metadata": {},
     "output_type": "display_data"
    }
   ],
   "source": [
    "# Analisando as quantidades de crianças\n",
    "sns.set_style(\"darkgrid\")\n",
    "plt.tight_layout()\n",
    "\n",
    "sns.countplot(data=df_seguro, x='children')\n"
   ]
  },
  {
   "cell_type": "code",
   "execution_count": 14,
   "id": "d7b4589e",
   "metadata": {},
   "outputs": [
    {
     "data": {
      "text/plain": [
       "<Axes: ylabel='children'>"
      ]
     },
     "execution_count": 14,
     "metadata": {},
     "output_type": "execute_result"
    },
    {
     "data": {
      "image/png": "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",
      "text/plain": [
       "<Figure size 640x480 with 1 Axes>"
      ]
     },
     "metadata": {},
     "output_type": "display_data"
    }
   ],
   "source": [
    "sns.set_style('darkgrid')\n",
    "plt.tight_layout()\n",
    "\n",
    "sns.boxplot (data=df_seguro['children'])"
   ]
  },
  {
   "cell_type": "code",
   "execution_count": 15,
   "id": "ba2ff21f",
   "metadata": {},
   "outputs": [
    {
     "data": {
      "text/plain": [
       "<Axes: xlabel='charges', ylabel='Count'>"
      ]
     },
     "execution_count": 15,
     "metadata": {},
     "output_type": "execute_result"
    },
    {
     "data": {
      "image/png": "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",
      "text/plain": [
       "<Figure size 640x480 with 1 Axes>"
      ]
     },
     "metadata": {},
     "output_type": "display_data"
    }
   ],
   "source": [
    "# Analisando a variável target: valor do seguro\n",
    "sns.histplot(data=df_seguro['charges'])"
   ]
  },
  {
   "cell_type": "code",
   "execution_count": 16,
   "id": "5e91ff83",
   "metadata": {},
   "outputs": [
    {
     "data": {
      "text/plain": [
       "<Axes: ylabel='charges'>"
      ]
     },
     "execution_count": 16,
     "metadata": {},
     "output_type": "execute_result"
    },
    {
     "data": {
      "image/png": "iVBORw0KGgoAAAANSUhEUgAAAkgAAAGFCAYAAAAGgAxYAAAAOXRFWHRTb2Z0d2FyZQBNYXRwbG90bGliIHZlcnNpb24zLjguMywgaHR0cHM6Ly9tYXRwbG90bGliLm9yZy/H5lhTAAAACXBIWXMAAA9hAAAPYQGoP6dpAAA2TElEQVR4nO3de1yUdd7/8fcAcvBAKqdQUUvXUMKBIDQP962uHdzszjB7lLurrm5aefj9rKwQ78QULZTdMjrheixbXdPsp3Vbudvt5m1LhQKZ4WK2yirIDEqQDIzA/P5wmZyR7phEBmZez8ejh8z1+czl95rHjrz3ur7X9zLYbDabAAAAYOfj7gEAAAC0NQQkAAAAJwQkAAAAJwQkAAAAJwQkAAAAJwQkAAAAJwQkAAAAJwQkAAAAJwQkAAAAJ37uHkB7Vl5eJdYhBwCgfTAYpJCQLs3qJSBdAZtNBCQAADwQl9gAAACcEJAAAACcEJAAAACcEJAAAACcEJAAAACcEJAAAACcEJAAAACcEJAAAACcEJAAAACcsJI2APxLfX29CguP6Ny5s+rWrbuiowfJ19fX3cMC4AYEJACQlJNzQBs3rpXJVGbfFhYWrqlTZ2jIkGFuHBkAdzDYbDxN7Kcym3lYLeAJcnIOKDPzWd10081KTp6kqKg+Ki4+oR07tungwc/02GNPEZIAD2AwSKGhzXtYLQHpChCQgPavvr5ec+fOVO/effXEE6ny8fl+amZDQ4MyMtJVXHxCq1e/xuU2oJ1zJSAxSRuAVyssPCKTqUzJyZMcwpEk+fj46J57Jqms7IwKC4+4aYQA3IGABMCrnTt3VpIUFdWnyXrv3r0d+gB4BwISAK/WrVt3SVJx8Ykm6ydPnnToA+AdCEgAvFp09CCFhYVrx45tqqu7oC+//EL79+/Tl19+obq6C3r77W0KD49QdPQgdw8VQCtikvYVYJI24Blycg5o1aoV8vf3l9VqtW9vfP344yncxQZ4ACZpAwAAXAEWigTg1err67Vx41olJCTpscee0t//XmhfSXvAgGhlZj6rTZvWKTFxCLf5A16EM0gAvNqlt/l36NBBMTGxGjHi3xUTE6sOHTpwmz/gpQhIALwat/kDaAoBCYBX4zZ/AE0hIAHwapfe5t/Q0OBQa2ho4DZ/wEsRkAB4NV9fX02dOkMHD36mjIx0HT1aKIulWkePFiojI10HD36mKVOmM0Eb8DKsg3QFWAcJ8Bw5OQe0ceNamUxl9m3h4RGaMmU6ayABHsKVdZAISFeAgAR4lvr6ehUWHrHf5h8dPYgzR4AHISC1EgISAADtBytpAwAAXAFW0gaAf+ESG4BGbj2DZLVatWTJEt18880aNmyYfve736nxit+RI0c0adIkGY1GTZw4UYcPH3Z47+7duzV27FgZjUbNnj1bZ89+v4ibzWbTqlWrNHToUCUlJSkjI8Ph9t1z585p7ty5io+P15gxY/TOO++0zgEDaLNycg5o7tyZSktbqBdeWKW0tIWaO3emcnIOuHtoANzArQFp2bJlOnDggNauXavMzEz96U9/0tatW1VdXa2ZM2cqMTFRO3bsUHx8vGbNmqXq6mpJUkFBgVJTUzVnzhxt3bpVlZWVSklJse93/fr12r17t7KysrR69Wrt2rVL69evt9dTUlJUVVWlrVu36uGHH9aiRYtUUFDQ6scPoG3IyTmgzMxn1bt3X6Wnr9SmTX9SevpK9e7dV5mZzxKSAC/ktknaFRUVGj58uNavX6+kpCRJUnZ2tr755hslJCTolVde0d69e2UwGGSz2XT77bfroYceUnJysp544gn5+Pjo2WeflSSVlJRo9OjR+vDDDxUVFaVRo0Zp3rx5Sk5OliS98847euGFF/SXv/xFJ0+e1K233qo///nP6tWrlyQpNTVV9fX19v01F5O0gfavvr5ec+fOVO/effXEE6ny8fn+/zc2NDQoIyNdxcUntHr1a1xuA9o5VyZpu20OUm5urjp37mwPR5I0c+ZMSdJ//ud/KiEhQQaDQZJkMBh00003KS8vT8nJycrPz9eDDz5of19kZKR69Oih/Px8+fv7q6SkRDfffLO9npCQoFOnTqmsrEz5+fmKjIy0h6PG+muvvebyMfxreADascaH1c6fv0C+vo4n1X19fZScPEmpqQtUWHhEN94Y66ZRAmgJrvzedltAKi4uVs+ePbVz5069+uqrunDhgpKTk/Xwww/LZDKpf//+Dv0hISEqKiqSJJWVlSk8PPyyemlpqUwmkyQ51ENDQyXJXm/qvWfOnHH5GEJCmpdCAbRd9fUWSVJcXIw6dux4Wb1jxxh7X3P/nyeA9s9tAam6ulonTpzQli1btGLFCplMJj399NMKCgqSxWKRv7+/Q7+/v7+sVqskqaam5gfrNTU19teX1qSLk8J/bN+uKC/nEhvQ3vn6BkmS8vK+1IAB0ZfVjx4ttPeZzVWtOjYALctgaP7JDbcFJD8/P3333XfKzMxUz549JUmnT5/WH//4R/Xp0+eywGK1WhUYGChJCggIaLIeFBTkEIYCAgLsP0tSUFDQD763cd+usNlEQALaucaH1W7fvq3JOUg7dnz/sFq+74D3cFtACgsLU0BAgD0cSdJ1112nkpISJSUlyWw2O/SbzWb7pbGIiIgm62FhYYqIiJAkmUwm+zyjxstujfUfei8A79P4sNrMzGeVkbFMcXEJ9rPKeXm5Onjwcz322FNM0Aa8jNtu8zcajaqtrdU333xj33b8+HH17NlTRqNRhw4dsq+JZLPZdPDgQRmNRvt7c3Nz7e8rKSlRSUmJjEajIiIi1KNHD4d6bm6uevToofDwcMXFxenUqVMqLS11qMfFxV3lIwbQVg0ZMkx33XWPDh3K1dq1r+qVV1Zr7dpXdehQru666x4eVgt4IbedQbr++us1atQopaSkKC0tTSaTSdnZ2Xr44Yd1xx13KDMzU+np6br//vu1ZcsWWSwWjRs3TpL0wAMP6Ne//rXi4uIUGxur9PR0jRo1SlFRUfb6qlWrdO2110qSMjMzNX36dElSVFSURowYoQULFig1NVVffPGFdu/erTfeeMM9HwQAt8vJOaBdu95WfHyi4uO/P4N06FCudu16WwMG3EBIAryMWx9WW1VVpaVLl+rDDz9UUFCQJk+erNmzZ8tgMKigoECLFy/W119/rRtuuEFLlizRoEGD7O/dsWOHVq9erW+//VbDhw/X0qVL1a1bN0kX1zXJyMjQjh075Ovrq3vvvVePPfaYfdmA8vJypaam6sCBAwoLC9P8+fM1fvx4l8fPOkhA+8c6SID3cGUdJLcGpPaOgAS0f19++YXS0hYqPX3lD97FtmjRAqWlLVdMDOsgAe2ZKwHJrY8aAQB3O3fu4nMco6L6NFnv3bu3Qx8A70BAAuDVunXrLkkqLj7RZP3kyZMOfQC8AwEJgFdrXAdpx45tamhocKg1NDTo7be/XwcJgPcgIAHwao3rIB08+JkyMtJ19GihLJZqHT1aqIyMdB08+JmmTJnOBG3AyzBJ+wowSRvwHDk5B7Rx41qZTGX2beHhEZoyZTq3+AMegrvYWgkBCfAs9fX1Kiw8onPnzqpbt+6Kjh7EmSPAgxCQWgkBCQCA9oPb/AEAAK4AAQkAAMAJAQkAAMAJAQkAAMAJAQkAAMAJAQkAAMAJAQkAAMCJn7sHAABtBQtFAmhEQAIANf2okbCwcE2dOoNHjQBeiJW0rwAraQOeISfngDIzn9VNN92s5ORJiorqo+LiE9qxY5sOHvxMjz32FCEJ8AA8aqSVEJCA9q++vl5z585U79599cQTqfLx+X5qZkNDgzIy0lVcfEKrV7/G5TagneNRIwDQTIWFR2QylSk5eZJDOJIkHx8f3XPPJJWVnVFh4RE3jRCAOxCQAHi1c+fOSpKiovo0We/du7dDHwDvQEAC4NW6desuSSouPtFk/eTJkw59ALwDAQmAV4uOHqSwsHDt2LFNDQ0NDrWGhga9/fY2hYdHKDp6kJtGCMAdCEgAvJqvr6+mTp2hgwc/U0ZGuo4eLZTFUq2jRwuVkZGugwc/05Qp05mgDXgZ7mK7AtzFBniOptZBCg+P0JQp07nFH/AQ3ObfSghIgGdhJW3AsxGQWgkBCQCA9oN1kAAAAK4Az2IDgH/hEhuARgQkABAPqwXgiDlIV4A5SIBn4GG1gHdgknYrISAB7R8PqwW8B5O0AaCZeFgtgKYQkAB4NR5WC6ApBCQAXo2H1QJoCgEJgFfjYbUAmsIk7SvAJG3AM3x/F1ui4uIS5O/vL6vVqry8XB08+Dl3sQEegrvYWgkBCfAcr7++Xrt373Q4i+Tj46Px4yfo17/+jRtHBqCluBKQWCgSgNfLyTmgXbveVnx8ouLjvz+DdOhQrnbtelsDBtzAGSTAy3AG6QpwBglo/1gHCfAerIMEAM3EOkgAmkJAAuDVWAcJQFPcGpA+/PBD3XDDDQ7/zZs3T5J05MgRTZo0SUajURMnTtThw4cd3rt7926NHTtWRqNRs2fP1tmz3//jZbPZtGrVKg0dOlRJSUnKyMhwmHh57tw5zZ07V/Hx8RozZozeeeed1jlgAG0O6yABaIpbA9KxY8c0evRo7d+/3/7fsmXLVF1drZkzZyoxMVE7duxQfHy8Zs2aperqaklSQUGBUlNTNWfOHG3dulWVlZVKSUmx73f9+vXavXu3srKytHr1au3atUvr16+311NSUlRVVaWtW7fq4Ycf1qJFi1RQUNDqxw/A/VgHCUBT3HoX29dff60BAwYoLCzMYftbb72lgIAAPfHEEzIYDEpNTdVf//pX7dmzR8nJyXrjjTc0btw4TZgwQZKUkZGh0aNHq7i4WFFRUdq0aZPmzZunxMRESdLjjz+uF154QTNmzNDJkyf10Ucf6c9//rN69eqlAQMGKC8vT2+++aYGDx7c2h8BADfz9fXV1KkzlJn5rJ57bpni4hIUEOCv2tqL6yAdOnRxHSQmaAPexe0Badiwy2+dzc/PV0JCggwGgyTJYDDopptuUl5enpKTk5Wfn68HH3zQ3h8ZGakePXooPz9f/v7+Kikp0c0332yvJyQk6NSpUyorK1N+fr4iIyPVq1cvh/prr712FY8UQFs2ZMgw3XXXPdq9e6cOHvzMvt3Hx0d33XUPt/gDXshtAclms+mbb77R/v379dprr6m+vl533HGH5s2bJ5PJpP79+zv0h4SEqKioSJJUVlam8PDwy+qlpaUymUyS5FAPDQ2VJHu9qfeeOXPG5WP4V34D0M797W8X10FqXEn70jNIjesgDR1KSALaO1d+b7stIJ0+fVoWi0X+/v56/vnn9c9//lPLli1TTU2NffulGhduk6SampofrNfU1NhfX1qTJKvV+qP7dkVISPPWUgDQdtXX1+uNN9brlltu0bJlyxxu9f/lL+/TokWLtHnzBo0bN5bLbIAXcVtA6tmzp3JycnTNNdfIYDBo4MCBamho0IIFC5SUlHRZYLFarQoMDJQkBQQENFkPCgpyCEMBAQH2nyUpKCjoB9/buG9XlJezUCTQ3h0+/IVKS0s1b95jKikxa9OmDSopOa3IyB6aMmWa7rzzHqWmLtDHH+foxhtj3T1cAFfAYGj+yQ23zkHq2rWrw+t+/fqptrZWYWFhMpvNDjWz2Wy/NBYREdFkPSwsTBEREZIkk8lkn2fUeNmtsf5D73WVzSYCEtDONa5vtG3bVh069Ll9e0FBnt5//z3Fxyfa+/i+A97Dbbf5f/zxxxoyZIgsFot921dffaWuXbsqISFBhw4dUuNTUGw2mw4ePCij0ShJMhqNys3Ntb+vpKREJSUlMhqNioiIUI8ePRzqubm56tGjh8LDwxUXF6dTp06ptLTUoR4XF3eVjxhAW9S4vtGl4ehSjdtZBwnwLm4LSPHx8QoICNCiRYt0/Phx7du3TxkZGfrtb3+rO+64Q5WVlUpPT9exY8eUnp4ui8WicePGSZIeeOABvfPOO9q2bZsKCwv1xBNPaNSoUYqKirLXV61apZycHOXk5CgzM1NTpkyRJEVFRWnEiBFasGCBCgsLtW3bNu3evVu//OUv3fVRAHCj66+/vkX7AHgGtz6stqioSMuXL1deXp46deqk+++/X7Nnz5bBYFBBQYEWL16sr7/+WjfccIOWLFmiQYO+X6htx44dWr16tb799lsNHz5cS5cuVbdu3SRdnHSZkZGhHTt2yNfXV/fee68ee+wx+7IB5eXlSk1N1YEDBxQWFqb58+dr/PjxLo+fh9UC7d9rr2Vp7973JUm+vn4aOnSY+vXrr6+/Pqa//e2A6uvrJEljx96uWbPmuHOoAK6QKw+rdWtAau8ISED7N3fuTJWWltjvXrt0Ne1Lt117baRefDHbLWME0DJcCUhunaQNAO5WU3NxHqTzY0actzX2AfAOBCQAXi0sLFwVFRWSpC5dumjUqLGKiIjQmTNn9N//vVdVVVX2PgDeg4AEwKtFRfVRUdHfJUlVVVXatevtH+wD4D3cdhcbALQFtbW1LdoHwDMQkAB4Nau1ecGnuX0APAMBCYBXCw7u2qJ9ADwDAQmAVzt//rsW7QPgGQhIALzasWNFLdoHwDMQkAB4tfr6+hbtA+AZCEgAvFqXLp1btA+AZyAgAfBqjY8Taak+AJ6BbzwAr2YwNO+fweb2AfAMfOMBeDXOIAFoCt94AF7NYqlu0T4AnoGABMCr1dTUtGgfAM9AQALg1Tp08G/RPgCegYAEwKv17NmrRfsAeAYCEgCvFhMT26J9ADwDAQmAV7v99jtatA+AZyAgAfBqx44da9E+AJ6BgATAq5lMZS3aB8AzEJAAeLWvvjpi/7ljx07q1q2bOnW6+GfHjp2a7APg+fzcPQAAcKe///0r+8/V1edVXX1eknT+/Pkf7APg+TiDBMCrffvtty3aB8AzEJAAeLXOnTu3aB8Az0BAAuDVDIaW7QPgGQhIALza+fPNewhtc/sAeAYCEgCv1qFDhxbtA+AZCEgAvNrgwXEt2gfAMxCQAHi1AQNuaNE+AJ6BgATAq33++act2gfAMxCQAHi18nJzi/YB8AwEJABerrn373OfP+BNCEgAvFpYWHiL9gHwDAQkAF7tH/843qJ9ADwDAQmAV6usbN4z1prbB8AzEJAAeDVfXz/7zwan54lc+vrSPgCej4AEwKtFRvaw/2yz2Rxql76+tA+A5yMgAfBq1113XYv2AfAMBCQAXi08/NoW7QPgGQhIALxaScnpFu0D4BkISAC82qFDB1u0D4BnaDMBaebMmXrqqafsr48cOaJJkybJaDRq4sSJOnz4sEP/7t27NXbsWBmNRs2ePVtnz56112w2m1atWqWhQ4cqKSlJGRkZamhosNfPnTunuXPnKj4+XmPGjNE777xz9Q8QQJtUV3ehRfsAeIY2EZDeffdd7du3z/66urpaM2fOVGJionbs2KH4+HjNmjVL1dXVkqSCggKlpqZqzpw52rp1qyorK5WSkmJ///r167V7925lZWVp9erV2rVrl9avX2+vp6SkqKqqSlu3btXDDz+sRYsWqaCgoPUOGECb0b179xbtA+AZ3B6QKioqlJGRodjYWPu29957TwEBAXriiSfUr18/paamqlOnTtqzZ48k6Y033tC4ceM0YcIERUdHKyMjQ/v27VNxcbEkadOmTZo3b54SExM1dOhQPf7449q8ebMk6eTJk/roo4+0bNkyDRgwQJMmTdJ//Md/6M0332z9gwfgdpGRPVu0D4BncHtAeu6553T33Xerf//+9m35+flKSEiwL9JmMBh00003KS8vz15PTEy090dGRqpHjx7Kz8/XmTNnVFJSoptvvtleT0hI0KlTp1RWVqb8/HxFRkaqV69eDvVDhw5d5SMF0BZVVTVvhezm9gHwDG5dGvaTTz7R559/rl27diktLc2+3WQyOQQmSQoJCVFRUZEkqaysTOHh4ZfVS0tLZTKZJMmhHhoaKkn2elPvPXPmjMvjN/Bwb6Ddc+UuNr7zQPvmynfYbQGptrZWixcv1tNPP63AwECHmsVikb+/v8M2f39/Wa1WSVJNTc0P1mtqauyvL61JktVq/dF9uyIkpIvL7wHQtlRVVTW7LzSU7zzgLdwWkLKysnTjjTdq5MiRl9UCAgIuCyxWq9UepH6oHhQU5BCGAgIC7D9LUlBQ0I/u2xXl5VVyejIBgHamrq6u2X1mc/PCFIC2yWBo/skNtwWkd999V2azWfHx8ZK+DzHvv/++xo8fL7PZ7NBvNpvtl8YiIiKarIeFhSkiIkLSxct0jfOMGi+7NdZ/6L2ustlEQALauYCAAPuZ5x/r4/sOeA+3TdJ+/fXXtWvXLu3cuVM7d+7UmDFjNGbMGO3cuVNGo1GHDh2yPyjSZrPp4MGDMhqNkiSj0ajc3Fz7vkpKSlRSUiKj0aiIiAj16NHDoZ6bm6sePXooPDxccXFxOnXqlEpLSx3qcXFxrXPgANqUa69t3kNom9sHwDO47QxSz56Ot8x26tRJktSnTx+FhIQoMzNT6enpuv/++7VlyxZZLBaNGzdOkvTAAw/o17/+teLi4hQbG6v09HSNGjVKUVFR9vqqVat07bUXn52UmZmp6dOnS5KioqI0YsQILViwQKmpqfriiy+0e/duvfHGG6116ADakA4dmvfPYHP7AHiGNvmN79y5s1577TUtXrxYf/rTn3TDDTcoOztbHTt2lCTFx8frmWee0erVq/Xtt99q+PDhWrp0qf39M2bMUHl5uebMmSNfX1/de++9mjZtmr2ekZGh1NRU3XfffQoLC9Py5cs1ePDg1j5MAG3AuXMVLdoHwDMYbDauqv9UZjOTtIH27qGHfqPycvOP9oWEhOrVV9f/aB+AtstgULPvRnX7QpEA4E6XPqexJfoAeAYCEgCvVl/fvODT3D4AnoGABMCr+fo2b2nd5vYB8AwEJABe7ZprrmnRPgCegYAEwKt17Ni5RfsAeAYCEgCvVlbWvAdVN7cPgGcgIAHwaq48iw2A9yAgAQAAOCEgAfBqjQ/Kbqk+AJ6BgATAq/n6Nu+fweb2AfAMfOMBeLXu3UNatA+AZ3A5INXV1emPf/yjTp8+LUl64YUXdOedd2rBggWqqKho6fEBwFUVFBTUon0APIPLAenZZ5/Vyy+/rMrKSu3du1dr1qzR3XffrZKSEi1duvRqjBEArpri4pMt2gfAM/i5+ob33ntPL7/8sqKjo7VmzRqNGDFCM2fO1OjRo3X//fdfjTECwFVTW9u8ydfN7QPgGVw+g2SxWBQSEqK6ujr99a9/1ejRoyVdfNK1n5/LeQsA3IpLbACa4nKiuemmm7Ry5Up17txZFotFY8eOVWFhoZYuXaqhQ4dejTECwFVz/fX9lJ9/qFl9ALyHy2eQli1bpgsXLujLL7/UihUrFBISov/6r/9SSEiIFi9efDXGCABXTYcOHVq0D4BncPkMUmRkpF555RWHbfPnz2+xAQFAawoICGzRPgCe4Setg5Sbm6t58+bZ717Lzs7Wu+++29JjA4Cr7vz58y3aB8AzuByQPvjgA82cOVM9e/bUN998o7q6Ovn5+empp57Sm2++eTXGCABXTUnJKfvPPj4+iokZrJEj/10xMYPl4+PTZB8Az+fyJbasrCylpaXprrvu0pYtWyRJ06dPV1hYmFavXq3Jkye3+CAB4Gr57rvv7D83NDToyy8LfrQPgOdzOSCdOHFCcXFxl20fPHiwzpw50xJjArzSmTOlOn+eX8Kt7dKzRMHBwaqsrLzk9TWqrPzW3nf8+LFWH5+369SpsyIirnX3MOCFXA5I/fv318cff3zZmaK3335b/fv3b7GBAd6ksvJbzZ07SzZbg7uH4tUuDUcXX39r/7mqqlJPPskNKa3Nx8dHa9ZsUnDwNe4eCryMwWaz2Vx5w+eff66HHnpIw4YN01/+8hfdfffdOnHihA4fPqxXXnlFt9xyy9Uaa5tjNlfJtU8P+GGcQXKPwsIjWr9+zY/2/eY3Dyo6elArjAiX4gwSWpLBIIWGdmler6sBSZJMJpPefPNNff3116qvr9d1112nyZMnq0ePHi4Ptj0jIAHtX319vaZMuU9W6w8/SsTf31+bNv1Jvr6+rTgyAC3tqgckXERAAjxDTs4BrVq14gfrjz+eoiFDhrXiiABcDVc1II0ZM0YGg6GJv9SgDh06KCwsTOPGjdMDDzzgym7bJQIS4Dlycg5o/fo1Ki8327eFhoZp2rTfEo4AD+FKQHJ5kvavfvUrZWVl6Ve/+pXi4uJks9l0+PBhvf7665o4caLCw8P1yiuv6LvvvtODDz7o8uABwB2GDBmmxMQh+stfPlR29kuaOXO2xoy5lctqgJdyOSDt3LlTS5cu1Z133mnf9vOf/1w33HCDXn31Ve3cuVMDBw7UokWLCEgA2hVfX1/163fxbtx+/foTjgAv5vJK2idPnlR0dPRl23/2s5/p+PHjkqS+ffuqvLz8ykcHAADgBi4HpLi4OL344ouqrq62b6uurtZLL72kwYMHS5L27dunPn36tNwoAQAAWpHLl9iWLl2qWbNmaeTIkerbt69sNptOnDihyMhIvfjii9q/f7+WL1+uF1544WqMFwAA4KpzOSCFhIRo165d+uSTT/T3v/9dvr6++tnPfqZbbrlFBoNB11xzjfbt26fu3btfjfECAABcdS4HpPHjxysrK0sjRozQiBEjLqsTjAAAQHvn8hwkHx8fXbhw4WqMBQAAoE1w+QzSqFGj9Jvf/EajR49Wz5495e/v71CfM2dOiw0OAADAHVwOSEePHlVMTIzKyspUVlbmUGtqhW0AAID2xuWA9Prrr1+NcQAAALQZLgckSfrqq69UVFSkhoYGSZLNZpPVatWRI0e0ZMmSFh0gAABAa3M5IGVlZSkrK0uhoaEqLy9XRESEzGaz6uvrdeutt16NMQIAALQql+9i27p1q5YsWaL9+/crMjJSr7/+ug4cOKBhw4apd+/eV2OMAAAArcrlgHTu3DmNHDlSkjRw4EAdOnRIwcHBmj9/vt577z2X9nXixAnNmDFD8fHxGjVqlP7whz/Ya8XFxZo2bZri4uL0i1/8Qvv373d474EDBzR+/HgZjUZNmTJFxcXFDvUNGzZo5MiRio+P18KFC2WxWOy12tpaLVy4UImJiRoxYoTWrVvn6scAAAA8mMsBKSIiwh5G+vXrpyNHjkiSOnfurLNnzzZ7Pw0NDZo5c6a6deumt99+W0uWLNErr7yiXbt2yWazafbs2QoNDdX27dt19913a86cOTp9+rQk6fTp05o9e7aSk5P11ltvqXv37nrkkUdks9kkSe+//76ysrL0zDPPaOPGjcrPz9fKlSvtf3dGRoYOHz6sjRs3avHixcrKytKePXtc/SgAAICHcnkO0qRJk/Too49q+fLlGjt2rKZNm6bw8HAdOHBA0dHRzd6P2WzWwIEDlZaWps6dO6tv37665ZZblJubq9DQUBUXF2vLli3q2LGj+vXrp08++UTbt2/X3LlztW3bNt14442aPn26JGnFihUaPny4Pv30Uw0ZMkSbNm3S1KlTNXr0aEnSkiVLNGPGDC1YsEA2m03btm3TmjVrFBMTo5iYGBUVFWnz5s264447XP04AACAB3L5DNJDDz2kBQsWKCgoSIMHD1ZKSoreffdd2Ww2LV++vNn7CQ8P1/PPP6/OnTvLZrMpNzdXn332mZKSkpSfn69BgwapY8eO9v6EhATl5eVJkvLz85WYmGivBQUFKSYmRnl5eaqvr9cXX3zhUI+Li9OFCxdUWFiowsJC1dXVKT4+3mHf+fn59rvyAACAd/tJt/lPmDDB/vOkSZM0adKkKxrEmDFjdPr0aY0ePVq33367li9frvDwcIeekJAQlZaWSpJMJtMP1isrK1VbW+tQ9/PzU9euXVVaWiofHx9169bNYQXw0NBQ1dbWqqKiwqVnybEuJuB5Gr/XBgPfccDTuPKddjkgXbhwQTt27FBhYaFqa2vt834arVixwtVdavXq1TKbzUpLS9OKFStksVgue4SJv7+/rFarJP2v9ZqaGvvrpuo2m63JmiT7/psrJKSLS/0A2r6zZztJkrp27aTQUL7jgLdyOSA9/fTT2rNnj4YPH64uXVrmH4/Y2FhJF+8ue/zxxzVx4kSHu86ki+ElMDBQkhQQEHBZmLFarQoODlZAQID9tXM9KChI9fX1TdYk2fffXOXlVXLKhwDauYqK8/Y/zeYqN48GQEsyGJp/csPlgLRnzx69/PLLuuWWW1we2KXMZrPy8vI0duxY+7b+/fvrwoULCgsL0/Hjxy/rb7xs1rg4pXN94MCB6tq1qwICAmQ2m9WvXz9JUl1dnSoqKhQWFiabzaZz586prq5Ofn4XD99kMikwMFDBwcEuHYPNJgIS4GEav9N8vwHv5vIk7S5dulw2/+en+Oc//6k5c+bozJkz9m2HDx9W9+7dlZCQoC+//NJ+uUyScnNzZTQaJUlGo1G5ubn2msVi0ZEjR2Q0GuXj46PY2FiHel5envz8/BQdHa2BAwfKz8/PPuG7cd+xsbHy8XH54wAAAB7I5UTwyCOPKD09XSdPnrxs/pErYmNjFRMTo4ULF+rYsWPat2+fVq5cqYceekhJSUmKjIxUSkqKioqKlJ2drYKCAt17772SpIkTJ+rgwYPKzs5WUVGRUlJS1KtXLw0ZMkSSNHnyZK1du1Z79+5VQUGB0tLSdN999ykoKEhBQUGaMGGC0tLSVFBQoL1792rdunWaMmXKTz4WAADgWQy2ZqSc6OhoGf419bux3eA0Fdxms8lgMOirr75q9l9+5swZLV26VJ988omCgoL0q1/9SrNmzZLBYNCJEyeUmpqq/Px89enTRwsXLtSwYcPs7923b5+WL1+u0tJSxcfHa+nSpYqKirLXs7OztWHDBlmtVt12221avHixfX6SxWJRWlqaPvjgA3Xu3FkzZszQtGnTmj3uRmYzc5AAT3P8+DE9+eR8Pffc73X99f3dPRwALchgULNvvmhWQPr0008dXldXV8vHx0eBgYGy2WxKT0/XY489pqCgICUlJf20UbdDBCTA8xCQAM/lSkBq1iW2pKQk+39Hjx7Vo48+qvLyciUlJWnIkCEaPny45s+fr3/84x9XMm4AAIA2weU5SOvXr1dmZqbuuece+7Ynn3xSK1euVHZ2dosODgAAwB1cDkjnzp1T7969L9t+3XXXXXbrPQAAQHvkckBKSEjQiy++6LCQY21trV599VWH55sBAAC0Vz9pJe3p06drxIgR6tu3ryTp5MmTCg0N1csvv9zS4wMAAGh1Lgek3r1767333tPHH3+sf/zjH/Lz81Pfvn01YsQI+fr6Xo0xAgAAtCqXA5J08eGuP//5z1t6LAAAAG0Cz9YAAABwQkACAABwQkACAABwQkACAABwQkACAABwQkACAABwQkACAABwQkACAABwQkACAABwQkACAABwQkACAABwQkACAABwQkACAABwQkACAABwQkACAABwQkACAABwQkACAABwQkACAABwQkACAABwQkACAABwQkACAABwQkACAABwQkACAABwQkACAABwQkACAABwQkACAABwQkACAABwQkACAABwQkACAABwQkACAABwQkACAABwQkACAABwQkACAABwQkACAABwQkACAABw4taAdObMGc2bN09JSUkaOXKkVqxYodraWklScXGxpk2bpri4OP3iF7/Q/v37Hd574MABjR8/XkajUVOmTFFxcbFDfcOGDRo5cqTi4+O1cOFCWSwWe622tlYLFy5UYmKiRowYoXXr1l39gwUAAO2G2wKSzWbTvHnzZLFYtHnzZv3+97/XRx99pOeff142m02zZ89WaGiotm/frrvvvltz5szR6dOnJUmnT5/W7NmzlZycrLfeekvdu3fXI488IpvNJkl6//33lZWVpWeeeUYbN25Ufn6+Vq5caf+7MzIydPjwYW3cuFGLFy9WVlaW9uzZ45bPAQAAtD1+7vqLjx8/rry8PP3P//yPQkNDJUnz5s3Tc889p3/7t39TcXGxtmzZoo4dO6pfv3765JNPtH37ds2dO1fbtm3TjTfeqOnTp0uSVqxYoeHDh+vTTz/VkCFDtGnTJk2dOlWjR4+WJC1ZskQzZszQggULZLPZtG3bNq1Zs0YxMTGKiYlRUVGRNm/erDvuuMNdHwcAAGhD3HYGKSwsTH/4wx/s4ajRd999p/z8fA0aNEgdO3a0b09ISFBeXp4kKT8/X4mJifZaUFCQYmJilJeXp/r6en3xxRcO9bi4OF24cEGFhYUqLCxUXV2d4uPjHfadn5+vhoaGq3S0AACgPXHbGaTg4GCNHDnS/rqhoUFvvPGGhg4dKpPJpPDwcIf+kJAQlZaWStL/Wq+srFRtba1D3c/PT127dlVpaal8fHzUrVs3+fv72+uhoaGqra1VRUWFunfv3uxjMBhcOmQA7UDj99pg4DsOeBpXvtNuC0jOVq5cqSNHjuitt97Shg0bHAKMJPn7+8tqtUqSLBbLD9Zramrsr5uq22y2JmuS7PtvrpCQLi71A2j7zp7tJEnq2rWTQkP5jgPeqk0EpJUrV2rjxo36/e9/rwEDBiggIEAVFRUOPVarVYGBgZKkgICAy8KM1WpVcHCwAgIC7K+d60FBQaqvr2+yJsm+/+YqL6/Sv+aFA/AQFRXn7X+azVVuHg2AlmQwNP/khtsD0tKlS/XHP/5RK1eu1O233y5JioiI0LFjxxz6zGaz/bJZRESEzGbzZfWBAweqa9euCggIkNlsVr9+/SRJdXV1qqioUFhYmGw2m86dO6e6ujr5+V08fJPJpMDAQAUHB7s0dptNBCTAwzR+p/l+A97NresgZWVlacuWLfrd736nO++8077daDTqyy+/tF8uk6Tc3FwZjUZ7PTc3116zWCw6cuSIjEajfHx8FBsb61DPy8uTn5+foqOjNXDgQPn5+dknfDfuOzY2Vj4+rJsJAADcGJC+/vprvfzyy3rwwQeVkJAgk8lk/y8pKUmRkZFKSUlRUVGRsrOzVVBQoHvvvVeSNHHiRB08eFDZ2dkqKipSSkqKevXqpSFDhkiSJk+erLVr12rv3r0qKChQWlqa7rvvPgUFBSkoKEgTJkxQWlqaCgoKtHfvXq1bt05Tpkxx10cBAADaGIPN5p6TyNnZ2crMzGyydvToUZ04cUKpqanKz89Xnz59tHDhQg0bNszes2/fPi1fvlylpaWKj4/X0qVLFRUV5bD/DRs2yGq16rbbbtPixYvt85MsFovS0tL0wQcfqHPnzpoxY4amTZvm8jGYzcxBAjzN8ePH9OST8/Xcc7/X9df3d/dwALQgg0HNvvnCbQHJExCQAM9DQAI8lysBiUk3AAAATghIAAAATghIAAAATghIAAAATghIAAAATghIAAAATghIAAAATghIAAAATghIAAAATghIAAAATvzcPQC4l8lUpqqqSncPA2gzTp0qdvgTwEVdugQrLCzc3cNoNTyL7Qq092exmUxl+j//92FdsFrdPRQAQBvXwd9fLzz/SrsOSa48i40zSF6sqqpSF6xWWa7/dzUEXuPu4QAA2iifmm+l4/tUVVXZrgOSKwhIUEPgNWroFOruYQAA0GYwSRsAAMAJAQkAAMAJAQkAAMAJAQkAAMAJAQkAAMAJAQkAAMAJAQkAAMAJAQkAAMAJAQkAAMAJAQkAAMAJAQkAAMAJAQkAAMAJAQkAAMAJAQkAAMAJAQkAAMAJAQkAAMAJAQkAAMAJAQkAAMAJAQkAAMAJAQkAAMAJAQkAAMAJAQkAAMAJAQkAAMAJAQkAAMAJAQkAAMAJAQkAAMAJAQkAAMAJAQkAAMBJmwhIVqtV48ePV05Ojn1bcXGxpk2bpri4OP3iF7/Q/v37Hd5z4MABjR8/XkajUVOmTFFxcbFDfcOGDRo5cqTi4+O1cOFCWSwWe622tlYLFy5UYmKiRowYoXXr1l3dAwQAAO2K2wNSbW2tHn30URUVFdm32Ww2zZ49W6Ghodq+fbvuvvtuzZkzR6dPn5YknT59WrNnz1ZycrLeeustde/eXY888ohsNpsk6f3331dWVpaeeeYZbdy4Ufn5+Vq5cqV9/xkZGTp8+LA2btyoxYsXKysrS3v27GndAwcAAG2WWwPSsWPHdN999+nkyZMO2//2t7+puLhYzzzzjPr166dZs2YpLi5O27dvlyRt27ZNN954o6ZPn66f/exnWrFihU6dOqVPP/1UkrRp0yZNnTpVo0eP1uDBg7VkyRJt375dFotF1dXV2rZtm1JTUxUTE6Nbb71Vv/3tb7V58+ZWP34AANA2uTUgffrppxoyZIi2bt3qsD0/P1+DBg1Sx44d7dsSEhKUl5dnrycmJtprQUFBiomJUV5enurr6/XFF1841OPi4nThwgUVFhaqsLBQdXV1io+Pd9h3fn6+GhoartKRAgCA9sTPnX/55MmTm9xuMpkUHh7usC0kJESlpaU/Wq+srFRtba1D3c/PT127dlVpaal8fHzUrVs3+fv72+uhoaGqra1VRUWFunfv3uzxGwzNbm2T2vv4AQCty2Bo3787XBm7WwPSD7FYLA4BRpL8/f1ltVp/tF5TU2N/3VTdZrM1WZNk339zhYR0cam/rTl7tpO7hwAAaEe6du2k0ND2/buvudpkQAoICFBFRYXDNqvVqsDAQHvdOcxYrVYFBwcrICDA/tq5HhQUpPr6+iZrkuz7b67y8ir9a154u1RRcd7dQwAAtCMVFedlNle5exg/mcHQ/JMbbTIgRURE6NixYw7bzGaz/bJZRESEzGbzZfWBAweqa9euCggIkNlsVr9+/SRJdXV1qqioUFhYmGw2m86dO6e6ujr5+V08fJPJpMDAQAUHB7s0TptN7TogNY7dx1Lh1nEAANq2xt8T7f33nivaZEAyGo3Kzs5WTU2N/axObm6uEhIS7PXc3Fx7v8Vi0ZEjRzRnzhz5+PgoNjZWubm5GjJkiCQpLy9Pfn5+io6OlnRxTlJeXp59Indubq5iY2Pl4+P2VQ/cIuibv7p7CAAAtCltMiAlJSUpMjJSKSkpeuSRR/TRRx+poKBAK1askCRNnDhRa9euVXZ2tkaPHq2XXnpJvXr1sgeiyZMn6+mnn9aAAQMUHh6utLQ03XfffQoKCpIkTZgwQWlpaVq+fLnKysq0bt06+769keW6f1NDUFd3DwMA0Eb5WCq87v9Mt8mA5Ovrq5dfflmpqalKTk5Wnz599NJLL6lHjx6SpF69eunFF1/U8uXL9dJLLyk+Pl4vvfSSDP+ann7nnXfq1KlTevrpp2W1WnXbbbdpwYIF9v2npKQoLS1NU6dOVefOnTV37lzddtttbjnWtqAhqKsaOoW6exgAALQZBpvNW64mtjyzuX1P0j5+/JiefHK+zg/6DwISAOAH+Zw3q9OR/6fnnvu9rr++v7uH85MZDGr2XXjeOekGAADgf0FAAgAAcEJAAgAAcEJAAgAAcEJAAgAAcEJAAgAAcEJAAgAAcEJAAgAAcEJAAgAAcEJAAgAAcEJAAgAAcEJAAgAAcEJAAgAAcEJAAgAAcEJAAgAAcEJAAgAAcEJAAgAAcEJAAgAAcEJAAgAAcEJAAgAAcOLn7gHA/XxqvnX3EAAAbZg3/p4gIHmxLl2C1cHfXzq+z91DAQC0cR38/dWlS7C7h9FqDDabzebuQbRXZnOV2vunZzKVqaqq0t3DANqMU6eKtXr17zRv3qPq2TPK3cMB2owuXYIVFhbu7mFcEYNBCg3t0qxeziB5ubCw8Hb/P3jgaujZM0rXX9/f3cMA4CZM0gYAAHBCQAIAAHBCQAIAAHBCQAIAAHBCQAIAAHBCQAIAAHBCQAIAAHBCQAIAAHBCQAIAAHBCQAIAAHBCQAIAAHBCQAIAAHBCQAIAAHBCQAIAAHBCQAIAAHDi5+4BALjozJlSnT//nbuH4fVOnSp2+BPu1alTZ0VEXOvuYcALGWw2m83dg2ivzOYq8emhJVRWfqvf/naKbLYGdw8FaFN8fHy0Zs0mBQdf4+6hwAMYDFJoaJfm9XprQKqtrdWSJUv0wQcfKDAwUNOnT9f06dNd2gcBCS2JM0jA5TiDhJbkSkDy2ktsGRkZOnz4sDZu3KjTp0/rySefVI8ePXTHHXe4e2jwUvwSAIC2wysDUnV1tbZt26Y1a9YoJiZGMTExKioq0ubNmwlIAADAO+9iKywsVF1dneLj4+3bEhISlJ+fr4YG5oAAAODtvPIMkslkUrdu3eTv72/fFhoaqtraWlVUVKh79+7N2o/BcLVGCAAAWporv7e9MiBZLBaHcCTJ/tpqtTZ7PyEhzZvoBQAA2hevDEgBAQGXBaHG14GBgc3eT3k5d7EBANBeGAzNP7nhlQEpIiJC586dU11dnfz8Ln4EJpNJgYGBCg4ObvZ+bDYRkAAA8EBeOUl74MCB8vPzU15enn1bbm6uYmNj5ePjlR8JAAC4hFemgaCgIE2YMEFpaWkqKCjQ3r17tW7dOk2ZMsXdQwMAAG2A166kbbFYlJaWpg8++ECdO3fWjBkzNG3aNJf2wUraAAC0HzxqpJUQkAAAaD9cCUheeYkNAADgf0NAAgAAcEJAAgAAcOKV6yC1FB41AgBA++HK720maQMAADjhEhsAAIATAhIAAIATAhIAAIATAhIAAIATAhIAAIATAhIAAIATAhIAAIATAhIAAIATAhIAAICT/w+pI3J5mwqTiAAAAABJRU5ErkJggg==",
      "text/plain": [
       "<Figure size 640x480 with 1 Axes>"
      ]
     },
     "metadata": {},
     "output_type": "display_data"
    }
   ],
   "source": [
    "sns.boxplot( data=df_seguro['charges'])"
   ]
  },
  {
   "cell_type": "markdown",
   "id": "d4581905",
   "metadata": {},
   "source": [
    "## <a> Relação entre as features e a variável target </a>\n",
    "\n",
    "Avaliar relações entre as variáveis preditoras com a target. Vamos analisar as dispersões das variáveis preditoras com o valor do seguro.\n",
    "## <a> Relation between features and target variable </a>"
   ]
  },
  {
   "cell_type": "code",
   "execution_count": 17,
   "id": "feb6d356",
   "metadata": {},
   "outputs": [
    {
     "data": {
      "text/plain": [
       "<seaborn.axisgrid.PairGrid at 0x1b73dd6d2d0>"
      ]
     },
     "execution_count": 17,
     "metadata": {},
     "output_type": "execute_result"
    },
    {
     "data": {
      "image/png": "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",
      "text/plain": [
       "<Figure size 1000x1000 with 20 Axes>"
      ]
     },
     "metadata": {},
     "output_type": "display_data"
    }
   ],
   "source": [
    "# O pairplot faz gráficos de dispersão para os pares de variáveis (incluindo a target)\n",
    "# Na diagonal principal ele mostra o histograma\n",
    "sns.pairplot(data=df_seguro)"
   ]
  },
  {
   "cell_type": "markdown",
   "id": "6ef9953b",
   "metadata": {},
   "source": [
    "Fica evidente uma correlação positiva entre idade e as cobranças de planos de saúde (age x charges). Provavelmente será uma variável de importância no modelo preditivo"
   ]
  },
  {
   "cell_type": "code",
   "execution_count": 18,
   "id": "f2fbdba1",
   "metadata": {},
   "outputs": [],
   "source": [
    "#mais análises entre a relação da faixa etária coma tarifa\n",
    "df_seguro_idade = df_seguro.copy()\n"
   ]
  },
  {
   "cell_type": "code",
   "execution_count": 19,
   "id": "554a057d",
   "metadata": {},
   "outputs": [
    {
     "data": {
      "text/html": [
       "<div>\n",
       "<style scoped>\n",
       "    .dataframe tbody tr th:only-of-type {\n",
       "        vertical-align: middle;\n",
       "    }\n",
       "\n",
       "    .dataframe tbody tr th {\n",
       "        vertical-align: top;\n",
       "    }\n",
       "\n",
       "    .dataframe thead th {\n",
       "        text-align: right;\n",
       "    }\n",
       "</style>\n",
       "<table border=\"1\" class=\"dataframe\">\n",
       "  <thead>\n",
       "    <tr style=\"text-align: right;\">\n",
       "      <th></th>\n",
       "      <th>age</th>\n",
       "      <th>sex</th>\n",
       "      <th>bmi</th>\n",
       "      <th>children</th>\n",
       "      <th>smoker</th>\n",
       "      <th>region</th>\n",
       "      <th>charges</th>\n",
       "      <th>Menor_30</th>\n",
       "      <th>30 a 59</th>\n",
       "      <th>Maior_60</th>\n",
       "    </tr>\n",
       "  </thead>\n",
       "  <tbody>\n",
       "    <tr>\n",
       "      <th>0</th>\n",
       "      <td>19</td>\n",
       "      <td>female</td>\n",
       "      <td>27.90</td>\n",
       "      <td>0</td>\n",
       "      <td>yes</td>\n",
       "      <td>southwest</td>\n",
       "      <td>16884.92</td>\n",
       "      <td>True</td>\n",
       "      <td>True</td>\n",
       "      <td>False</td>\n",
       "    </tr>\n",
       "    <tr>\n",
       "      <th>1</th>\n",
       "      <td>18</td>\n",
       "      <td>male</td>\n",
       "      <td>33.77</td>\n",
       "      <td>1</td>\n",
       "      <td>no</td>\n",
       "      <td>southeast</td>\n",
       "      <td>1725.55</td>\n",
       "      <td>True</td>\n",
       "      <td>True</td>\n",
       "      <td>False</td>\n",
       "    </tr>\n",
       "    <tr>\n",
       "      <th>2</th>\n",
       "      <td>28</td>\n",
       "      <td>male</td>\n",
       "      <td>33.00</td>\n",
       "      <td>3</td>\n",
       "      <td>no</td>\n",
       "      <td>southeast</td>\n",
       "      <td>4449.46</td>\n",
       "      <td>True</td>\n",
       "      <td>True</td>\n",
       "      <td>False</td>\n",
       "    </tr>\n",
       "    <tr>\n",
       "      <th>3</th>\n",
       "      <td>33</td>\n",
       "      <td>male</td>\n",
       "      <td>22.70</td>\n",
       "      <td>0</td>\n",
       "      <td>no</td>\n",
       "      <td>northwest</td>\n",
       "      <td>21984.47</td>\n",
       "      <td>False</td>\n",
       "      <td>False</td>\n",
       "      <td>False</td>\n",
       "    </tr>\n",
       "    <tr>\n",
       "      <th>4</th>\n",
       "      <td>32</td>\n",
       "      <td>male</td>\n",
       "      <td>28.88</td>\n",
       "      <td>0</td>\n",
       "      <td>no</td>\n",
       "      <td>northwest</td>\n",
       "      <td>3866.86</td>\n",
       "      <td>False</td>\n",
       "      <td>False</td>\n",
       "      <td>False</td>\n",
       "    </tr>\n",
       "  </tbody>\n",
       "</table>\n",
       "</div>"
      ],
      "text/plain": [
       "   age     sex   bmi  children smoker     region  charges  Menor_30  30 a 59  \\\n",
       "0   19  female 27.90         0    yes  southwest 16884.92      True     True   \n",
       "1   18    male 33.77         1     no  southeast  1725.55      True     True   \n",
       "2   28    male 33.00         3     no  southeast  4449.46      True     True   \n",
       "3   33    male 22.70         0     no  northwest 21984.47     False    False   \n",
       "4   32    male 28.88         0     no  northwest  3866.86     False    False   \n",
       "\n",
       "   Maior_60  \n",
       "0     False  \n",
       "1     False  \n",
       "2     False  \n",
       "3     False  \n",
       "4     False  "
      ]
     },
     "execution_count": 19,
     "metadata": {},
     "output_type": "execute_result"
    }
   ],
   "source": [
    "df_seguro_idade ['Menor_30']= df_seguro_idade['age']<30\n",
    "df_seguro_idade ['30 a 59'] = (df_seguro_idade['age']<30) & (df_seguro_idade['age']<=59)\n",
    "df_seguro_idade ['Maior_60'] = df_seguro_idade['age']>= 60   \n",
    "df_seguro_idade.head()"
   ]
  },
  {
   "cell_type": "code",
   "execution_count": 20,
   "id": "7d076c4c",
   "metadata": {},
   "outputs": [
    {
     "data": {
      "image/png": "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",
      "text/plain": [
       "<Figure size 1800x800 with 3 Axes>"
      ]
     },
     "metadata": {},
     "output_type": "display_data"
    }
   ],
   "source": [
    "#boxplot comparativo \n",
    "menor_30 = df_seguro_idade[df_seguro_idade ['Menor_30']]\n",
    "entre_30_59 = df_seguro_idade[df_seguro_idade ['30 a 59']]\n",
    "maior_60 = df_seguro_idade[df_seguro_idade['Maior_60']]\n",
    "\n",
    "\n",
    "faixa_etaria = [menor_30, entre_30_59, maior_60 ]\n",
    "titulos_x= ['menor_30', 'entre_30_59', 'maior_60' ]\n",
    "\n",
    "\n",
    "sns.set_style('darkgrid')\n",
    "fig, axs = plt.subplots(1, 3, sharey = True, figsize = (18,8))\n",
    "fig.tight_layout(pad=5.0)\n",
    "\n",
    "for i, (df, nome) in enumerate(zip(faixa_etaria,titulos_x)):\n",
    "    df = faixa_etaria[i]\n",
    "    sns.boxplot(data = df, y='charges', ax = axs[i])\n",
    "    axs[i].set_xlabel(titulos_x[i])\n",
    "    axs[i].set_ylabel('Tarifas')\n",
    "\n"
   ]
  },
  {
   "cell_type": "code",
   "execution_count": 21,
   "id": "9aa7346b",
   "metadata": {},
   "outputs": [
    {
     "data": {
      "image/png": "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",
      "text/plain": [
       "<Figure size 2000x600 with 4 Axes>"
      ]
     },
     "metadata": {},
     "output_type": "display_data"
    }
   ],
   "source": [
    "#analisando a relação das demais variáveis com charges\n",
    "colunas_ind_discretas = ['sex', 'children', 'smoker' ,'region']\n",
    "# Analisando as notas por nivel instrução pais\n",
    "sns.set_style(\"darkgrid\")\n",
    "figura, graficos = plt.subplots(1, 4, sharey=True, figsize=(20,6))\n",
    "plt.tight_layout()\n",
    "\n",
    "for i, coluna in enumerate(colunas_ind_discretas):\n",
    "    coluna = colunas_ind_discretas[i]\n",
    "    sns.boxplot(data=df_seguro_idade, y='charges', x=coluna, ax=graficos[i])"
   ]
  },
  {
   "cell_type": "code",
   "execution_count": 22,
   "id": "5e62e37c",
   "metadata": {},
   "outputs": [],
   "source": [
    "#fica óbvia a correlação entre 'smoker' e 'charges'"
   ]
  },
  {
   "cell_type": "markdown",
   "id": "62d2f0f2",
   "metadata": {},
   "source": [
    "## <a> Codificação de Variáveis Categóricas </a>\n",
    "\n",
    "#ajuda a perceber se existe multicolinearidade.\n",
    "Como há apenas variáveis nominais, será utilizado One Hot Encoder\n",
    "\n",
    "## <a> Categorical Variable Coding </a>\n",
    "\n",
    "#helps to understand if there is multicollinearity.\n",
    "As there are only nominal variables, One Hot Encoder will be used\n"
   ]
  },
  {
   "cell_type": "code",
   "execution_count": 23,
   "id": "6643d960",
   "metadata": {},
   "outputs": [
    {
     "data": {
      "text/html": [
       "<div>\n",
       "<style scoped>\n",
       "    .dataframe tbody tr th:only-of-type {\n",
       "        vertical-align: middle;\n",
       "    }\n",
       "\n",
       "    .dataframe tbody tr th {\n",
       "        vertical-align: top;\n",
       "    }\n",
       "\n",
       "    .dataframe thead th {\n",
       "        text-align: right;\n",
       "    }\n",
       "</style>\n",
       "<table border=\"1\" class=\"dataframe\">\n",
       "  <thead>\n",
       "    <tr style=\"text-align: right;\">\n",
       "      <th></th>\n",
       "      <th>age</th>\n",
       "      <th>sex</th>\n",
       "      <th>bmi</th>\n",
       "      <th>children</th>\n",
       "      <th>smoker</th>\n",
       "      <th>region</th>\n",
       "      <th>charges</th>\n",
       "    </tr>\n",
       "  </thead>\n",
       "  <tbody>\n",
       "    <tr>\n",
       "      <th>0</th>\n",
       "      <td>19</td>\n",
       "      <td>female</td>\n",
       "      <td>27.90</td>\n",
       "      <td>0</td>\n",
       "      <td>yes</td>\n",
       "      <td>southwest</td>\n",
       "      <td>16884.92</td>\n",
       "    </tr>\n",
       "    <tr>\n",
       "      <th>1</th>\n",
       "      <td>18</td>\n",
       "      <td>male</td>\n",
       "      <td>33.77</td>\n",
       "      <td>1</td>\n",
       "      <td>no</td>\n",
       "      <td>southeast</td>\n",
       "      <td>1725.55</td>\n",
       "    </tr>\n",
       "    <tr>\n",
       "      <th>2</th>\n",
       "      <td>28</td>\n",
       "      <td>male</td>\n",
       "      <td>33.00</td>\n",
       "      <td>3</td>\n",
       "      <td>no</td>\n",
       "      <td>southeast</td>\n",
       "      <td>4449.46</td>\n",
       "    </tr>\n",
       "    <tr>\n",
       "      <th>3</th>\n",
       "      <td>33</td>\n",
       "      <td>male</td>\n",
       "      <td>22.70</td>\n",
       "      <td>0</td>\n",
       "      <td>no</td>\n",
       "      <td>northwest</td>\n",
       "      <td>21984.47</td>\n",
       "    </tr>\n",
       "    <tr>\n",
       "      <th>4</th>\n",
       "      <td>32</td>\n",
       "      <td>male</td>\n",
       "      <td>28.88</td>\n",
       "      <td>0</td>\n",
       "      <td>no</td>\n",
       "      <td>northwest</td>\n",
       "      <td>3866.86</td>\n",
       "    </tr>\n",
       "  </tbody>\n",
       "</table>\n",
       "</div>"
      ],
      "text/plain": [
       "   age     sex   bmi  children smoker     region  charges\n",
       "0   19  female 27.90         0    yes  southwest 16884.92\n",
       "1   18    male 33.77         1     no  southeast  1725.55\n",
       "2   28    male 33.00         3     no  southeast  4449.46\n",
       "3   33    male 22.70         0     no  northwest 21984.47\n",
       "4   32    male 28.88         0     no  northwest  3866.86"
      ]
     },
     "execution_count": 23,
     "metadata": {},
     "output_type": "execute_result"
    }
   ],
   "source": [
    "df_seguro.head()"
   ]
  },
  {
   "cell_type": "code",
   "execution_count": 24,
   "id": "485b9385",
   "metadata": {},
   "outputs": [
    {
     "data": {
      "text/html": [
       "<div>\n",
       "<style scoped>\n",
       "    .dataframe tbody tr th:only-of-type {\n",
       "        vertical-align: middle;\n",
       "    }\n",
       "\n",
       "    .dataframe tbody tr th {\n",
       "        vertical-align: top;\n",
       "    }\n",
       "\n",
       "    .dataframe thead th {\n",
       "        text-align: right;\n",
       "    }\n",
       "</style>\n",
       "<table border=\"1\" class=\"dataframe\">\n",
       "  <thead>\n",
       "    <tr style=\"text-align: right;\">\n",
       "      <th></th>\n",
       "      <th>age</th>\n",
       "      <th>sex</th>\n",
       "      <th>bmi</th>\n",
       "      <th>children</th>\n",
       "      <th>smoker</th>\n",
       "      <th>region</th>\n",
       "      <th>charges</th>\n",
       "      <th>female</th>\n",
       "    </tr>\n",
       "  </thead>\n",
       "  <tbody>\n",
       "    <tr>\n",
       "      <th>0</th>\n",
       "      <td>19</td>\n",
       "      <td>female</td>\n",
       "      <td>27.90</td>\n",
       "      <td>0</td>\n",
       "      <td>1</td>\n",
       "      <td>southwest</td>\n",
       "      <td>16884.92</td>\n",
       "      <td>1</td>\n",
       "    </tr>\n",
       "    <tr>\n",
       "      <th>1</th>\n",
       "      <td>18</td>\n",
       "      <td>male</td>\n",
       "      <td>33.77</td>\n",
       "      <td>1</td>\n",
       "      <td>0</td>\n",
       "      <td>southeast</td>\n",
       "      <td>1725.55</td>\n",
       "      <td>0</td>\n",
       "    </tr>\n",
       "    <tr>\n",
       "      <th>2</th>\n",
       "      <td>28</td>\n",
       "      <td>male</td>\n",
       "      <td>33.00</td>\n",
       "      <td>3</td>\n",
       "      <td>0</td>\n",
       "      <td>southeast</td>\n",
       "      <td>4449.46</td>\n",
       "      <td>0</td>\n",
       "    </tr>\n",
       "    <tr>\n",
       "      <th>3</th>\n",
       "      <td>33</td>\n",
       "      <td>male</td>\n",
       "      <td>22.70</td>\n",
       "      <td>0</td>\n",
       "      <td>0</td>\n",
       "      <td>northwest</td>\n",
       "      <td>21984.47</td>\n",
       "      <td>0</td>\n",
       "    </tr>\n",
       "    <tr>\n",
       "      <th>4</th>\n",
       "      <td>32</td>\n",
       "      <td>male</td>\n",
       "      <td>28.88</td>\n",
       "      <td>0</td>\n",
       "      <td>0</td>\n",
       "      <td>northwest</td>\n",
       "      <td>3866.86</td>\n",
       "      <td>0</td>\n",
       "    </tr>\n",
       "  </tbody>\n",
       "</table>\n",
       "</div>"
      ],
      "text/plain": [
       "   age     sex   bmi  children  smoker     region  charges  female\n",
       "0   19  female 27.90         0       1  southwest 16884.92       1\n",
       "1   18    male 33.77         1       0  southeast  1725.55       0\n",
       "2   28    male 33.00         3       0  southeast  4449.46       0\n",
       "3   33    male 22.70         0       0  northwest 21984.47       0\n",
       "4   32    male 28.88         0       0  northwest  3866.86       0"
      ]
     },
     "execution_count": 24,
     "metadata": {},
     "output_type": "execute_result"
    }
   ],
   "source": [
    "df_seguro['female'] = df_seguro['sex'].map({'female': 1, 'male': 0})\n",
    "df_seguro['smoker'] = df_seguro['smoker'].map({'yes': 1, 'no': 0})\n",
    "df_seguro.head()"
   ]
  },
  {
   "cell_type": "code",
   "execution_count": 25,
   "id": "25d642a4",
   "metadata": {},
   "outputs": [
    {
     "data": {
      "text/html": [
       "<div>\n",
       "<style scoped>\n",
       "    .dataframe tbody tr th:only-of-type {\n",
       "        vertical-align: middle;\n",
       "    }\n",
       "\n",
       "    .dataframe tbody tr th {\n",
       "        vertical-align: top;\n",
       "    }\n",
       "\n",
       "    .dataframe thead th {\n",
       "        text-align: right;\n",
       "    }\n",
       "</style>\n",
       "<table border=\"1\" class=\"dataframe\">\n",
       "  <thead>\n",
       "    <tr style=\"text-align: right;\">\n",
       "      <th></th>\n",
       "      <th>age</th>\n",
       "      <th>bmi</th>\n",
       "      <th>children</th>\n",
       "      <th>smoker</th>\n",
       "      <th>region</th>\n",
       "      <th>charges</th>\n",
       "      <th>female</th>\n",
       "    </tr>\n",
       "  </thead>\n",
       "  <tbody>\n",
       "    <tr>\n",
       "      <th>0</th>\n",
       "      <td>19</td>\n",
       "      <td>27.90</td>\n",
       "      <td>0</td>\n",
       "      <td>1</td>\n",
       "      <td>southwest</td>\n",
       "      <td>16884.92</td>\n",
       "      <td>1</td>\n",
       "    </tr>\n",
       "    <tr>\n",
       "      <th>1</th>\n",
       "      <td>18</td>\n",
       "      <td>33.77</td>\n",
       "      <td>1</td>\n",
       "      <td>0</td>\n",
       "      <td>southeast</td>\n",
       "      <td>1725.55</td>\n",
       "      <td>0</td>\n",
       "    </tr>\n",
       "    <tr>\n",
       "      <th>2</th>\n",
       "      <td>28</td>\n",
       "      <td>33.00</td>\n",
       "      <td>3</td>\n",
       "      <td>0</td>\n",
       "      <td>southeast</td>\n",
       "      <td>4449.46</td>\n",
       "      <td>0</td>\n",
       "    </tr>\n",
       "    <tr>\n",
       "      <th>3</th>\n",
       "      <td>33</td>\n",
       "      <td>22.70</td>\n",
       "      <td>0</td>\n",
       "      <td>0</td>\n",
       "      <td>northwest</td>\n",
       "      <td>21984.47</td>\n",
       "      <td>0</td>\n",
       "    </tr>\n",
       "    <tr>\n",
       "      <th>4</th>\n",
       "      <td>32</td>\n",
       "      <td>28.88</td>\n",
       "      <td>0</td>\n",
       "      <td>0</td>\n",
       "      <td>northwest</td>\n",
       "      <td>3866.86</td>\n",
       "      <td>0</td>\n",
       "    </tr>\n",
       "  </tbody>\n",
       "</table>\n",
       "</div>"
      ],
      "text/plain": [
       "   age   bmi  children  smoker     region  charges  female\n",
       "0   19 27.90         0       1  southwest 16884.92       1\n",
       "1   18 33.77         1       0  southeast  1725.55       0\n",
       "2   28 33.00         3       0  southeast  4449.46       0\n",
       "3   33 22.70         0       0  northwest 21984.47       0\n",
       "4   32 28.88         0       0  northwest  3866.86       0"
      ]
     },
     "execution_count": 25,
     "metadata": {},
     "output_type": "execute_result"
    }
   ],
   "source": [
    "df_seguro = df_seguro.drop('sex', axis=1)\n",
    "df_seguro.head()"
   ]
  },
  {
   "cell_type": "code",
   "execution_count": 26,
   "id": "fb15ae3b",
   "metadata": {},
   "outputs": [
    {
     "data": {
      "text/plain": [
       "array(['southwest', 'southeast', 'northwest', 'northeast'], dtype=object)"
      ]
     },
     "execution_count": 26,
     "metadata": {},
     "output_type": "execute_result"
    }
   ],
   "source": [
    "df_seguro['region'].unique()"
   ]
  },
  {
   "cell_type": "code",
   "execution_count": 27,
   "id": "66619f3e",
   "metadata": {
    "scrolled": true
   },
   "outputs": [
    {
     "data": {
      "text/html": [
       "<div>\n",
       "<style scoped>\n",
       "    .dataframe tbody tr th:only-of-type {\n",
       "        vertical-align: middle;\n",
       "    }\n",
       "\n",
       "    .dataframe tbody tr th {\n",
       "        vertical-align: top;\n",
       "    }\n",
       "\n",
       "    .dataframe thead th {\n",
       "        text-align: right;\n",
       "    }\n",
       "</style>\n",
       "<table border=\"1\" class=\"dataframe\">\n",
       "  <thead>\n",
       "    <tr style=\"text-align: right;\">\n",
       "      <th></th>\n",
       "      <th>northwest</th>\n",
       "      <th>southeast</th>\n",
       "      <th>southwest</th>\n",
       "    </tr>\n",
       "  </thead>\n",
       "  <tbody>\n",
       "    <tr>\n",
       "      <th>0</th>\n",
       "      <td>False</td>\n",
       "      <td>False</td>\n",
       "      <td>True</td>\n",
       "    </tr>\n",
       "    <tr>\n",
       "      <th>1</th>\n",
       "      <td>False</td>\n",
       "      <td>True</td>\n",
       "      <td>False</td>\n",
       "    </tr>\n",
       "    <tr>\n",
       "      <th>2</th>\n",
       "      <td>False</td>\n",
       "      <td>True</td>\n",
       "      <td>False</td>\n",
       "    </tr>\n",
       "    <tr>\n",
       "      <th>3</th>\n",
       "      <td>True</td>\n",
       "      <td>False</td>\n",
       "      <td>False</td>\n",
       "    </tr>\n",
       "    <tr>\n",
       "      <th>4</th>\n",
       "      <td>True</td>\n",
       "      <td>False</td>\n",
       "      <td>False</td>\n",
       "    </tr>\n",
       "  </tbody>\n",
       "</table>\n",
       "</div>"
      ],
      "text/plain": [
       "   northwest  southeast  southwest\n",
       "0      False      False       True\n",
       "1      False       True      False\n",
       "2      False       True      False\n",
       "3       True      False      False\n",
       "4       True      False      False"
      ]
     },
     "execution_count": 27,
     "metadata": {},
     "output_type": "execute_result"
    }
   ],
   "source": [
    "# Para as regiões será usado OHE\n",
    "colunas_regiao = pd.get_dummies(df_seguro['region'], drop_first=True)\n",
    "colunas_regiao.head()"
   ]
  },
  {
   "cell_type": "code",
   "execution_count": 28,
   "id": "8f1344bb",
   "metadata": {},
   "outputs": [
    {
     "data": {
      "text/html": [
       "<div>\n",
       "<style scoped>\n",
       "    .dataframe tbody tr th:only-of-type {\n",
       "        vertical-align: middle;\n",
       "    }\n",
       "\n",
       "    .dataframe tbody tr th {\n",
       "        vertical-align: top;\n",
       "    }\n",
       "\n",
       "    .dataframe thead th {\n",
       "        text-align: right;\n",
       "    }\n",
       "</style>\n",
       "<table border=\"1\" class=\"dataframe\">\n",
       "  <thead>\n",
       "    <tr style=\"text-align: right;\">\n",
       "      <th></th>\n",
       "      <th>age</th>\n",
       "      <th>bmi</th>\n",
       "      <th>children</th>\n",
       "      <th>smoker</th>\n",
       "      <th>region</th>\n",
       "      <th>charges</th>\n",
       "      <th>female</th>\n",
       "      <th>northwest</th>\n",
       "      <th>southeast</th>\n",
       "      <th>southwest</th>\n",
       "    </tr>\n",
       "  </thead>\n",
       "  <tbody>\n",
       "    <tr>\n",
       "      <th>0</th>\n",
       "      <td>19</td>\n",
       "      <td>27.90</td>\n",
       "      <td>0</td>\n",
       "      <td>1</td>\n",
       "      <td>southwest</td>\n",
       "      <td>16884.92</td>\n",
       "      <td>1</td>\n",
       "      <td>False</td>\n",
       "      <td>False</td>\n",
       "      <td>True</td>\n",
       "    </tr>\n",
       "    <tr>\n",
       "      <th>1</th>\n",
       "      <td>18</td>\n",
       "      <td>33.77</td>\n",
       "      <td>1</td>\n",
       "      <td>0</td>\n",
       "      <td>southeast</td>\n",
       "      <td>1725.55</td>\n",
       "      <td>0</td>\n",
       "      <td>False</td>\n",
       "      <td>True</td>\n",
       "      <td>False</td>\n",
       "    </tr>\n",
       "    <tr>\n",
       "      <th>2</th>\n",
       "      <td>28</td>\n",
       "      <td>33.00</td>\n",
       "      <td>3</td>\n",
       "      <td>0</td>\n",
       "      <td>southeast</td>\n",
       "      <td>4449.46</td>\n",
       "      <td>0</td>\n",
       "      <td>False</td>\n",
       "      <td>True</td>\n",
       "      <td>False</td>\n",
       "    </tr>\n",
       "    <tr>\n",
       "      <th>3</th>\n",
       "      <td>33</td>\n",
       "      <td>22.70</td>\n",
       "      <td>0</td>\n",
       "      <td>0</td>\n",
       "      <td>northwest</td>\n",
       "      <td>21984.47</td>\n",
       "      <td>0</td>\n",
       "      <td>True</td>\n",
       "      <td>False</td>\n",
       "      <td>False</td>\n",
       "    </tr>\n",
       "    <tr>\n",
       "      <th>4</th>\n",
       "      <td>32</td>\n",
       "      <td>28.88</td>\n",
       "      <td>0</td>\n",
       "      <td>0</td>\n",
       "      <td>northwest</td>\n",
       "      <td>3866.86</td>\n",
       "      <td>0</td>\n",
       "      <td>True</td>\n",
       "      <td>False</td>\n",
       "      <td>False</td>\n",
       "    </tr>\n",
       "  </tbody>\n",
       "</table>\n",
       "</div>"
      ],
      "text/plain": [
       "   age   bmi  children  smoker     region  charges  female  northwest  \\\n",
       "0   19 27.90         0       1  southwest 16884.92       1      False   \n",
       "1   18 33.77         1       0  southeast  1725.55       0      False   \n",
       "2   28 33.00         3       0  southeast  4449.46       0      False   \n",
       "3   33 22.70         0       0  northwest 21984.47       0       True   \n",
       "4   32 28.88         0       0  northwest  3866.86       0       True   \n",
       "\n",
       "   southeast  southwest  \n",
       "0      False       True  \n",
       "1       True      False  \n",
       "2       True      False  \n",
       "3      False      False  \n",
       "4      False      False  "
      ]
     },
     "execution_count": 28,
     "metadata": {},
     "output_type": "execute_result"
    }
   ],
   "source": [
    "# concat, concatena pandas dataframes, axis=1 ele junta colunas, axis=0 junta linhas\n",
    "pd.concat([df_seguro, colunas_regiao], axis=1).head()"
   ]
  },
  {
   "cell_type": "code",
   "execution_count": 29,
   "id": "948f9f5a",
   "metadata": {},
   "outputs": [
    {
     "data": {
      "text/html": [
       "<div>\n",
       "<style scoped>\n",
       "    .dataframe tbody tr th:only-of-type {\n",
       "        vertical-align: middle;\n",
       "    }\n",
       "\n",
       "    .dataframe tbody tr th {\n",
       "        vertical-align: top;\n",
       "    }\n",
       "\n",
       "    .dataframe thead th {\n",
       "        text-align: right;\n",
       "    }\n",
       "</style>\n",
       "<table border=\"1\" class=\"dataframe\">\n",
       "  <thead>\n",
       "    <tr style=\"text-align: right;\">\n",
       "      <th></th>\n",
       "      <th>age</th>\n",
       "      <th>bmi</th>\n",
       "      <th>children</th>\n",
       "      <th>smoker</th>\n",
       "      <th>charges</th>\n",
       "      <th>female</th>\n",
       "      <th>northwest</th>\n",
       "      <th>southeast</th>\n",
       "      <th>southwest</th>\n",
       "    </tr>\n",
       "  </thead>\n",
       "  <tbody>\n",
       "    <tr>\n",
       "      <th>0</th>\n",
       "      <td>19</td>\n",
       "      <td>27.90</td>\n",
       "      <td>0</td>\n",
       "      <td>1</td>\n",
       "      <td>16884.92</td>\n",
       "      <td>1</td>\n",
       "      <td>False</td>\n",
       "      <td>False</td>\n",
       "      <td>True</td>\n",
       "    </tr>\n",
       "    <tr>\n",
       "      <th>1</th>\n",
       "      <td>18</td>\n",
       "      <td>33.77</td>\n",
       "      <td>1</td>\n",
       "      <td>0</td>\n",
       "      <td>1725.55</td>\n",
       "      <td>0</td>\n",
       "      <td>False</td>\n",
       "      <td>True</td>\n",
       "      <td>False</td>\n",
       "    </tr>\n",
       "    <tr>\n",
       "      <th>2</th>\n",
       "      <td>28</td>\n",
       "      <td>33.00</td>\n",
       "      <td>3</td>\n",
       "      <td>0</td>\n",
       "      <td>4449.46</td>\n",
       "      <td>0</td>\n",
       "      <td>False</td>\n",
       "      <td>True</td>\n",
       "      <td>False</td>\n",
       "    </tr>\n",
       "    <tr>\n",
       "      <th>3</th>\n",
       "      <td>33</td>\n",
       "      <td>22.70</td>\n",
       "      <td>0</td>\n",
       "      <td>0</td>\n",
       "      <td>21984.47</td>\n",
       "      <td>0</td>\n",
       "      <td>True</td>\n",
       "      <td>False</td>\n",
       "      <td>False</td>\n",
       "    </tr>\n",
       "    <tr>\n",
       "      <th>4</th>\n",
       "      <td>32</td>\n",
       "      <td>28.88</td>\n",
       "      <td>0</td>\n",
       "      <td>0</td>\n",
       "      <td>3866.86</td>\n",
       "      <td>0</td>\n",
       "      <td>True</td>\n",
       "      <td>False</td>\n",
       "      <td>False</td>\n",
       "    </tr>\n",
       "  </tbody>\n",
       "</table>\n",
       "</div>"
      ],
      "text/plain": [
       "   age   bmi  children  smoker  charges  female  northwest  southeast  \\\n",
       "0   19 27.90         0       1 16884.92       1      False      False   \n",
       "1   18 33.77         1       0  1725.55       0      False       True   \n",
       "2   28 33.00         3       0  4449.46       0      False       True   \n",
       "3   33 22.70         0       0 21984.47       0       True      False   \n",
       "4   32 28.88         0       0  3866.86       0       True      False   \n",
       "\n",
       "   southwest  \n",
       "0       True  \n",
       "1      False  \n",
       "2      False  \n",
       "3      False  \n",
       "4      False  "
      ]
     },
     "execution_count": 29,
     "metadata": {},
     "output_type": "execute_result"
    }
   ],
   "source": [
    "df_seguro = pd.concat([df_seguro, colunas_regiao], axis=1)\n",
    "df_seguro = df_seguro.drop('region', axis=1)\n",
    "df_seguro.head()"
   ]
  },
  {
   "cell_type": "markdown",
   "id": "1d849e41",
   "metadata": {},
   "source": [
    "## <a> Determinando as variáveis preditoras(X) e variável target(y) </a>\n",
    "## <a> Determining the predictor variables (X) and target variable (y) </a>\n"
   ]
  },
  {
   "cell_type": "code",
   "execution_count": 30,
   "id": "c2a4f633",
   "metadata": {},
   "outputs": [
    {
     "data": {
      "text/plain": [
       "Index(['age', 'bmi', 'children', 'smoker', 'charges', 'female', 'northwest',\n",
       "       'southeast', 'southwest'],\n",
       "      dtype='object')"
      ]
     },
     "execution_count": 30,
     "metadata": {},
     "output_type": "execute_result"
    }
   ],
   "source": [
    "df_seguro.columns"
   ]
  },
  {
   "cell_type": "code",
   "execution_count": 31,
   "id": "6d3be836",
   "metadata": {},
   "outputs": [],
   "source": [
    "X = df_seguro.drop('charges', axis=1) # tirando a variável dependente\n",
    "y = df_seguro[['charges']] # extraindo a variável dependente"
   ]
  },
  {
   "cell_type": "code",
   "execution_count": 32,
   "id": "cedd2e48",
   "metadata": {},
   "outputs": [
    {
     "data": {
      "text/html": [
       "<div>\n",
       "<style scoped>\n",
       "    .dataframe tbody tr th:only-of-type {\n",
       "        vertical-align: middle;\n",
       "    }\n",
       "\n",
       "    .dataframe tbody tr th {\n",
       "        vertical-align: top;\n",
       "    }\n",
       "\n",
       "    .dataframe thead th {\n",
       "        text-align: right;\n",
       "    }\n",
       "</style>\n",
       "<table border=\"1\" class=\"dataframe\">\n",
       "  <thead>\n",
       "    <tr style=\"text-align: right;\">\n",
       "      <th></th>\n",
       "      <th>age</th>\n",
       "      <th>bmi</th>\n",
       "      <th>children</th>\n",
       "      <th>smoker</th>\n",
       "      <th>female</th>\n",
       "      <th>northwest</th>\n",
       "      <th>southeast</th>\n",
       "      <th>southwest</th>\n",
       "    </tr>\n",
       "  </thead>\n",
       "  <tbody>\n",
       "    <tr>\n",
       "      <th>0</th>\n",
       "      <td>19</td>\n",
       "      <td>27.90</td>\n",
       "      <td>0</td>\n",
       "      <td>1</td>\n",
       "      <td>1</td>\n",
       "      <td>False</td>\n",
       "      <td>False</td>\n",
       "      <td>True</td>\n",
       "    </tr>\n",
       "    <tr>\n",
       "      <th>1</th>\n",
       "      <td>18</td>\n",
       "      <td>33.77</td>\n",
       "      <td>1</td>\n",
       "      <td>0</td>\n",
       "      <td>0</td>\n",
       "      <td>False</td>\n",
       "      <td>True</td>\n",
       "      <td>False</td>\n",
       "    </tr>\n",
       "    <tr>\n",
       "      <th>2</th>\n",
       "      <td>28</td>\n",
       "      <td>33.00</td>\n",
       "      <td>3</td>\n",
       "      <td>0</td>\n",
       "      <td>0</td>\n",
       "      <td>False</td>\n",
       "      <td>True</td>\n",
       "      <td>False</td>\n",
       "    </tr>\n",
       "    <tr>\n",
       "      <th>3</th>\n",
       "      <td>33</td>\n",
       "      <td>22.70</td>\n",
       "      <td>0</td>\n",
       "      <td>0</td>\n",
       "      <td>0</td>\n",
       "      <td>True</td>\n",
       "      <td>False</td>\n",
       "      <td>False</td>\n",
       "    </tr>\n",
       "    <tr>\n",
       "      <th>4</th>\n",
       "      <td>32</td>\n",
       "      <td>28.88</td>\n",
       "      <td>0</td>\n",
       "      <td>0</td>\n",
       "      <td>0</td>\n",
       "      <td>True</td>\n",
       "      <td>False</td>\n",
       "      <td>False</td>\n",
       "    </tr>\n",
       "  </tbody>\n",
       "</table>\n",
       "</div>"
      ],
      "text/plain": [
       "   age   bmi  children  smoker  female  northwest  southeast  southwest\n",
       "0   19 27.90         0       1       1      False      False       True\n",
       "1   18 33.77         1       0       0      False       True      False\n",
       "2   28 33.00         3       0       0      False       True      False\n",
       "3   33 22.70         0       0       0       True      False      False\n",
       "4   32 28.88         0       0       0       True      False      False"
      ]
     },
     "execution_count": 32,
     "metadata": {},
     "output_type": "execute_result"
    }
   ],
   "source": [
    "# Variáveis preditoras (ou independentes ou, features)\n",
    "X.head()"
   ]
  },
  {
   "cell_type": "code",
   "execution_count": 33,
   "id": "4bd2cca9",
   "metadata": {},
   "outputs": [
    {
     "data": {
      "text/html": [
       "<div>\n",
       "<style scoped>\n",
       "    .dataframe tbody tr th:only-of-type {\n",
       "        vertical-align: middle;\n",
       "    }\n",
       "\n",
       "    .dataframe tbody tr th {\n",
       "        vertical-align: top;\n",
       "    }\n",
       "\n",
       "    .dataframe thead th {\n",
       "        text-align: right;\n",
       "    }\n",
       "</style>\n",
       "<table border=\"1\" class=\"dataframe\">\n",
       "  <thead>\n",
       "    <tr style=\"text-align: right;\">\n",
       "      <th></th>\n",
       "      <th>charges</th>\n",
       "    </tr>\n",
       "  </thead>\n",
       "  <tbody>\n",
       "    <tr>\n",
       "      <th>0</th>\n",
       "      <td>16884.92</td>\n",
       "    </tr>\n",
       "    <tr>\n",
       "      <th>1</th>\n",
       "      <td>1725.55</td>\n",
       "    </tr>\n",
       "    <tr>\n",
       "      <th>2</th>\n",
       "      <td>4449.46</td>\n",
       "    </tr>\n",
       "    <tr>\n",
       "      <th>3</th>\n",
       "      <td>21984.47</td>\n",
       "    </tr>\n",
       "    <tr>\n",
       "      <th>4</th>\n",
       "      <td>3866.86</td>\n",
       "    </tr>\n",
       "  </tbody>\n",
       "</table>\n",
       "</div>"
      ],
      "text/plain": [
       "   charges\n",
       "0 16884.92\n",
       "1  1725.55\n",
       "2  4449.46\n",
       "3 21984.47\n",
       "4  3866.86"
      ]
     },
     "execution_count": 33,
     "metadata": {},
     "output_type": "execute_result"
    }
   ],
   "source": [
    "# Variável dependente, ou target, ou label (ah, vcs entenderam :)\n",
    "y.head()"
   ]
  },
  {
   "cell_type": "markdown",
   "id": "8039c1c6",
   "metadata": {},
   "source": [
    "## <a> Separação de bases </a>\n",
    "\n",
    "Evitar data leakage \n",
    "\n",
    "## <a> Base separation </a>\n",
    "\n",
    "Prevent data leakage"
   ]
  },
  {
   "cell_type": "code",
   "execution_count": 34,
   "id": "c76f6933",
   "metadata": {},
   "outputs": [],
   "source": [
    "# A função que separa nossa base em treino e teste! \n",
    "# Lembrando que faremos cross validation com a base de treino\n",
    "from sklearn.model_selection import train_test_split"
   ]
  },
  {
   "cell_type": "code",
   "execution_count": 35,
   "id": "4c24d368",
   "metadata": {},
   "outputs": [
    {
     "data": {
      "text/plain": [
       "((1070, 8), (268, 8), (1070, 1), (268, 1))"
      ]
     },
     "execution_count": 35,
     "metadata": {},
     "output_type": "execute_result"
    }
   ],
   "source": [
    "# Devolve uma tupla com 4 elementos: X de treino, X de teste, y de treino, y de teste\n",
    "X_treino, X_teste, y_treino, y_teste = train_test_split(X,y,test_size=.2, random_state=42)\n",
    "\n",
    "\n",
    "X_treino.shape, X_teste.shape, y_treino.shape, y_teste.shape"
   ]
  },
  {
   "cell_type": "code",
   "execution_count": 36,
   "id": "e5573ddb",
   "metadata": {},
   "outputs": [
    {
     "data": {
      "text/plain": [
       "0.7997010463378177"
      ]
     },
     "execution_count": 36,
     "metadata": {},
     "output_type": "execute_result"
    }
   ],
   "source": [
    "#curiosidade, confirmando a proporção)\n",
    "1070/1338"
   ]
  },
  {
   "cell_type": "markdown",
   "id": "23855e79",
   "metadata": {},
   "source": [
    "## <a> Feature Scaling </a>\n",
    "\n",
    "Como será usado um modelo linear, é importante realizar scaling das features para mantê-las numa mesma escala de grandeza. \n",
    "\n",
    "## <a> Feature Scaling </a>\n",
    "\n",
    "As a linear model will be used, it is important to scale the features to keep them on the same magnitude scale."
   ]
  },
  {
   "cell_type": "code",
   "execution_count": 37,
   "id": "9901850c",
   "metadata": {},
   "outputs": [
    {
     "data": {
      "text/html": [
       "<div>\n",
       "<style scoped>\n",
       "    .dataframe tbody tr th:only-of-type {\n",
       "        vertical-align: middle;\n",
       "    }\n",
       "\n",
       "    .dataframe tbody tr th {\n",
       "        vertical-align: top;\n",
       "    }\n",
       "\n",
       "    .dataframe thead th {\n",
       "        text-align: right;\n",
       "    }\n",
       "</style>\n",
       "<table border=\"1\" class=\"dataframe\">\n",
       "  <thead>\n",
       "    <tr style=\"text-align: right;\">\n",
       "      <th></th>\n",
       "      <th>age</th>\n",
       "      <th>bmi</th>\n",
       "      <th>children</th>\n",
       "      <th>smoker</th>\n",
       "      <th>charges</th>\n",
       "      <th>female</th>\n",
       "    </tr>\n",
       "  </thead>\n",
       "  <tbody>\n",
       "    <tr>\n",
       "      <th>count</th>\n",
       "      <td>1338.00</td>\n",
       "      <td>1338.00</td>\n",
       "      <td>1338.00</td>\n",
       "      <td>1338.00</td>\n",
       "      <td>1338.00</td>\n",
       "      <td>1338.00</td>\n",
       "    </tr>\n",
       "    <tr>\n",
       "      <th>mean</th>\n",
       "      <td>39.21</td>\n",
       "      <td>30.66</td>\n",
       "      <td>1.09</td>\n",
       "      <td>0.20</td>\n",
       "      <td>13270.42</td>\n",
       "      <td>0.49</td>\n",
       "    </tr>\n",
       "    <tr>\n",
       "      <th>std</th>\n",
       "      <td>14.05</td>\n",
       "      <td>6.10</td>\n",
       "      <td>1.21</td>\n",
       "      <td>0.40</td>\n",
       "      <td>12110.01</td>\n",
       "      <td>0.50</td>\n",
       "    </tr>\n",
       "    <tr>\n",
       "      <th>min</th>\n",
       "      <td>18.00</td>\n",
       "      <td>15.96</td>\n",
       "      <td>0.00</td>\n",
       "      <td>0.00</td>\n",
       "      <td>1121.87</td>\n",
       "      <td>0.00</td>\n",
       "    </tr>\n",
       "    <tr>\n",
       "      <th>25%</th>\n",
       "      <td>27.00</td>\n",
       "      <td>26.30</td>\n",
       "      <td>0.00</td>\n",
       "      <td>0.00</td>\n",
       "      <td>4740.29</td>\n",
       "      <td>0.00</td>\n",
       "    </tr>\n",
       "    <tr>\n",
       "      <th>50%</th>\n",
       "      <td>39.00</td>\n",
       "      <td>30.40</td>\n",
       "      <td>1.00</td>\n",
       "      <td>0.00</td>\n",
       "      <td>9382.03</td>\n",
       "      <td>0.00</td>\n",
       "    </tr>\n",
       "    <tr>\n",
       "      <th>75%</th>\n",
       "      <td>51.00</td>\n",
       "      <td>34.69</td>\n",
       "      <td>2.00</td>\n",
       "      <td>0.00</td>\n",
       "      <td>16639.91</td>\n",
       "      <td>1.00</td>\n",
       "    </tr>\n",
       "    <tr>\n",
       "      <th>max</th>\n",
       "      <td>64.00</td>\n",
       "      <td>53.13</td>\n",
       "      <td>5.00</td>\n",
       "      <td>1.00</td>\n",
       "      <td>63770.43</td>\n",
       "      <td>1.00</td>\n",
       "    </tr>\n",
       "  </tbody>\n",
       "</table>\n",
       "</div>"
      ],
      "text/plain": [
       "          age     bmi  children  smoker  charges  female\n",
       "count 1338.00 1338.00   1338.00 1338.00  1338.00 1338.00\n",
       "mean    39.21   30.66      1.09    0.20 13270.42    0.49\n",
       "std     14.05    6.10      1.21    0.40 12110.01    0.50\n",
       "min     18.00   15.96      0.00    0.00  1121.87    0.00\n",
       "25%     27.00   26.30      0.00    0.00  4740.29    0.00\n",
       "50%     39.00   30.40      1.00    0.00  9382.03    0.00\n",
       "75%     51.00   34.69      2.00    0.00 16639.91    1.00\n",
       "max     64.00   53.13      5.00    1.00 63770.43    1.00"
      ]
     },
     "execution_count": 37,
     "metadata": {},
     "output_type": "execute_result"
    }
   ],
   "source": [
    "df_seguro.describe()"
   ]
  },
  {
   "cell_type": "code",
   "execution_count": 86,
   "id": "f5c86046",
   "metadata": {},
   "outputs": [],
   "source": [
    "# Normalização - MinMaxScaler\n",
    "from sklearn.preprocessing import MinMaxScaler\n",
    "#criar scaler\n",
    "scaler = MinMaxScaler()"
   ]
  },
  {
   "cell_type": "code",
   "execution_count": 39,
   "id": "bb05f7ba",
   "metadata": {},
   "outputs": [
    {
     "data": {
      "text/plain": [
       "sklearn.preprocessing._data.MinMaxScaler"
      ]
     },
     "execution_count": 39,
     "metadata": {},
     "output_type": "execute_result"
    }
   ],
   "source": [
    "type(scaler)"
   ]
  },
  {
   "cell_type": "code",
   "execution_count": 40,
   "id": "cac1ac6e",
   "metadata": {},
   "outputs": [
    {
     "data": {
      "text/html": [
       "<style>#sk-container-id-1 {\n",
       "  /* Definition of color scheme common for light and dark mode */\n",
       "  --sklearn-color-text: black;\n",
       "  --sklearn-color-line: gray;\n",
       "  /* Definition of color scheme for unfitted estimators */\n",
       "  --sklearn-color-unfitted-level-0: #fff5e6;\n",
       "  --sklearn-color-unfitted-level-1: #f6e4d2;\n",
       "  --sklearn-color-unfitted-level-2: #ffe0b3;\n",
       "  --sklearn-color-unfitted-level-3: chocolate;\n",
       "  /* Definition of color scheme for fitted estimators */\n",
       "  --sklearn-color-fitted-level-0: #f0f8ff;\n",
       "  --sklearn-color-fitted-level-1: #d4ebff;\n",
       "  --sklearn-color-fitted-level-2: #b3dbfd;\n",
       "  --sklearn-color-fitted-level-3: cornflowerblue;\n",
       "\n",
       "  /* Specific color for light theme */\n",
       "  --sklearn-color-text-on-default-background: var(--sg-text-color, var(--theme-code-foreground, var(--jp-content-font-color1, black)));\n",
       "  --sklearn-color-background: var(--sg-background-color, var(--theme-background, var(--jp-layout-color0, white)));\n",
       "  --sklearn-color-border-box: var(--sg-text-color, var(--theme-code-foreground, var(--jp-content-font-color1, black)));\n",
       "  --sklearn-color-icon: #696969;\n",
       "\n",
       "  @media (prefers-color-scheme: dark) {\n",
       "    /* Redefinition of color scheme for dark theme */\n",
       "    --sklearn-color-text-on-default-background: var(--sg-text-color, var(--theme-code-foreground, var(--jp-content-font-color1, white)));\n",
       "    --sklearn-color-background: var(--sg-background-color, var(--theme-background, var(--jp-layout-color0, #111)));\n",
       "    --sklearn-color-border-box: var(--sg-text-color, var(--theme-code-foreground, var(--jp-content-font-color1, white)));\n",
       "    --sklearn-color-icon: #878787;\n",
       "  }\n",
       "}\n",
       "\n",
       "#sk-container-id-1 {\n",
       "  color: var(--sklearn-color-text);\n",
       "}\n",
       "\n",
       "#sk-container-id-1 pre {\n",
       "  padding: 0;\n",
       "}\n",
       "\n",
       "#sk-container-id-1 input.sk-hidden--visually {\n",
       "  border: 0;\n",
       "  clip: rect(1px 1px 1px 1px);\n",
       "  clip: rect(1px, 1px, 1px, 1px);\n",
       "  height: 1px;\n",
       "  margin: -1px;\n",
       "  overflow: hidden;\n",
       "  padding: 0;\n",
       "  position: absolute;\n",
       "  width: 1px;\n",
       "}\n",
       "\n",
       "#sk-container-id-1 div.sk-dashed-wrapped {\n",
       "  border: 1px dashed var(--sklearn-color-line);\n",
       "  margin: 0 0.4em 0.5em 0.4em;\n",
       "  box-sizing: border-box;\n",
       "  padding-bottom: 0.4em;\n",
       "  background-color: var(--sklearn-color-background);\n",
       "}\n",
       "\n",
       "#sk-container-id-1 div.sk-container {\n",
       "  /* jupyter's `normalize.less` sets `[hidden] { display: none; }`\n",
       "     but bootstrap.min.css set `[hidden] { display: none !important; }`\n",
       "     so we also need the `!important` here to be able to override the\n",
       "     default hidden behavior on the sphinx rendered scikit-learn.org.\n",
       "     See: https://github.com/scikit-learn/scikit-learn/issues/21755 */\n",
       "  display: inline-block !important;\n",
       "  position: relative;\n",
       "}\n",
       "\n",
       "#sk-container-id-1 div.sk-text-repr-fallback {\n",
       "  display: none;\n",
       "}\n",
       "\n",
       "div.sk-parallel-item,\n",
       "div.sk-serial,\n",
       "div.sk-item {\n",
       "  /* draw centered vertical line to link estimators */\n",
       "  background-image: linear-gradient(var(--sklearn-color-text-on-default-background), var(--sklearn-color-text-on-default-background));\n",
       "  background-size: 2px 100%;\n",
       "  background-repeat: no-repeat;\n",
       "  background-position: center center;\n",
       "}\n",
       "\n",
       "/* Parallel-specific style estimator block */\n",
       "\n",
       "#sk-container-id-1 div.sk-parallel-item::after {\n",
       "  content: \"\";\n",
       "  width: 100%;\n",
       "  border-bottom: 2px solid var(--sklearn-color-text-on-default-background);\n",
       "  flex-grow: 1;\n",
       "}\n",
       "\n",
       "#sk-container-id-1 div.sk-parallel {\n",
       "  display: flex;\n",
       "  align-items: stretch;\n",
       "  justify-content: center;\n",
       "  background-color: var(--sklearn-color-background);\n",
       "  position: relative;\n",
       "}\n",
       "\n",
       "#sk-container-id-1 div.sk-parallel-item {\n",
       "  display: flex;\n",
       "  flex-direction: column;\n",
       "}\n",
       "\n",
       "#sk-container-id-1 div.sk-parallel-item:first-child::after {\n",
       "  align-self: flex-end;\n",
       "  width: 50%;\n",
       "}\n",
       "\n",
       "#sk-container-id-1 div.sk-parallel-item:last-child::after {\n",
       "  align-self: flex-start;\n",
       "  width: 50%;\n",
       "}\n",
       "\n",
       "#sk-container-id-1 div.sk-parallel-item:only-child::after {\n",
       "  width: 0;\n",
       "}\n",
       "\n",
       "/* Serial-specific style estimator block */\n",
       "\n",
       "#sk-container-id-1 div.sk-serial {\n",
       "  display: flex;\n",
       "  flex-direction: column;\n",
       "  align-items: center;\n",
       "  background-color: var(--sklearn-color-background);\n",
       "  padding-right: 1em;\n",
       "  padding-left: 1em;\n",
       "}\n",
       "\n",
       "\n",
       "/* Toggleable style: style used for estimator/Pipeline/ColumnTransformer box that is\n",
       "clickable and can be expanded/collapsed.\n",
       "- Pipeline and ColumnTransformer use this feature and define the default style\n",
       "- Estimators will overwrite some part of the style using the `sk-estimator` class\n",
       "*/\n",
       "\n",
       "/* Pipeline and ColumnTransformer style (default) */\n",
       "\n",
       "#sk-container-id-1 div.sk-toggleable {\n",
       "  /* Default theme specific background. It is overwritten whether we have a\n",
       "  specific estimator or a Pipeline/ColumnTransformer */\n",
       "  background-color: var(--sklearn-color-background);\n",
       "}\n",
       "\n",
       "/* Toggleable label */\n",
       "#sk-container-id-1 label.sk-toggleable__label {\n",
       "  cursor: pointer;\n",
       "  display: block;\n",
       "  width: 100%;\n",
       "  margin-bottom: 0;\n",
       "  padding: 0.5em;\n",
       "  box-sizing: border-box;\n",
       "  text-align: center;\n",
       "}\n",
       "\n",
       "#sk-container-id-1 label.sk-toggleable__label-arrow:before {\n",
       "  /* Arrow on the left of the label */\n",
       "  content: \"▸\";\n",
       "  float: left;\n",
       "  margin-right: 0.25em;\n",
       "  color: var(--sklearn-color-icon);\n",
       "}\n",
       "\n",
       "#sk-container-id-1 label.sk-toggleable__label-arrow:hover:before {\n",
       "  color: var(--sklearn-color-text);\n",
       "}\n",
       "\n",
       "/* Toggleable content - dropdown */\n",
       "\n",
       "#sk-container-id-1 div.sk-toggleable__content {\n",
       "  max-height: 0;\n",
       "  max-width: 0;\n",
       "  overflow: hidden;\n",
       "  text-align: left;\n",
       "  /* unfitted */\n",
       "  background-color: var(--sklearn-color-unfitted-level-0);\n",
       "}\n",
       "\n",
       "#sk-container-id-1 div.sk-toggleable__content.fitted {\n",
       "  /* fitted */\n",
       "  background-color: var(--sklearn-color-fitted-level-0);\n",
       "}\n",
       "\n",
       "#sk-container-id-1 div.sk-toggleable__content pre {\n",
       "  margin: 0.2em;\n",
       "  border-radius: 0.25em;\n",
       "  color: var(--sklearn-color-text);\n",
       "  /* unfitted */\n",
       "  background-color: var(--sklearn-color-unfitted-level-0);\n",
       "}\n",
       "\n",
       "#sk-container-id-1 div.sk-toggleable__content.fitted pre {\n",
       "  /* unfitted */\n",
       "  background-color: var(--sklearn-color-fitted-level-0);\n",
       "}\n",
       "\n",
       "#sk-container-id-1 input.sk-toggleable__control:checked~div.sk-toggleable__content {\n",
       "  /* Expand drop-down */\n",
       "  max-height: 200px;\n",
       "  max-width: 100%;\n",
       "  overflow: auto;\n",
       "}\n",
       "\n",
       "#sk-container-id-1 input.sk-toggleable__control:checked~label.sk-toggleable__label-arrow:before {\n",
       "  content: \"▾\";\n",
       "}\n",
       "\n",
       "/* Pipeline/ColumnTransformer-specific style */\n",
       "\n",
       "#sk-container-id-1 div.sk-label input.sk-toggleable__control:checked~label.sk-toggleable__label {\n",
       "  color: var(--sklearn-color-text);\n",
       "  background-color: var(--sklearn-color-unfitted-level-2);\n",
       "}\n",
       "\n",
       "#sk-container-id-1 div.sk-label.fitted input.sk-toggleable__control:checked~label.sk-toggleable__label {\n",
       "  background-color: var(--sklearn-color-fitted-level-2);\n",
       "}\n",
       "\n",
       "/* Estimator-specific style */\n",
       "\n",
       "/* Colorize estimator box */\n",
       "#sk-container-id-1 div.sk-estimator input.sk-toggleable__control:checked~label.sk-toggleable__label {\n",
       "  /* unfitted */\n",
       "  background-color: var(--sklearn-color-unfitted-level-2);\n",
       "}\n",
       "\n",
       "#sk-container-id-1 div.sk-estimator.fitted input.sk-toggleable__control:checked~label.sk-toggleable__label {\n",
       "  /* fitted */\n",
       "  background-color: var(--sklearn-color-fitted-level-2);\n",
       "}\n",
       "\n",
       "#sk-container-id-1 div.sk-label label.sk-toggleable__label,\n",
       "#sk-container-id-1 div.sk-label label {\n",
       "  /* The background is the default theme color */\n",
       "  color: var(--sklearn-color-text-on-default-background);\n",
       "}\n",
       "\n",
       "/* On hover, darken the color of the background */\n",
       "#sk-container-id-1 div.sk-label:hover label.sk-toggleable__label {\n",
       "  color: var(--sklearn-color-text);\n",
       "  background-color: var(--sklearn-color-unfitted-level-2);\n",
       "}\n",
       "\n",
       "/* Label box, darken color on hover, fitted */\n",
       "#sk-container-id-1 div.sk-label.fitted:hover label.sk-toggleable__label.fitted {\n",
       "  color: var(--sklearn-color-text);\n",
       "  background-color: var(--sklearn-color-fitted-level-2);\n",
       "}\n",
       "\n",
       "/* Estimator label */\n",
       "\n",
       "#sk-container-id-1 div.sk-label label {\n",
       "  font-family: monospace;\n",
       "  font-weight: bold;\n",
       "  display: inline-block;\n",
       "  line-height: 1.2em;\n",
       "}\n",
       "\n",
       "#sk-container-id-1 div.sk-label-container {\n",
       "  text-align: center;\n",
       "}\n",
       "\n",
       "/* Estimator-specific */\n",
       "#sk-container-id-1 div.sk-estimator {\n",
       "  font-family: monospace;\n",
       "  border: 1px dotted var(--sklearn-color-border-box);\n",
       "  border-radius: 0.25em;\n",
       "  box-sizing: border-box;\n",
       "  margin-bottom: 0.5em;\n",
       "  /* unfitted */\n",
       "  background-color: var(--sklearn-color-unfitted-level-0);\n",
       "}\n",
       "\n",
       "#sk-container-id-1 div.sk-estimator.fitted {\n",
       "  /* fitted */\n",
       "  background-color: var(--sklearn-color-fitted-level-0);\n",
       "}\n",
       "\n",
       "/* on hover */\n",
       "#sk-container-id-1 div.sk-estimator:hover {\n",
       "  /* unfitted */\n",
       "  background-color: var(--sklearn-color-unfitted-level-2);\n",
       "}\n",
       "\n",
       "#sk-container-id-1 div.sk-estimator.fitted:hover {\n",
       "  /* fitted */\n",
       "  background-color: var(--sklearn-color-fitted-level-2);\n",
       "}\n",
       "\n",
       "/* Specification for estimator info (e.g. \"i\" and \"?\") */\n",
       "\n",
       "/* Common style for \"i\" and \"?\" */\n",
       "\n",
       ".sk-estimator-doc-link,\n",
       "a:link.sk-estimator-doc-link,\n",
       "a:visited.sk-estimator-doc-link {\n",
       "  float: right;\n",
       "  font-size: smaller;\n",
       "  line-height: 1em;\n",
       "  font-family: monospace;\n",
       "  background-color: var(--sklearn-color-background);\n",
       "  border-radius: 1em;\n",
       "  height: 1em;\n",
       "  width: 1em;\n",
       "  text-decoration: none !important;\n",
       "  margin-left: 1ex;\n",
       "  /* unfitted */\n",
       "  border: var(--sklearn-color-unfitted-level-1) 1pt solid;\n",
       "  color: var(--sklearn-color-unfitted-level-1);\n",
       "}\n",
       "\n",
       ".sk-estimator-doc-link.fitted,\n",
       "a:link.sk-estimator-doc-link.fitted,\n",
       "a:visited.sk-estimator-doc-link.fitted {\n",
       "  /* fitted */\n",
       "  border: var(--sklearn-color-fitted-level-1) 1pt solid;\n",
       "  color: var(--sklearn-color-fitted-level-1);\n",
       "}\n",
       "\n",
       "/* On hover */\n",
       "div.sk-estimator:hover .sk-estimator-doc-link:hover,\n",
       ".sk-estimator-doc-link:hover,\n",
       "div.sk-label-container:hover .sk-estimator-doc-link:hover,\n",
       ".sk-estimator-doc-link:hover {\n",
       "  /* unfitted */\n",
       "  background-color: var(--sklearn-color-unfitted-level-3);\n",
       "  color: var(--sklearn-color-background);\n",
       "  text-decoration: none;\n",
       "}\n",
       "\n",
       "div.sk-estimator.fitted:hover .sk-estimator-doc-link.fitted:hover,\n",
       ".sk-estimator-doc-link.fitted:hover,\n",
       "div.sk-label-container:hover .sk-estimator-doc-link.fitted:hover,\n",
       ".sk-estimator-doc-link.fitted:hover {\n",
       "  /* fitted */\n",
       "  background-color: var(--sklearn-color-fitted-level-3);\n",
       "  color: var(--sklearn-color-background);\n",
       "  text-decoration: none;\n",
       "}\n",
       "\n",
       "/* Span, style for the box shown on hovering the info icon */\n",
       ".sk-estimator-doc-link span {\n",
       "  display: none;\n",
       "  z-index: 9999;\n",
       "  position: relative;\n",
       "  font-weight: normal;\n",
       "  right: .2ex;\n",
       "  padding: .5ex;\n",
       "  margin: .5ex;\n",
       "  width: min-content;\n",
       "  min-width: 20ex;\n",
       "  max-width: 50ex;\n",
       "  color: var(--sklearn-color-text);\n",
       "  box-shadow: 2pt 2pt 4pt #999;\n",
       "  /* unfitted */\n",
       "  background: var(--sklearn-color-unfitted-level-0);\n",
       "  border: .5pt solid var(--sklearn-color-unfitted-level-3);\n",
       "}\n",
       "\n",
       ".sk-estimator-doc-link.fitted span {\n",
       "  /* fitted */\n",
       "  background: var(--sklearn-color-fitted-level-0);\n",
       "  border: var(--sklearn-color-fitted-level-3);\n",
       "}\n",
       "\n",
       ".sk-estimator-doc-link:hover span {\n",
       "  display: block;\n",
       "}\n",
       "\n",
       "/* \"?\"-specific style due to the `<a>` HTML tag */\n",
       "\n",
       "#sk-container-id-1 a.estimator_doc_link {\n",
       "  float: right;\n",
       "  font-size: 1rem;\n",
       "  line-height: 1em;\n",
       "  font-family: monospace;\n",
       "  background-color: var(--sklearn-color-background);\n",
       "  border-radius: 1rem;\n",
       "  height: 1rem;\n",
       "  width: 1rem;\n",
       "  text-decoration: none;\n",
       "  /* unfitted */\n",
       "  color: var(--sklearn-color-unfitted-level-1);\n",
       "  border: var(--sklearn-color-unfitted-level-1) 1pt solid;\n",
       "}\n",
       "\n",
       "#sk-container-id-1 a.estimator_doc_link.fitted {\n",
       "  /* fitted */\n",
       "  border: var(--sklearn-color-fitted-level-1) 1pt solid;\n",
       "  color: var(--sklearn-color-fitted-level-1);\n",
       "}\n",
       "\n",
       "/* On hover */\n",
       "#sk-container-id-1 a.estimator_doc_link:hover {\n",
       "  /* unfitted */\n",
       "  background-color: var(--sklearn-color-unfitted-level-3);\n",
       "  color: var(--sklearn-color-background);\n",
       "  text-decoration: none;\n",
       "}\n",
       "\n",
       "#sk-container-id-1 a.estimator_doc_link.fitted:hover {\n",
       "  /* fitted */\n",
       "  background-color: var(--sklearn-color-fitted-level-3);\n",
       "}\n",
       "</style><div id=\"sk-container-id-1\" class=\"sk-top-container\"><div class=\"sk-text-repr-fallback\"><pre>MinMaxScaler()</pre><b>In a Jupyter environment, please rerun this cell to show the HTML representation or trust the notebook. <br />On GitHub, the HTML representation is unable to render, please try loading this page with nbviewer.org.</b></div><div class=\"sk-container\" hidden><div class=\"sk-item\"><div class=\"sk-estimator  sk-toggleable\"><input class=\"sk-toggleable__control sk-hidden--visually\" id=\"sk-estimator-id-1\" type=\"checkbox\" checked><label for=\"sk-estimator-id-1\" class=\"sk-toggleable__label  sk-toggleable__label-arrow \">&nbsp;&nbsp;MinMaxScaler<a class=\"sk-estimator-doc-link \" rel=\"noreferrer\" target=\"_blank\" href=\"https://scikit-learn.org/1.4/modules/generated/sklearn.preprocessing.MinMaxScaler.html\">?<span>Documentation for MinMaxScaler</span></a><span class=\"sk-estimator-doc-link \">i<span>Not fitted</span></span></label><div class=\"sk-toggleable__content \"><pre>MinMaxScaler()</pre></div> </div></div></div></div>"
      ],
      "text/plain": [
       "MinMaxScaler()"
      ]
     },
     "execution_count": 40,
     "metadata": {},
     "output_type": "execute_result"
    }
   ],
   "source": [
    "scaler"
   ]
  },
  {
   "cell_type": "code",
   "execution_count": 41,
   "id": "3cd715d1",
   "metadata": {},
   "outputs": [
    {
     "data": {
      "text/plain": [
       "((1070, 8), (268, 8))"
      ]
     },
     "execution_count": 41,
     "metadata": {},
     "output_type": "execute_result"
    }
   ],
   "source": [
    "colunas = X_treino.columns\n",
    "\n",
    "# Parte importante!! Fit no treino! Transform no treino e teste\n",
    "X_treino[colunas] = scaler.fit_transform(X_treino)\n",
    "X_teste[colunas] = scaler.transform(X_teste)\n",
    "\n",
    "X_treino.shape, X_teste.shape"
   ]
  },
  {
   "cell_type": "code",
   "execution_count": 42,
   "id": "eaaf0570",
   "metadata": {},
   "outputs": [
    {
     "data": {
      "text/html": [
       "<div>\n",
       "<style scoped>\n",
       "    .dataframe tbody tr th:only-of-type {\n",
       "        vertical-align: middle;\n",
       "    }\n",
       "\n",
       "    .dataframe tbody tr th {\n",
       "        vertical-align: top;\n",
       "    }\n",
       "\n",
       "    .dataframe thead th {\n",
       "        text-align: right;\n",
       "    }\n",
       "</style>\n",
       "<table border=\"1\" class=\"dataframe\">\n",
       "  <thead>\n",
       "    <tr style=\"text-align: right;\">\n",
       "      <th></th>\n",
       "      <th>age</th>\n",
       "      <th>bmi</th>\n",
       "      <th>children</th>\n",
       "      <th>smoker</th>\n",
       "      <th>female</th>\n",
       "      <th>northwest</th>\n",
       "      <th>southeast</th>\n",
       "      <th>southwest</th>\n",
       "    </tr>\n",
       "  </thead>\n",
       "  <tbody>\n",
       "    <tr>\n",
       "      <th>560</th>\n",
       "      <td>0.61</td>\n",
       "      <td>0.11</td>\n",
       "      <td>0.40</td>\n",
       "      <td>0.00</td>\n",
       "      <td>1.00</td>\n",
       "      <td>1.00</td>\n",
       "      <td>0.00</td>\n",
       "      <td>0.00</td>\n",
       "    </tr>\n",
       "    <tr>\n",
       "      <th>1285</th>\n",
       "      <td>0.63</td>\n",
       "      <td>0.22</td>\n",
       "      <td>0.00</td>\n",
       "      <td>0.00</td>\n",
       "      <td>1.00</td>\n",
       "      <td>0.00</td>\n",
       "      <td>0.00</td>\n",
       "      <td>0.00</td>\n",
       "    </tr>\n",
       "    <tr>\n",
       "      <th>1142</th>\n",
       "      <td>0.74</td>\n",
       "      <td>0.24</td>\n",
       "      <td>0.00</td>\n",
       "      <td>0.00</td>\n",
       "      <td>1.00</td>\n",
       "      <td>0.00</td>\n",
       "      <td>1.00</td>\n",
       "      <td>0.00</td>\n",
       "    </tr>\n",
       "    <tr>\n",
       "      <th>969</th>\n",
       "      <td>0.46</td>\n",
       "      <td>0.49</td>\n",
       "      <td>1.00</td>\n",
       "      <td>0.00</td>\n",
       "      <td>1.00</td>\n",
       "      <td>0.00</td>\n",
       "      <td>1.00</td>\n",
       "      <td>0.00</td>\n",
       "    </tr>\n",
       "    <tr>\n",
       "      <th>486</th>\n",
       "      <td>0.78</td>\n",
       "      <td>0.15</td>\n",
       "      <td>0.60</td>\n",
       "      <td>0.00</td>\n",
       "      <td>1.00</td>\n",
       "      <td>1.00</td>\n",
       "      <td>0.00</td>\n",
       "      <td>0.00</td>\n",
       "    </tr>\n",
       "  </tbody>\n",
       "</table>\n",
       "</div>"
      ],
      "text/plain": [
       "      age  bmi  children  smoker  female  northwest  southeast  southwest\n",
       "560  0.61 0.11      0.40    0.00    1.00       1.00       0.00       0.00\n",
       "1285 0.63 0.22      0.00    0.00    1.00       0.00       0.00       0.00\n",
       "1142 0.74 0.24      0.00    0.00    1.00       0.00       1.00       0.00\n",
       "969  0.46 0.49      1.00    0.00    1.00       0.00       1.00       0.00\n",
       "486  0.78 0.15      0.60    0.00    1.00       1.00       0.00       0.00"
      ]
     },
     "execution_count": 42,
     "metadata": {},
     "output_type": "execute_result"
    }
   ],
   "source": [
    "X_treino.head()"
   ]
  },
  {
   "cell_type": "code",
   "execution_count": 43,
   "id": "db225a15",
   "metadata": {},
   "outputs": [
    {
     "data": {
      "text/html": [
       "<div>\n",
       "<style scoped>\n",
       "    .dataframe tbody tr th:only-of-type {\n",
       "        vertical-align: middle;\n",
       "    }\n",
       "\n",
       "    .dataframe tbody tr th {\n",
       "        vertical-align: top;\n",
       "    }\n",
       "\n",
       "    .dataframe thead th {\n",
       "        text-align: right;\n",
       "    }\n",
       "</style>\n",
       "<table border=\"1\" class=\"dataframe\">\n",
       "  <thead>\n",
       "    <tr style=\"text-align: right;\">\n",
       "      <th></th>\n",
       "      <th>age</th>\n",
       "      <th>bmi</th>\n",
       "      <th>children</th>\n",
       "      <th>smoker</th>\n",
       "      <th>female</th>\n",
       "      <th>northwest</th>\n",
       "      <th>southeast</th>\n",
       "      <th>southwest</th>\n",
       "    </tr>\n",
       "  </thead>\n",
       "  <tbody>\n",
       "    <tr>\n",
       "      <th>count</th>\n",
       "      <td>1070.00</td>\n",
       "      <td>1070.00</td>\n",
       "      <td>1070.00</td>\n",
       "      <td>1070.00</td>\n",
       "      <td>1070.00</td>\n",
       "      <td>1070.00</td>\n",
       "      <td>1070.00</td>\n",
       "      <td>1070.00</td>\n",
       "    </tr>\n",
       "    <tr>\n",
       "      <th>mean</th>\n",
       "      <td>0.46</td>\n",
       "      <td>0.39</td>\n",
       "      <td>0.22</td>\n",
       "      <td>0.21</td>\n",
       "      <td>0.49</td>\n",
       "      <td>0.24</td>\n",
       "      <td>0.26</td>\n",
       "      <td>0.25</td>\n",
       "    </tr>\n",
       "    <tr>\n",
       "      <th>std</th>\n",
       "      <td>0.31</td>\n",
       "      <td>0.16</td>\n",
       "      <td>0.24</td>\n",
       "      <td>0.40</td>\n",
       "      <td>0.50</td>\n",
       "      <td>0.43</td>\n",
       "      <td>0.44</td>\n",
       "      <td>0.43</td>\n",
       "    </tr>\n",
       "    <tr>\n",
       "      <th>min</th>\n",
       "      <td>0.00</td>\n",
       "      <td>0.00</td>\n",
       "      <td>0.00</td>\n",
       "      <td>0.00</td>\n",
       "      <td>0.00</td>\n",
       "      <td>0.00</td>\n",
       "      <td>0.00</td>\n",
       "      <td>0.00</td>\n",
       "    </tr>\n",
       "    <tr>\n",
       "      <th>25%</th>\n",
       "      <td>0.20</td>\n",
       "      <td>0.28</td>\n",
       "      <td>0.00</td>\n",
       "      <td>0.00</td>\n",
       "      <td>0.00</td>\n",
       "      <td>0.00</td>\n",
       "      <td>0.00</td>\n",
       "      <td>0.00</td>\n",
       "    </tr>\n",
       "    <tr>\n",
       "      <th>50%</th>\n",
       "      <td>0.47</td>\n",
       "      <td>0.38</td>\n",
       "      <td>0.20</td>\n",
       "      <td>0.00</td>\n",
       "      <td>0.00</td>\n",
       "      <td>0.00</td>\n",
       "      <td>0.00</td>\n",
       "      <td>0.00</td>\n",
       "    </tr>\n",
       "    <tr>\n",
       "      <th>75%</th>\n",
       "      <td>0.72</td>\n",
       "      <td>0.50</td>\n",
       "      <td>0.40</td>\n",
       "      <td>0.00</td>\n",
       "      <td>1.00</td>\n",
       "      <td>0.00</td>\n",
       "      <td>1.00</td>\n",
       "      <td>0.00</td>\n",
       "    </tr>\n",
       "    <tr>\n",
       "      <th>max</th>\n",
       "      <td>1.00</td>\n",
       "      <td>1.00</td>\n",
       "      <td>1.00</td>\n",
       "      <td>1.00</td>\n",
       "      <td>1.00</td>\n",
       "      <td>1.00</td>\n",
       "      <td>1.00</td>\n",
       "      <td>1.00</td>\n",
       "    </tr>\n",
       "  </tbody>\n",
       "</table>\n",
       "</div>"
      ],
      "text/plain": [
       "          age     bmi  children  smoker  female  northwest  southeast  \\\n",
       "count 1070.00 1070.00   1070.00 1070.00 1070.00    1070.00    1070.00   \n",
       "mean     0.46    0.39      0.22    0.21    0.49       0.24       0.26   \n",
       "std      0.31    0.16      0.24    0.40    0.50       0.43       0.44   \n",
       "min      0.00    0.00      0.00    0.00    0.00       0.00       0.00   \n",
       "25%      0.20    0.28      0.00    0.00    0.00       0.00       0.00   \n",
       "50%      0.47    0.38      0.20    0.00    0.00       0.00       0.00   \n",
       "75%      0.72    0.50      0.40    0.00    1.00       0.00       1.00   \n",
       "max      1.00    1.00      1.00    1.00    1.00       1.00       1.00   \n",
       "\n",
       "       southwest  \n",
       "count    1070.00  \n",
       "mean        0.25  \n",
       "std         0.43  \n",
       "min         0.00  \n",
       "25%         0.00  \n",
       "50%         0.00  \n",
       "75%         0.00  \n",
       "max         1.00  "
      ]
     },
     "execution_count": 43,
     "metadata": {},
     "output_type": "execute_result"
    }
   ],
   "source": [
    "X_treino.describe()"
   ]
  },
  {
   "cell_type": "code",
   "execution_count": 44,
   "id": "f445fac5",
   "metadata": {},
   "outputs": [
    {
     "data": {
      "text/html": [
       "<div>\n",
       "<style scoped>\n",
       "    .dataframe tbody tr th:only-of-type {\n",
       "        vertical-align: middle;\n",
       "    }\n",
       "\n",
       "    .dataframe tbody tr th {\n",
       "        vertical-align: top;\n",
       "    }\n",
       "\n",
       "    .dataframe thead th {\n",
       "        text-align: right;\n",
       "    }\n",
       "</style>\n",
       "<table border=\"1\" class=\"dataframe\">\n",
       "  <thead>\n",
       "    <tr style=\"text-align: right;\">\n",
       "      <th></th>\n",
       "      <th>age</th>\n",
       "      <th>bmi</th>\n",
       "      <th>children</th>\n",
       "      <th>smoker</th>\n",
       "      <th>female</th>\n",
       "      <th>northwest</th>\n",
       "      <th>southeast</th>\n",
       "      <th>southwest</th>\n",
       "    </tr>\n",
       "  </thead>\n",
       "  <tbody>\n",
       "    <tr>\n",
       "      <th>count</th>\n",
       "      <td>268.00</td>\n",
       "      <td>268.00</td>\n",
       "      <td>268.00</td>\n",
       "      <td>268.00</td>\n",
       "      <td>268.00</td>\n",
       "      <td>268.00</td>\n",
       "      <td>268.00</td>\n",
       "      <td>268.00</td>\n",
       "    </tr>\n",
       "    <tr>\n",
       "      <th>mean</th>\n",
       "      <td>0.45</td>\n",
       "      <td>0.41</td>\n",
       "      <td>0.21</td>\n",
       "      <td>0.20</td>\n",
       "      <td>0.52</td>\n",
       "      <td>0.26</td>\n",
       "      <td>0.30</td>\n",
       "      <td>0.23</td>\n",
       "    </tr>\n",
       "    <tr>\n",
       "      <th>std</th>\n",
       "      <td>0.30</td>\n",
       "      <td>0.17</td>\n",
       "      <td>0.23</td>\n",
       "      <td>0.40</td>\n",
       "      <td>0.50</td>\n",
       "      <td>0.44</td>\n",
       "      <td>0.46</td>\n",
       "      <td>0.42</td>\n",
       "    </tr>\n",
       "    <tr>\n",
       "      <th>min</th>\n",
       "      <td>0.00</td>\n",
       "      <td>0.02</td>\n",
       "      <td>0.00</td>\n",
       "      <td>0.00</td>\n",
       "      <td>0.00</td>\n",
       "      <td>0.00</td>\n",
       "      <td>0.00</td>\n",
       "      <td>0.00</td>\n",
       "    </tr>\n",
       "    <tr>\n",
       "      <th>25%</th>\n",
       "      <td>0.17</td>\n",
       "      <td>0.29</td>\n",
       "      <td>0.00</td>\n",
       "      <td>0.00</td>\n",
       "      <td>0.00</td>\n",
       "      <td>0.00</td>\n",
       "      <td>0.00</td>\n",
       "      <td>0.00</td>\n",
       "    </tr>\n",
       "    <tr>\n",
       "      <th>50%</th>\n",
       "      <td>0.43</td>\n",
       "      <td>0.40</td>\n",
       "      <td>0.20</td>\n",
       "      <td>0.00</td>\n",
       "      <td>1.00</td>\n",
       "      <td>0.00</td>\n",
       "      <td>0.00</td>\n",
       "      <td>0.00</td>\n",
       "    </tr>\n",
       "    <tr>\n",
       "      <th>75%</th>\n",
       "      <td>0.70</td>\n",
       "      <td>0.52</td>\n",
       "      <td>0.40</td>\n",
       "      <td>0.00</td>\n",
       "      <td>1.00</td>\n",
       "      <td>1.00</td>\n",
       "      <td>1.00</td>\n",
       "      <td>0.00</td>\n",
       "    </tr>\n",
       "    <tr>\n",
       "      <th>max</th>\n",
       "      <td>1.00</td>\n",
       "      <td>0.99</td>\n",
       "      <td>1.00</td>\n",
       "      <td>1.00</td>\n",
       "      <td>1.00</td>\n",
       "      <td>1.00</td>\n",
       "      <td>1.00</td>\n",
       "      <td>1.00</td>\n",
       "    </tr>\n",
       "  </tbody>\n",
       "</table>\n",
       "</div>"
      ],
      "text/plain": [
       "         age    bmi  children  smoker  female  northwest  southeast  southwest\n",
       "count 268.00 268.00    268.00  268.00  268.00     268.00     268.00     268.00\n",
       "mean    0.45   0.41      0.21    0.20    0.52       0.26       0.30       0.23\n",
       "std     0.30   0.17      0.23    0.40    0.50       0.44       0.46       0.42\n",
       "min     0.00   0.02      0.00    0.00    0.00       0.00       0.00       0.00\n",
       "25%     0.17   0.29      0.00    0.00    0.00       0.00       0.00       0.00\n",
       "50%     0.43   0.40      0.20    0.00    1.00       0.00       0.00       0.00\n",
       "75%     0.70   0.52      0.40    0.00    1.00       1.00       1.00       0.00\n",
       "max     1.00   0.99      1.00    1.00    1.00       1.00       1.00       1.00"
      ]
     },
     "execution_count": 44,
     "metadata": {},
     "output_type": "execute_result"
    }
   ],
   "source": [
    "X_teste.describe()"
   ]
  },
  {
   "cell_type": "markdown",
   "id": "f2cb8e39",
   "metadata": {},
   "source": [
    "## <a> Analisando a correlação entre variáveis </a>\n",
    "\n",
    "Com modelos lineares, é importante saber se as variáveis preditoras guardam alguma colinearidade. Caso ocorra, deve ser removida uma das variáveis para que o modelo não seja afetado. \n",
    "\n",
    "ução\r\n",
    "## <a> Analyzing the correlation between variables </a>\r\n",
    "\r\n",
    "With linear models, it is important to know whether the predictor variables have any collinearity. If this occurs, one of the variables must be removed so that the model is not affected.\n",
    "\n"
   ]
  },
  {
   "cell_type": "code",
   "execution_count": 45,
   "id": "6962cf3a",
   "metadata": {},
   "outputs": [
    {
     "data": {
      "text/plain": [
       "<Axes: >"
      ]
     },
     "execution_count": 45,
     "metadata": {},
     "output_type": "execute_result"
    },
    {
     "data": {
      "image/png": "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",
      "text/plain": [
       "<Figure size 1000x800 with 2 Axes>"
      ]
     },
     "metadata": {},
     "output_type": "display_data"
    }
   ],
   "source": [
    "figura, graficos = plt.subplots(figsize=(10, 8))\n",
    "corr = df_seguro.corr()\n",
    "sns.heatmap(corr, mask=np.zeros_like(corr, dtype=bool), \n",
    "            square=True, ax=graficos)"
   ]
  },
  {
   "cell_type": "markdown",
   "id": "fcbd1d19",
   "metadata": {},
   "source": [
    "## <a> Existência de dados faltantes </a>"
   ]
  },
  {
   "cell_type": "code",
   "execution_count": 46,
   "id": "74b70f93",
   "metadata": {},
   "outputs": [
    {
     "data": {
      "text/plain": [
       "age          0\n",
       "bmi          0\n",
       "children     0\n",
       "smoker       0\n",
       "charges      0\n",
       "female       0\n",
       "northwest    0\n",
       "southeast    0\n",
       "southwest    0\n",
       "dtype: int64"
      ]
     },
     "execution_count": 46,
     "metadata": {},
     "output_type": "execute_result"
    }
   ],
   "source": [
    "# isnull busca quem é nulo (dados faltantes)\n",
    "df_seguro.isnull().sum()"
   ]
  },
  {
   "cell_type": "markdown",
   "id": "0b5e2f8c",
   "metadata": {},
   "source": [
    "## <a>Machine Learning </a>\n",
    "\n"
   ]
  },
  {
   "cell_type": "markdown",
   "id": "e6b95407",
   "metadata": {},
   "source": [
    "### Teste Regressão Linear\n",
    "Primeiro modelo treinado será a regressão linear. Importante usar cross validation para evitar overfit e ter uma base de comparação para outros modelos\n",
    "\n",
    "### Linear Regression Test\n",
    "First model trained will be linear regression. It is important to use cross validation to avoid overfit and have a basis for comparison with other models"
   ]
  },
  {
   "cell_type": "code",
   "execution_count": 47,
   "id": "fd01a273",
   "metadata": {},
   "outputs": [],
   "source": [
    "from sklearn.linear_model import LinearRegression\n",
    "from sklearn.model_selection import cross_val_score"
   ]
  },
  {
   "cell_type": "code",
   "execution_count": 48,
   "id": "ec965690",
   "metadata": {},
   "outputs": [
    {
     "data": {
      "text/plain": [
       "array([-6073.99997254, -6580.87166754, -5233.82683473, -6045.25239632,\n",
       "       -5836.4647871 , -6127.43525895, -7281.08373608, -6321.52706355,\n",
       "       -6193.3145481 , -5637.06299714])"
      ]
     },
     "execution_count": 48,
     "metadata": {},
     "output_type": "execute_result"
    }
   ],
   "source": [
    "# Criando o estimador, algorimo, modelo, preditor, regressor (virge, que tanto de nome!)\n",
    "regressao_linear = LinearRegression()\n",
    "\n",
    "# Vamos treinar utilizando cross validation\n",
    "valores_rmse_rl = cross_val_score(estimator=regressao_linear, \n",
    "                                  X=X_treino, \n",
    "                                  y=y_treino, \n",
    "                                  cv=10, # 10-fold CV\n",
    "                                  scoring='neg_root_mean_squared_error')\n",
    "valores_rmse_rl"
   ]
  },
  {
   "cell_type": "code",
   "execution_count": 49,
   "id": "b123bdfd",
   "metadata": {},
   "outputs": [
    {
     "data": {
      "text/plain": [
       "10"
      ]
     },
     "execution_count": 49,
     "metadata": {},
     "output_type": "execute_result"
    }
   ],
   "source": [
    "len(valores_rmse_rl)"
   ]
  },
  {
   "cell_type": "code",
   "execution_count": 50,
   "id": "fb0c159a",
   "metadata": {},
   "outputs": [
    {
     "data": {
      "text/plain": [
       "array([6073.99997254, 6580.87166754, 5233.82683473, 6045.25239632,\n",
       "       5836.4647871 , 6127.43525895, 7281.08373608, 6321.52706355,\n",
       "       6193.3145481 , 5637.06299714])"
      ]
     },
     "execution_count": 50,
     "metadata": {},
     "output_type": "execute_result"
    }
   ],
   "source": [
    "valores_rmse_rl = valores_rmse_rl * -1\n",
    "valores_rmse_rl"
   ]
  },
  {
   "cell_type": "code",
   "execution_count": 51,
   "id": "eb276513",
   "metadata": {},
   "outputs": [
    {
     "data": {
      "text/plain": [
       "6133.0839262055"
      ]
     },
     "execution_count": 51,
     "metadata": {},
     "output_type": "execute_result"
    }
   ],
   "source": [
    "media_rmse_rl = valores_rmse_rl.mean()\n",
    "media_rmse_rl"
   ]
  },
  {
   "cell_type": "markdown",
   "id": "ae91e3f1",
   "metadata": {},
   "source": [
    "### Teste árvore de regressão\n",
    "\n",
    "### Decision Tree Regressor Test"
   ]
  },
  {
   "cell_type": "code",
   "execution_count": 52,
   "id": "f5ac0f7d",
   "metadata": {},
   "outputs": [
    {
     "data": {
      "text/plain": [
       "array([-6465.78032722, -7614.28544814, -6402.69317866, -7165.12863254,\n",
       "       -7212.37414182, -5974.31858067, -7583.62546649, -7641.88196138,\n",
       "       -6252.35407295, -6101.43330102])"
      ]
     },
     "execution_count": 52,
     "metadata": {},
     "output_type": "execute_result"
    }
   ],
   "source": [
    "from sklearn.tree import DecisionTreeRegressor\n",
    "\n",
    "arvore_regressao = DecisionTreeRegressor()\n",
    "\n",
    "# Vamos treinar utilizando cross validation (sempre!!)\n",
    "valores_rmse_arvore = cross_val_score(estimator=arvore_regressao, \n",
    "                                      X=X_treino, \n",
    "                                      y=y_treino, \n",
    "                                      cv=10, # \n",
    "                                  scoring='neg_root_mean_squared_error')\n",
    "valores_rmse_arvore"
   ]
  },
  {
   "cell_type": "code",
   "execution_count": 53,
   "id": "00b0ace6",
   "metadata": {},
   "outputs": [
    {
     "data": {
      "text/plain": [
       "array([6465.78032722, 7614.28544814, 6402.69317866, 7165.12863254,\n",
       "       7212.37414182, 5974.31858067, 7583.62546649, 7641.88196138,\n",
       "       6252.35407295, 6101.43330102])"
      ]
     },
     "execution_count": 53,
     "metadata": {},
     "output_type": "execute_result"
    }
   ],
   "source": [
    "valores_rmse_arvore = valores_rmse_arvore * -1\n",
    "valores_rmse_arvore"
   ]
  },
  {
   "cell_type": "code",
   "execution_count": 54,
   "id": "a792fe90",
   "metadata": {},
   "outputs": [
    {
     "data": {
      "text/plain": [
       "6841.3875110888275"
      ]
     },
     "execution_count": 54,
     "metadata": {},
     "output_type": "execute_result"
    }
   ],
   "source": [
    "media_rmse_arvore = valores_rmse_arvore.mean()\n",
    "media_rmse_arvore"
   ]
  },
  {
   "cell_type": "markdown",
   "id": "29130671-0103-4eae-96b1-ab3518303957",
   "metadata": {},
   "source": [
    "### Teste retirando as colunas de regiões. Na análise de correlação elas não mostraram muita influência na variável target\n",
    "### Test by removing the region columns. In the correlation analysis they did not show much influence on the target variable\n"
   ]
  },
  {
   "cell_type": "code",
   "execution_count": 55,
   "id": "ec9a17c1",
   "metadata": {},
   "outputs": [
    {
     "data": {
      "text/plain": [
       "Index(['age', 'bmi', 'children', 'smoker', 'female', 'northwest', 'southeast',\n",
       "       'southwest'],\n",
       "      dtype='object')"
      ]
     },
     "execution_count": 55,
     "metadata": {},
     "output_type": "execute_result"
    }
   ],
   "source": [
    "X_treino.columns"
   ]
  },
  {
   "cell_type": "code",
   "execution_count": 56,
   "id": "9e284421",
   "metadata": {},
   "outputs": [
    {
     "data": {
      "text/plain": [
       "6121.54506259713"
      ]
     },
     "execution_count": 56,
     "metadata": {},
     "output_type": "execute_result"
    }
   ],
   "source": [
    "# Vamos treinar utilizando cross validation (sempre!!)\n",
    "colunas_regiao = ['northwest', 'southeast', 'southwest']\n",
    "valores_rmse_rl_sem_regiao = cross_val_score(estimator=regressao_linear, \n",
    "                                             X=X_treino.drop(colunas_regiao, axis=1), \n",
    "                                             y=y_treino, \n",
    "                                             cv=10, \n",
    "                                      scoring='neg_root_mean_squared_error')\n",
    "valores_rmse_rl_sem_regiao.mean() * -1"
   ]
  },
  {
   "cell_type": "code",
   "execution_count": 57,
   "id": "7b449c73",
   "metadata": {},
   "outputs": [],
   "source": [
    "valores_rmse_rl_sem_regiao = valores_rmse_rl_sem_regiao * -1"
   ]
  },
  {
   "cell_type": "code",
   "execution_count": 58,
   "id": "330ed21c",
   "metadata": {},
   "outputs": [
    {
     "data": {
      "text/plain": [
       "6870.395942976786"
      ]
     },
     "execution_count": 58,
     "metadata": {},
     "output_type": "execute_result"
    }
   ],
   "source": [
    "# Vamos treinar utilizando cross validation (sempre!!)\n",
    "colunas_regiao = ['northwest', 'southeast', 'southwest']\n",
    "valores_rmse_arvore_sem_regiao = cross_val_score(estimator=arvore_regressao, \n",
    "                                                 X=X_treino.drop(colunas_regiao, axis=1), \n",
    "                                                 y=y_treino, cv=10, \n",
    "                                      scoring='neg_root_mean_squared_error')\n",
    "valores_rmse_arvore_sem_regiao.mean() * -1"
   ]
  },
  {
   "cell_type": "code",
   "execution_count": 59,
   "id": "c63f7365",
   "metadata": {},
   "outputs": [],
   "source": [
    "valores_rmse_arvore_sem_regiao = valores_rmse_arvore_sem_regiao * -1"
   ]
  },
  {
   "cell_type": "markdown",
   "id": "9c106ff8",
   "metadata": {},
   "source": [
    "### Avaliando o impacto de retirar mais colunas. \n",
    "Na análise de correlação algumas colunas (children e female) não mostraram muita influência na variável target\n",
    "\n",
    "### Evaluating the impact of removing more columns.\n"
   ]
  },
  {
   "cell_type": "code",
   "execution_count": 62,
   "id": "b9df24eb",
   "metadata": {},
   "outputs": [
    {
     "data": {
      "text/plain": [
       "6114.850969275503"
      ]
     },
     "execution_count": 62,
     "metadata": {},
     "output_type": "execute_result"
    }
   ],
   "source": [
    "colunas_reg_fem = ['northwest', 'southeast', 'southwest', 'female']\n",
    "valores_rmse_rl_col_teste_1 = cross_val_score(estimator = regressao_linear, X=X_treino.drop(colunas_reg_fem, axis = 1), \n",
    "                                            y = y_treino, cv=10, scoring='neg_root_mean_squared_error')\n",
    "\n",
    "valores_rmse_rl_col_teste_1 = valores_rmse_rl_col_teste_1*-1\n",
    "valores_rmse_rl_col_teste_1.mean()"
   ]
  },
  {
   "cell_type": "code",
   "execution_count": 63,
   "id": "8500c2f2",
   "metadata": {},
   "outputs": [
    {
     "data": {
      "text/plain": [
       "6150.815531866965"
      ]
     },
     "execution_count": 63,
     "metadata": {},
     "output_type": "execute_result"
    }
   ],
   "source": [
    "colunas_teste = ['children']\n",
    "valores_rmse_rl_col_teste_2 = cross_val_score(estimator = regressao_linear, X=X_treino.drop(colunas_teste, axis = 1), \n",
    "                                            y = y_treino, cv=10, scoring='neg_root_mean_squared_error')\n",
    "valores_rmse_rl_col_teste_2.mean()*-1"
   ]
  },
  {
   "cell_type": "code",
   "execution_count": 64,
   "id": "3ffe80cf",
   "metadata": {},
   "outputs": [
    {
     "data": {
      "text/plain": [
       "6150.815531866965"
      ]
     },
     "execution_count": 64,
     "metadata": {},
     "output_type": "execute_result"
    }
   ],
   "source": [
    "colunas_teste_1 = ['children', 'female', 'northwest', 'southeast', 'southwest']\n",
    "valores_rmse_rl_col_teste_2 = cross_val_score(estimator = regressao_linear, X=X_treino.drop(colunas_teste, axis = 1), \n",
    "                                            y = y_treino, cv=10, scoring='neg_root_mean_squared_error')\n",
    "valores_rmse_rl_col_teste_2.mean()*-1"
   ]
  },
  {
   "cell_type": "code",
   "execution_count": 65,
   "id": "e56063a4",
   "metadata": {},
   "outputs": [
    {
     "data": {
      "text/plain": [
       "Text(0.5, 1.0, 'Comparação de RMSE')"
      ]
     },
     "execution_count": 65,
     "metadata": {},
     "output_type": "execute_result"
    },
    {
     "data": {
      "image/png": "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",
      "text/plain": [
       "<Figure size 640x480 with 1 Axes>"
      ]
     },
     "metadata": {},
     "output_type": "display_data"
    }
   ],
   "source": [
    "rmse = pd.DataFrame({'regressao_linear_sem_regiao': valores_rmse_rl_sem_regiao, 'regressao_linear_sem_reg_fem': valores_rmse_rl_col_teste_1})\n",
    "\n",
    "sns.boxplot(data=rmse).set_title(\"Comparação de RMSE\")"
   ]
  },
  {
   "cell_type": "markdown",
   "id": "a4a196d9",
   "metadata": {},
   "source": [
    "## <a> Modelo definido - treinamento de toda a base </a>\n",
    "\n",
    "## <a> Defined model - base-wide training </a>\n",
    "\n"
   ]
  },
  {
   "cell_type": "code",
   "execution_count": 66,
   "id": "16ea3a2f",
   "metadata": {},
   "outputs": [
    {
     "data": {
      "text/html": [
       "<style>#sk-container-id-2 {\n",
       "  /* Definition of color scheme common for light and dark mode */\n",
       "  --sklearn-color-text: black;\n",
       "  --sklearn-color-line: gray;\n",
       "  /* Definition of color scheme for unfitted estimators */\n",
       "  --sklearn-color-unfitted-level-0: #fff5e6;\n",
       "  --sklearn-color-unfitted-level-1: #f6e4d2;\n",
       "  --sklearn-color-unfitted-level-2: #ffe0b3;\n",
       "  --sklearn-color-unfitted-level-3: chocolate;\n",
       "  /* Definition of color scheme for fitted estimators */\n",
       "  --sklearn-color-fitted-level-0: #f0f8ff;\n",
       "  --sklearn-color-fitted-level-1: #d4ebff;\n",
       "  --sklearn-color-fitted-level-2: #b3dbfd;\n",
       "  --sklearn-color-fitted-level-3: cornflowerblue;\n",
       "\n",
       "  /* Specific color for light theme */\n",
       "  --sklearn-color-text-on-default-background: var(--sg-text-color, var(--theme-code-foreground, var(--jp-content-font-color1, black)));\n",
       "  --sklearn-color-background: var(--sg-background-color, var(--theme-background, var(--jp-layout-color0, white)));\n",
       "  --sklearn-color-border-box: var(--sg-text-color, var(--theme-code-foreground, var(--jp-content-font-color1, black)));\n",
       "  --sklearn-color-icon: #696969;\n",
       "\n",
       "  @media (prefers-color-scheme: dark) {\n",
       "    /* Redefinition of color scheme for dark theme */\n",
       "    --sklearn-color-text-on-default-background: var(--sg-text-color, var(--theme-code-foreground, var(--jp-content-font-color1, white)));\n",
       "    --sklearn-color-background: var(--sg-background-color, var(--theme-background, var(--jp-layout-color0, #111)));\n",
       "    --sklearn-color-border-box: var(--sg-text-color, var(--theme-code-foreground, var(--jp-content-font-color1, white)));\n",
       "    --sklearn-color-icon: #878787;\n",
       "  }\n",
       "}\n",
       "\n",
       "#sk-container-id-2 {\n",
       "  color: var(--sklearn-color-text);\n",
       "}\n",
       "\n",
       "#sk-container-id-2 pre {\n",
       "  padding: 0;\n",
       "}\n",
       "\n",
       "#sk-container-id-2 input.sk-hidden--visually {\n",
       "  border: 0;\n",
       "  clip: rect(1px 1px 1px 1px);\n",
       "  clip: rect(1px, 1px, 1px, 1px);\n",
       "  height: 1px;\n",
       "  margin: -1px;\n",
       "  overflow: hidden;\n",
       "  padding: 0;\n",
       "  position: absolute;\n",
       "  width: 1px;\n",
       "}\n",
       "\n",
       "#sk-container-id-2 div.sk-dashed-wrapped {\n",
       "  border: 1px dashed var(--sklearn-color-line);\n",
       "  margin: 0 0.4em 0.5em 0.4em;\n",
       "  box-sizing: border-box;\n",
       "  padding-bottom: 0.4em;\n",
       "  background-color: var(--sklearn-color-background);\n",
       "}\n",
       "\n",
       "#sk-container-id-2 div.sk-container {\n",
       "  /* jupyter's `normalize.less` sets `[hidden] { display: none; }`\n",
       "     but bootstrap.min.css set `[hidden] { display: none !important; }`\n",
       "     so we also need the `!important` here to be able to override the\n",
       "     default hidden behavior on the sphinx rendered scikit-learn.org.\n",
       "     See: https://github.com/scikit-learn/scikit-learn/issues/21755 */\n",
       "  display: inline-block !important;\n",
       "  position: relative;\n",
       "}\n",
       "\n",
       "#sk-container-id-2 div.sk-text-repr-fallback {\n",
       "  display: none;\n",
       "}\n",
       "\n",
       "div.sk-parallel-item,\n",
       "div.sk-serial,\n",
       "div.sk-item {\n",
       "  /* draw centered vertical line to link estimators */\n",
       "  background-image: linear-gradient(var(--sklearn-color-text-on-default-background), var(--sklearn-color-text-on-default-background));\n",
       "  background-size: 2px 100%;\n",
       "  background-repeat: no-repeat;\n",
       "  background-position: center center;\n",
       "}\n",
       "\n",
       "/* Parallel-specific style estimator block */\n",
       "\n",
       "#sk-container-id-2 div.sk-parallel-item::after {\n",
       "  content: \"\";\n",
       "  width: 100%;\n",
       "  border-bottom: 2px solid var(--sklearn-color-text-on-default-background);\n",
       "  flex-grow: 1;\n",
       "}\n",
       "\n",
       "#sk-container-id-2 div.sk-parallel {\n",
       "  display: flex;\n",
       "  align-items: stretch;\n",
       "  justify-content: center;\n",
       "  background-color: var(--sklearn-color-background);\n",
       "  position: relative;\n",
       "}\n",
       "\n",
       "#sk-container-id-2 div.sk-parallel-item {\n",
       "  display: flex;\n",
       "  flex-direction: column;\n",
       "}\n",
       "\n",
       "#sk-container-id-2 div.sk-parallel-item:first-child::after {\n",
       "  align-self: flex-end;\n",
       "  width: 50%;\n",
       "}\n",
       "\n",
       "#sk-container-id-2 div.sk-parallel-item:last-child::after {\n",
       "  align-self: flex-start;\n",
       "  width: 50%;\n",
       "}\n",
       "\n",
       "#sk-container-id-2 div.sk-parallel-item:only-child::after {\n",
       "  width: 0;\n",
       "}\n",
       "\n",
       "/* Serial-specific style estimator block */\n",
       "\n",
       "#sk-container-id-2 div.sk-serial {\n",
       "  display: flex;\n",
       "  flex-direction: column;\n",
       "  align-items: center;\n",
       "  background-color: var(--sklearn-color-background);\n",
       "  padding-right: 1em;\n",
       "  padding-left: 1em;\n",
       "}\n",
       "\n",
       "\n",
       "/* Toggleable style: style used for estimator/Pipeline/ColumnTransformer box that is\n",
       "clickable and can be expanded/collapsed.\n",
       "- Pipeline and ColumnTransformer use this feature and define the default style\n",
       "- Estimators will overwrite some part of the style using the `sk-estimator` class\n",
       "*/\n",
       "\n",
       "/* Pipeline and ColumnTransformer style (default) */\n",
       "\n",
       "#sk-container-id-2 div.sk-toggleable {\n",
       "  /* Default theme specific background. It is overwritten whether we have a\n",
       "  specific estimator or a Pipeline/ColumnTransformer */\n",
       "  background-color: var(--sklearn-color-background);\n",
       "}\n",
       "\n",
       "/* Toggleable label */\n",
       "#sk-container-id-2 label.sk-toggleable__label {\n",
       "  cursor: pointer;\n",
       "  display: block;\n",
       "  width: 100%;\n",
       "  margin-bottom: 0;\n",
       "  padding: 0.5em;\n",
       "  box-sizing: border-box;\n",
       "  text-align: center;\n",
       "}\n",
       "\n",
       "#sk-container-id-2 label.sk-toggleable__label-arrow:before {\n",
       "  /* Arrow on the left of the label */\n",
       "  content: \"▸\";\n",
       "  float: left;\n",
       "  margin-right: 0.25em;\n",
       "  color: var(--sklearn-color-icon);\n",
       "}\n",
       "\n",
       "#sk-container-id-2 label.sk-toggleable__label-arrow:hover:before {\n",
       "  color: var(--sklearn-color-text);\n",
       "}\n",
       "\n",
       "/* Toggleable content - dropdown */\n",
       "\n",
       "#sk-container-id-2 div.sk-toggleable__content {\n",
       "  max-height: 0;\n",
       "  max-width: 0;\n",
       "  overflow: hidden;\n",
       "  text-align: left;\n",
       "  /* unfitted */\n",
       "  background-color: var(--sklearn-color-unfitted-level-0);\n",
       "}\n",
       "\n",
       "#sk-container-id-2 div.sk-toggleable__content.fitted {\n",
       "  /* fitted */\n",
       "  background-color: var(--sklearn-color-fitted-level-0);\n",
       "}\n",
       "\n",
       "#sk-container-id-2 div.sk-toggleable__content pre {\n",
       "  margin: 0.2em;\n",
       "  border-radius: 0.25em;\n",
       "  color: var(--sklearn-color-text);\n",
       "  /* unfitted */\n",
       "  background-color: var(--sklearn-color-unfitted-level-0);\n",
       "}\n",
       "\n",
       "#sk-container-id-2 div.sk-toggleable__content.fitted pre {\n",
       "  /* unfitted */\n",
       "  background-color: var(--sklearn-color-fitted-level-0);\n",
       "}\n",
       "\n",
       "#sk-container-id-2 input.sk-toggleable__control:checked~div.sk-toggleable__content {\n",
       "  /* Expand drop-down */\n",
       "  max-height: 200px;\n",
       "  max-width: 100%;\n",
       "  overflow: auto;\n",
       "}\n",
       "\n",
       "#sk-container-id-2 input.sk-toggleable__control:checked~label.sk-toggleable__label-arrow:before {\n",
       "  content: \"▾\";\n",
       "}\n",
       "\n",
       "/* Pipeline/ColumnTransformer-specific style */\n",
       "\n",
       "#sk-container-id-2 div.sk-label input.sk-toggleable__control:checked~label.sk-toggleable__label {\n",
       "  color: var(--sklearn-color-text);\n",
       "  background-color: var(--sklearn-color-unfitted-level-2);\n",
       "}\n",
       "\n",
       "#sk-container-id-2 div.sk-label.fitted input.sk-toggleable__control:checked~label.sk-toggleable__label {\n",
       "  background-color: var(--sklearn-color-fitted-level-2);\n",
       "}\n",
       "\n",
       "/* Estimator-specific style */\n",
       "\n",
       "/* Colorize estimator box */\n",
       "#sk-container-id-2 div.sk-estimator input.sk-toggleable__control:checked~label.sk-toggleable__label {\n",
       "  /* unfitted */\n",
       "  background-color: var(--sklearn-color-unfitted-level-2);\n",
       "}\n",
       "\n",
       "#sk-container-id-2 div.sk-estimator.fitted input.sk-toggleable__control:checked~label.sk-toggleable__label {\n",
       "  /* fitted */\n",
       "  background-color: var(--sklearn-color-fitted-level-2);\n",
       "}\n",
       "\n",
       "#sk-container-id-2 div.sk-label label.sk-toggleable__label,\n",
       "#sk-container-id-2 div.sk-label label {\n",
       "  /* The background is the default theme color */\n",
       "  color: var(--sklearn-color-text-on-default-background);\n",
       "}\n",
       "\n",
       "/* On hover, darken the color of the background */\n",
       "#sk-container-id-2 div.sk-label:hover label.sk-toggleable__label {\n",
       "  color: var(--sklearn-color-text);\n",
       "  background-color: var(--sklearn-color-unfitted-level-2);\n",
       "}\n",
       "\n",
       "/* Label box, darken color on hover, fitted */\n",
       "#sk-container-id-2 div.sk-label.fitted:hover label.sk-toggleable__label.fitted {\n",
       "  color: var(--sklearn-color-text);\n",
       "  background-color: var(--sklearn-color-fitted-level-2);\n",
       "}\n",
       "\n",
       "/* Estimator label */\n",
       "\n",
       "#sk-container-id-2 div.sk-label label {\n",
       "  font-family: monospace;\n",
       "  font-weight: bold;\n",
       "  display: inline-block;\n",
       "  line-height: 1.2em;\n",
       "}\n",
       "\n",
       "#sk-container-id-2 div.sk-label-container {\n",
       "  text-align: center;\n",
       "}\n",
       "\n",
       "/* Estimator-specific */\n",
       "#sk-container-id-2 div.sk-estimator {\n",
       "  font-family: monospace;\n",
       "  border: 1px dotted var(--sklearn-color-border-box);\n",
       "  border-radius: 0.25em;\n",
       "  box-sizing: border-box;\n",
       "  margin-bottom: 0.5em;\n",
       "  /* unfitted */\n",
       "  background-color: var(--sklearn-color-unfitted-level-0);\n",
       "}\n",
       "\n",
       "#sk-container-id-2 div.sk-estimator.fitted {\n",
       "  /* fitted */\n",
       "  background-color: var(--sklearn-color-fitted-level-0);\n",
       "}\n",
       "\n",
       "/* on hover */\n",
       "#sk-container-id-2 div.sk-estimator:hover {\n",
       "  /* unfitted */\n",
       "  background-color: var(--sklearn-color-unfitted-level-2);\n",
       "}\n",
       "\n",
       "#sk-container-id-2 div.sk-estimator.fitted:hover {\n",
       "  /* fitted */\n",
       "  background-color: var(--sklearn-color-fitted-level-2);\n",
       "}\n",
       "\n",
       "/* Specification for estimator info (e.g. \"i\" and \"?\") */\n",
       "\n",
       "/* Common style for \"i\" and \"?\" */\n",
       "\n",
       ".sk-estimator-doc-link,\n",
       "a:link.sk-estimator-doc-link,\n",
       "a:visited.sk-estimator-doc-link {\n",
       "  float: right;\n",
       "  font-size: smaller;\n",
       "  line-height: 1em;\n",
       "  font-family: monospace;\n",
       "  background-color: var(--sklearn-color-background);\n",
       "  border-radius: 1em;\n",
       "  height: 1em;\n",
       "  width: 1em;\n",
       "  text-decoration: none !important;\n",
       "  margin-left: 1ex;\n",
       "  /* unfitted */\n",
       "  border: var(--sklearn-color-unfitted-level-1) 1pt solid;\n",
       "  color: var(--sklearn-color-unfitted-level-1);\n",
       "}\n",
       "\n",
       ".sk-estimator-doc-link.fitted,\n",
       "a:link.sk-estimator-doc-link.fitted,\n",
       "a:visited.sk-estimator-doc-link.fitted {\n",
       "  /* fitted */\n",
       "  border: var(--sklearn-color-fitted-level-1) 1pt solid;\n",
       "  color: var(--sklearn-color-fitted-level-1);\n",
       "}\n",
       "\n",
       "/* On hover */\n",
       "div.sk-estimator:hover .sk-estimator-doc-link:hover,\n",
       ".sk-estimator-doc-link:hover,\n",
       "div.sk-label-container:hover .sk-estimator-doc-link:hover,\n",
       ".sk-estimator-doc-link:hover {\n",
       "  /* unfitted */\n",
       "  background-color: var(--sklearn-color-unfitted-level-3);\n",
       "  color: var(--sklearn-color-background);\n",
       "  text-decoration: none;\n",
       "}\n",
       "\n",
       "div.sk-estimator.fitted:hover .sk-estimator-doc-link.fitted:hover,\n",
       ".sk-estimator-doc-link.fitted:hover,\n",
       "div.sk-label-container:hover .sk-estimator-doc-link.fitted:hover,\n",
       ".sk-estimator-doc-link.fitted:hover {\n",
       "  /* fitted */\n",
       "  background-color: var(--sklearn-color-fitted-level-3);\n",
       "  color: var(--sklearn-color-background);\n",
       "  text-decoration: none;\n",
       "}\n",
       "\n",
       "/* Span, style for the box shown on hovering the info icon */\n",
       ".sk-estimator-doc-link span {\n",
       "  display: none;\n",
       "  z-index: 9999;\n",
       "  position: relative;\n",
       "  font-weight: normal;\n",
       "  right: .2ex;\n",
       "  padding: .5ex;\n",
       "  margin: .5ex;\n",
       "  width: min-content;\n",
       "  min-width: 20ex;\n",
       "  max-width: 50ex;\n",
       "  color: var(--sklearn-color-text);\n",
       "  box-shadow: 2pt 2pt 4pt #999;\n",
       "  /* unfitted */\n",
       "  background: var(--sklearn-color-unfitted-level-0);\n",
       "  border: .5pt solid var(--sklearn-color-unfitted-level-3);\n",
       "}\n",
       "\n",
       ".sk-estimator-doc-link.fitted span {\n",
       "  /* fitted */\n",
       "  background: var(--sklearn-color-fitted-level-0);\n",
       "  border: var(--sklearn-color-fitted-level-3);\n",
       "}\n",
       "\n",
       ".sk-estimator-doc-link:hover span {\n",
       "  display: block;\n",
       "}\n",
       "\n",
       "/* \"?\"-specific style due to the `<a>` HTML tag */\n",
       "\n",
       "#sk-container-id-2 a.estimator_doc_link {\n",
       "  float: right;\n",
       "  font-size: 1rem;\n",
       "  line-height: 1em;\n",
       "  font-family: monospace;\n",
       "  background-color: var(--sklearn-color-background);\n",
       "  border-radius: 1rem;\n",
       "  height: 1rem;\n",
       "  width: 1rem;\n",
       "  text-decoration: none;\n",
       "  /* unfitted */\n",
       "  color: var(--sklearn-color-unfitted-level-1);\n",
       "  border: var(--sklearn-color-unfitted-level-1) 1pt solid;\n",
       "}\n",
       "\n",
       "#sk-container-id-2 a.estimator_doc_link.fitted {\n",
       "  /* fitted */\n",
       "  border: var(--sklearn-color-fitted-level-1) 1pt solid;\n",
       "  color: var(--sklearn-color-fitted-level-1);\n",
       "}\n",
       "\n",
       "/* On hover */\n",
       "#sk-container-id-2 a.estimator_doc_link:hover {\n",
       "  /* unfitted */\n",
       "  background-color: var(--sklearn-color-unfitted-level-3);\n",
       "  color: var(--sklearn-color-background);\n",
       "  text-decoration: none;\n",
       "}\n",
       "\n",
       "#sk-container-id-2 a.estimator_doc_link.fitted:hover {\n",
       "  /* fitted */\n",
       "  background-color: var(--sklearn-color-fitted-level-3);\n",
       "}\n",
       "</style><div id=\"sk-container-id-2\" class=\"sk-top-container\"><div class=\"sk-text-repr-fallback\"><pre>LinearRegression()</pre><b>In a Jupyter environment, please rerun this cell to show the HTML representation or trust the notebook. <br />On GitHub, the HTML representation is unable to render, please try loading this page with nbviewer.org.</b></div><div class=\"sk-container\" hidden><div class=\"sk-item\"><div class=\"sk-estimator fitted sk-toggleable\"><input class=\"sk-toggleable__control sk-hidden--visually\" id=\"sk-estimator-id-2\" type=\"checkbox\" checked><label for=\"sk-estimator-id-2\" class=\"sk-toggleable__label fitted sk-toggleable__label-arrow fitted\">&nbsp;&nbsp;LinearRegression<a class=\"sk-estimator-doc-link fitted\" rel=\"noreferrer\" target=\"_blank\" href=\"https://scikit-learn.org/1.4/modules/generated/sklearn.linear_model.LinearRegression.html\">?<span>Documentation for LinearRegression</span></a><span class=\"sk-estimator-doc-link fitted\">i<span>Fitted</span></span></label><div class=\"sk-toggleable__content fitted\"><pre>LinearRegression()</pre></div> </div></div></div></div>"
      ],
      "text/plain": [
       "LinearRegression()"
      ]
     },
     "execution_count": 66,
     "metadata": {},
     "output_type": "execute_result"
    }
   ],
   "source": [
    "regressao_linear.fit(X_treino.drop(colunas_reg_fem, axis=1), y_treino)"
   ]
  },
  {
   "cell_type": "code",
   "execution_count": 67,
   "id": "56c54137",
   "metadata": {},
   "outputs": [
    {
     "data": {
      "text/plain": [
       "array([[11825.27326582, 12174.01619773,  2135.99985473, 23653.21164629]])"
      ]
     },
     "execution_count": 67,
     "metadata": {},
     "output_type": "execute_result"
    }
   ],
   "source": [
    "regressao_linear.coef_"
   ]
  },
  {
   "cell_type": "code",
   "execution_count": 68,
   "id": "68cbc1dd",
   "metadata": {},
   "outputs": [
    {
     "data": {
      "text/html": [
       "<div>\n",
       "<style scoped>\n",
       "    .dataframe tbody tr th:only-of-type {\n",
       "        vertical-align: middle;\n",
       "    }\n",
       "\n",
       "    .dataframe tbody tr th {\n",
       "        vertical-align: top;\n",
       "    }\n",
       "\n",
       "    .dataframe thead th {\n",
       "        text-align: right;\n",
       "    }\n",
       "</style>\n",
       "<table border=\"1\" class=\"dataframe\">\n",
       "  <thead>\n",
       "    <tr style=\"text-align: right;\">\n",
       "      <th></th>\n",
       "      <th>age</th>\n",
       "      <th>bmi</th>\n",
       "      <th>children</th>\n",
       "      <th>smoker</th>\n",
       "    </tr>\n",
       "  </thead>\n",
       "  <tbody>\n",
       "    <tr>\n",
       "      <th>0</th>\n",
       "      <td>11825.27</td>\n",
       "      <td>12174.02</td>\n",
       "      <td>2136.00</td>\n",
       "      <td>23653.21</td>\n",
       "    </tr>\n",
       "  </tbody>\n",
       "</table>\n",
       "</div>"
      ],
      "text/plain": [
       "       age      bmi  children   smoker\n",
       "0 11825.27 12174.02   2136.00 23653.21"
      ]
     },
     "execution_count": 68,
     "metadata": {},
     "output_type": "execute_result"
    }
   ],
   "source": [
    "df_coeficientes = pd.DataFrame(regressao_linear.coef_)\n",
    "df_coeficientes.columns=regressao_linear.feature_names_in_\n",
    "df_coeficientes"
   ]
  },
  {
   "cell_type": "code",
   "execution_count": 69,
   "id": "a5268abb",
   "metadata": {},
   "outputs": [
    {
     "name": "stdout",
     "output_type": "stream",
     "text": [
      "Collecting statsmodels\n",
      "  Downloading statsmodels-0.14.1-cp311-cp311-win_amd64.whl.metadata (9.8 kB)\n",
      "Requirement already satisfied: numpy<2,>=1.18 in d:\\myenv\\lib\\site-packages (from statsmodels) (1.26.4)\n",
      "Requirement already satisfied: scipy!=1.9.2,>=1.4 in d:\\myenv\\lib\\site-packages (from statsmodels) (1.12.0)\n",
      "Requirement already satisfied: pandas!=2.1.0,>=1.0 in d:\\myenv\\lib\\site-packages (from statsmodels) (2.2.0)\n",
      "Collecting patsy>=0.5.4 (from statsmodels)\n",
      "  Downloading patsy-0.5.6-py2.py3-none-any.whl.metadata (3.5 kB)\n",
      "Requirement already satisfied: packaging>=21.3 in d:\\myenv\\lib\\site-packages (from statsmodels) (23.2)\n",
      "Requirement already satisfied: python-dateutil>=2.8.2 in d:\\myenv\\lib\\site-packages (from pandas!=2.1.0,>=1.0->statsmodels) (2.8.2)\n",
      "Requirement already satisfied: pytz>=2020.1 in d:\\myenv\\lib\\site-packages (from pandas!=2.1.0,>=1.0->statsmodels) (2024.1)\n",
      "Requirement already satisfied: tzdata>=2022.7 in d:\\myenv\\lib\\site-packages (from pandas!=2.1.0,>=1.0->statsmodels) (2024.1)\n",
      "Requirement already satisfied: six in d:\\myenv\\lib\\site-packages (from patsy>=0.5.4->statsmodels) (1.16.0)\n",
      "Downloading statsmodels-0.14.1-cp311-cp311-win_amd64.whl (9.9 MB)\n",
      "   ---------------------------------------- 0.0/9.9 MB ? eta -:--:--\n",
      "   ---------------------------------------- 0.1/9.9 MB 1.7 MB/s eta 0:00:06\n",
      "   - -------------------------------------- 0.3/9.9 MB 3.2 MB/s eta 0:00:04\n",
      "   -- ------------------------------------- 0.7/9.9 MB 5.7 MB/s eta 0:00:02\n",
      "   ----- ---------------------------------- 1.4/9.9 MB 7.9 MB/s eta 0:00:02\n",
      "   ------ --------------------------------- 1.5/9.9 MB 7.3 MB/s eta 0:00:02\n",
      "   -------- ------------------------------- 2.1/9.9 MB 7.9 MB/s eta 0:00:01\n",
      "   --------- ------------------------------ 2.3/9.9 MB 7.3 MB/s eta 0:00:02\n",
      "   ----------- ---------------------------- 2.8/9.9 MB 7.7 MB/s eta 0:00:01\n",
      "   ------------- -------------------------- 3.2/9.9 MB 8.0 MB/s eta 0:00:01\n",
      "   --------------- ------------------------ 3.8/9.9 MB 8.3 MB/s eta 0:00:01\n",
      "   ----------------- ---------------------- 4.4/9.9 MB 8.8 MB/s eta 0:00:01\n",
      "   ------------------- -------------------- 4.9/9.9 MB 8.9 MB/s eta 0:00:01\n",
      "   ------------------- -------------------- 4.9/9.9 MB 9.0 MB/s eta 0:00:01\n",
      "   ------------------------ --------------- 6.0/9.9 MB 9.4 MB/s eta 0:00:01\n",
      "   -------------------------- ------------- 6.5/9.9 MB 9.4 MB/s eta 0:00:01\n",
      "   ---------------------------- ----------- 7.0/9.9 MB 9.6 MB/s eta 0:00:01\n",
      "   ------------------------------ --------- 7.5/9.9 MB 9.6 MB/s eta 0:00:01\n",
      "   --------------------------------- ------ 8.2/9.9 MB 9.9 MB/s eta 0:00:01\n",
      "   ----------------------------------- ---- 8.7/9.9 MB 10.0 MB/s eta 0:00:01\n",
      "   ------------------------------------- -- 9.2/9.9 MB 10.0 MB/s eta 0:00:01\n",
      "   ---------------------------------------  9.7/9.9 MB 10.2 MB/s eta 0:00:01\n",
      "   ---------------------------------------  9.9/9.9 MB 10.2 MB/s eta 0:00:01\n",
      "   ---------------------------------------  9.9/9.9 MB 10.2 MB/s eta 0:00:01\n",
      "   ---------------------------------------  9.9/9.9 MB 10.2 MB/s eta 0:00:01\n",
      "   ---------------------------------------  9.9/9.9 MB 10.2 MB/s eta 0:00:01\n",
      "   ---------------------------------------- 9.9/9.9 MB 8.3 MB/s eta 0:00:00\n",
      "Downloading patsy-0.5.6-py2.py3-none-any.whl (233 kB)\n",
      "   ---------------------------------------- 0.0/233.9 kB ? eta -:--:--\n",
      "   ---------------------------------------- 233.9/233.9 kB 7.2 MB/s eta 0:00:00\n",
      "Installing collected packages: patsy, statsmodels\n",
      "Successfully installed patsy-0.5.6 statsmodels-0.14.1\n"
     ]
    }
   ],
   "source": [
    "!pip install statsmodels"
   ]
  },
  {
   "cell_type": "code",
   "execution_count": 70,
   "id": "8c704f7a",
   "metadata": {},
   "outputs": [
    {
     "data": {
      "text/plain": [
       "age        0.00\n",
       "bmi        0.00\n",
       "children   0.08\n",
       "smoker     0.00\n",
       "Name: P>|t|, dtype: float64"
      ]
     },
     "execution_count": 70,
     "metadata": {},
     "output_type": "execute_result"
    }
   ],
   "source": [
    "# Podemos calcular o p-valor dos coeficientes de cada regressão utilizando o pacote statsmodels\n",
    "import statsmodels.api as sm\n",
    "\n",
    "rl_statsmodels = sm.OLS(y_treino,X_treino.drop(colunas_reg_fem, axis=1))\n",
    "# Cria um modelo de regressão linear ordinária usando o método dos Mínimos Quadrados Ordinários (OLS) do pacote statsmodels\n",
    "resultado_fit = rl_statsmodels.fit()\n",
    "#Ajusta (fit) o modelo aos dados de treino, estimando os coeficientes da regressão.\n",
    "p_valores = resultado_fit.summary2().tables[1]['P>|t|']\n",
    "#Calcula um resumo estatístico do ajuste do modelo e extrai os p-valores associados aos coeficientes.\n",
    "p_valores"
   ]
  },
  {
   "cell_type": "markdown",
   "id": "8e7bde84",
   "metadata": {},
   "source": [
    "Ou seja, o coeficiente para crianças não é estatisticamente válido, deve-se ter cautela ao analisar o impacto nos valores do plano de saúde."
   ]
  },
  {
   "cell_type": "markdown",
   "id": "ceedd3ba",
   "metadata": {},
   "source": [
    "## <a> Conclusão</a>\n",
    "\n",
    "Modelo final que permitirá estimar dos valores do plano de saúde no teste.\n",
    "\n",
    "## <a> Conclusion</a>\n",
    "Final model that will allow estimation of health plan values in the test."
   ]
  },
  {
   "cell_type": "code",
   "execution_count": 71,
   "id": "02129ad6",
   "metadata": {},
   "outputs": [
    {
     "data": {
      "text/plain": [
       "array([[ 8550.90921341],\n",
       "       [ 6969.71599759],\n",
       "       [36794.13661808],\n",
       "       [ 9421.86824203],\n",
       "       [26875.01095777]])"
      ]
     },
     "execution_count": 71,
     "metadata": {},
     "output_type": "execute_result"
    }
   ],
   "source": [
    "# ver estimadores scikit learn\n",
    "# estimador é treinado com fit\n",
    "# estimador prediz com predict\n",
    "precos_preditos = regressao_linear.predict(X_teste.drop(colunas_reg_fem, axis=1))\n",
    "precos_preditos[:5]"
   ]
  },
  {
   "cell_type": "code",
   "execution_count": 72,
   "id": "2dedcaba",
   "metadata": {},
   "outputs": [
    {
     "data": {
      "text/plain": [
       "268"
      ]
     },
     "execution_count": 72,
     "metadata": {},
     "output_type": "execute_result"
    }
   ],
   "source": [
    "len(precos_preditos)"
   ]
  },
  {
   "cell_type": "code",
   "execution_count": 73,
   "id": "fbf1336c",
   "metadata": {},
   "outputs": [
    {
     "data": {
      "text/html": [
       "<div>\n",
       "<style scoped>\n",
       "    .dataframe tbody tr th:only-of-type {\n",
       "        vertical-align: middle;\n",
       "    }\n",
       "\n",
       "    .dataframe tbody tr th {\n",
       "        vertical-align: top;\n",
       "    }\n",
       "\n",
       "    .dataframe thead th {\n",
       "        text-align: right;\n",
       "    }\n",
       "</style>\n",
       "<table border=\"1\" class=\"dataframe\">\n",
       "  <thead>\n",
       "    <tr style=\"text-align: right;\">\n",
       "      <th></th>\n",
       "      <th>charges</th>\n",
       "    </tr>\n",
       "  </thead>\n",
       "  <tbody>\n",
       "    <tr>\n",
       "      <th>764</th>\n",
       "      <td>9095.07</td>\n",
       "    </tr>\n",
       "    <tr>\n",
       "      <th>887</th>\n",
       "      <td>5272.18</td>\n",
       "    </tr>\n",
       "    <tr>\n",
       "      <th>890</th>\n",
       "      <td>29330.98</td>\n",
       "    </tr>\n",
       "    <tr>\n",
       "      <th>1293</th>\n",
       "      <td>9301.89</td>\n",
       "    </tr>\n",
       "    <tr>\n",
       "      <th>259</th>\n",
       "      <td>33750.29</td>\n",
       "    </tr>\n",
       "  </tbody>\n",
       "</table>\n",
       "</div>"
      ],
      "text/plain": [
       "      charges\n",
       "764   9095.07\n",
       "887   5272.18\n",
       "890  29330.98\n",
       "1293  9301.89\n",
       "259  33750.29"
      ]
     },
     "execution_count": 73,
     "metadata": {},
     "output_type": "execute_result"
    }
   ],
   "source": [
    "y_teste.head()"
   ]
  },
  {
   "cell_type": "code",
   "execution_count": 74,
   "id": "ad7b4c88",
   "metadata": {},
   "outputs": [
    {
     "data": {
      "text/html": [
       "<div>\n",
       "<style scoped>\n",
       "    .dataframe tbody tr th:only-of-type {\n",
       "        vertical-align: middle;\n",
       "    }\n",
       "\n",
       "    .dataframe tbody tr th {\n",
       "        vertical-align: top;\n",
       "    }\n",
       "\n",
       "    .dataframe thead th {\n",
       "        text-align: right;\n",
       "    }\n",
       "</style>\n",
       "<table border=\"1\" class=\"dataframe\">\n",
       "  <thead>\n",
       "    <tr style=\"text-align: right;\">\n",
       "      <th></th>\n",
       "      <th>predicao</th>\n",
       "      <th>real</th>\n",
       "      <th>diferenca_abs</th>\n",
       "    </tr>\n",
       "  </thead>\n",
       "  <tbody>\n",
       "    <tr>\n",
       "      <th>0</th>\n",
       "      <td>8550.91</td>\n",
       "      <td>9095.07</td>\n",
       "      <td>544.16</td>\n",
       "    </tr>\n",
       "    <tr>\n",
       "      <th>1</th>\n",
       "      <td>6969.72</td>\n",
       "      <td>5272.18</td>\n",
       "      <td>1697.54</td>\n",
       "    </tr>\n",
       "    <tr>\n",
       "      <th>2</th>\n",
       "      <td>36794.14</td>\n",
       "      <td>29330.98</td>\n",
       "      <td>7463.15</td>\n",
       "    </tr>\n",
       "    <tr>\n",
       "      <th>3</th>\n",
       "      <td>9421.87</td>\n",
       "      <td>9301.89</td>\n",
       "      <td>119.97</td>\n",
       "    </tr>\n",
       "    <tr>\n",
       "      <th>4</th>\n",
       "      <td>26875.01</td>\n",
       "      <td>33750.29</td>\n",
       "      <td>6875.28</td>\n",
       "    </tr>\n",
       "    <tr>\n",
       "      <th>5</th>\n",
       "      <td>11101.27</td>\n",
       "      <td>4536.26</td>\n",
       "      <td>6565.01</td>\n",
       "    </tr>\n",
       "    <tr>\n",
       "      <th>6</th>\n",
       "      <td>141.45</td>\n",
       "      <td>2117.34</td>\n",
       "      <td>1975.89</td>\n",
       "    </tr>\n",
       "    <tr>\n",
       "      <th>7</th>\n",
       "      <td>16750.22</td>\n",
       "      <td>14210.54</td>\n",
       "      <td>2539.69</td>\n",
       "    </tr>\n",
       "    <tr>\n",
       "      <th>8</th>\n",
       "      <td>743.78</td>\n",
       "      <td>3732.63</td>\n",
       "      <td>2988.84</td>\n",
       "    </tr>\n",
       "    <tr>\n",
       "      <th>9</th>\n",
       "      <td>11157.64</td>\n",
       "      <td>10264.44</td>\n",
       "      <td>893.19</td>\n",
       "    </tr>\n",
       "    <tr>\n",
       "      <th>10</th>\n",
       "      <td>28521.42</td>\n",
       "      <td>18259.22</td>\n",
       "      <td>10262.21</td>\n",
       "    </tr>\n",
       "    <tr>\n",
       "      <th>11</th>\n",
       "      <td>9296.16</td>\n",
       "      <td>7256.72</td>\n",
       "      <td>2039.44</td>\n",
       "    </tr>\n",
       "    <tr>\n",
       "      <th>12</th>\n",
       "      <td>5456.58</td>\n",
       "      <td>3947.41</td>\n",
       "      <td>1509.17</td>\n",
       "    </tr>\n",
       "    <tr>\n",
       "      <th>13</th>\n",
       "      <td>38513.59</td>\n",
       "      <td>46151.12</td>\n",
       "      <td>7637.53</td>\n",
       "    </tr>\n",
       "    <tr>\n",
       "      <th>14</th>\n",
       "      <td>40362.63</td>\n",
       "      <td>48673.56</td>\n",
       "      <td>8310.93</td>\n",
       "    </tr>\n",
       "    <tr>\n",
       "      <th>15</th>\n",
       "      <td>37226.61</td>\n",
       "      <td>44202.65</td>\n",
       "      <td>6976.04</td>\n",
       "    </tr>\n",
       "    <tr>\n",
       "      <th>16</th>\n",
       "      <td>15312.48</td>\n",
       "      <td>9800.89</td>\n",
       "      <td>5511.59</td>\n",
       "    </tr>\n",
       "    <tr>\n",
       "      <th>17</th>\n",
       "      <td>36042.83</td>\n",
       "      <td>42969.85</td>\n",
       "      <td>6927.02</td>\n",
       "    </tr>\n",
       "    <tr>\n",
       "      <th>18</th>\n",
       "      <td>9322.41</td>\n",
       "      <td>8233.10</td>\n",
       "      <td>1089.31</td>\n",
       "    </tr>\n",
       "    <tr>\n",
       "      <th>19</th>\n",
       "      <td>31395.64</td>\n",
       "      <td>21774.32</td>\n",
       "      <td>9621.32</td>\n",
       "    </tr>\n",
       "  </tbody>\n",
       "</table>\n",
       "</div>"
      ],
      "text/plain": [
       "    predicao     real  diferenca_abs\n",
       "0    8550.91  9095.07         544.16\n",
       "1    6969.72  5272.18        1697.54\n",
       "2   36794.14 29330.98        7463.15\n",
       "3    9421.87  9301.89         119.97\n",
       "4   26875.01 33750.29        6875.28\n",
       "5   11101.27  4536.26        6565.01\n",
       "6     141.45  2117.34        1975.89\n",
       "7   16750.22 14210.54        2539.69\n",
       "8     743.78  3732.63        2988.84\n",
       "9   11157.64 10264.44         893.19\n",
       "10  28521.42 18259.22       10262.21\n",
       "11   9296.16  7256.72        2039.44\n",
       "12   5456.58  3947.41        1509.17\n",
       "13  38513.59 46151.12        7637.53\n",
       "14  40362.63 48673.56        8310.93\n",
       "15  37226.61 44202.65        6976.04\n",
       "16  15312.48  9800.89        5511.59\n",
       "17  36042.83 42969.85        6927.02\n",
       "18   9322.41  8233.10        1089.31\n",
       "19  31395.64 21774.32        9621.32"
      ]
     },
     "execution_count": 74,
     "metadata": {},
     "output_type": "execute_result"
    }
   ],
   "source": [
    "predicoes_vs_real = pd.DataFrame({'predicao': precos_preditos.flatten(), 'real': y_teste.values.flatten()})\n",
    "predicoes_vs_real['diferenca_abs'] = abs(predicoes_vs_real['predicao'] - predicoes_vs_real['real'])\n",
    "predicoes_vs_real.head(20)"
   ]
  },
  {
   "cell_type": "markdown",
   "id": "4f7ed560-f916-4279-b6a2-f7a2556d22ae",
   "metadata": {},
   "source": [
    "### Performance"
   ]
  },
  {
   "cell_type": "code",
   "execution_count": 75,
   "id": "3dcdf2cc",
   "metadata": {},
   "outputs": [
    {
     "data": {
      "text/plain": [
       "0.7811147722517887"
      ]
     },
     "execution_count": 75,
     "metadata": {},
     "output_type": "execute_result"
    }
   ],
   "source": [
    "# Vamos testar a métrica de performance r quadrado\n",
    "\n",
    "from sklearn.metrics import r2_score\n",
    "\n",
    "r2_score(y_true=y_teste, y_pred=precos_preditos)"
   ]
  },
  {
   "cell_type": "markdown",
   "id": "9bfe118c",
   "metadata": {},
   "source": [
    "As métricas de regressão calculam as diferenças numéricas entre os valores que foram preditos pelo modelo em comparação com os valores reais. É a porcentagem da variação da variável resposta que é explicada por um modelo linear.78% é um resultado satisfatório.\n",
    "\n",
    "Regression metrics calculate the numerical differences between the values that were predicted by the model compared to the actual values. It is the percentage of variation in the response variable that is explained by a linear model. 78% is a satisfactory result."
   ]
  },
  {
   "cell_type": "markdown",
   "id": "c21ed1ec-b520-407f-9ccd-9e9ef546e499",
   "metadata": {},
   "source": [
    "#### Teste de uma predição com inputs.\n",
    "\n",
    "### Testing a prediction with inputs."
   ]
  },
  {
   "cell_type": "code",
   "execution_count": 76,
   "id": "c1d1cce0",
   "metadata": {},
   "outputs": [
    {
     "data": {
      "text/plain": [
       "Index(['age', 'bmi', 'children', 'smoker', 'female'], dtype='object')"
      ]
     },
     "execution_count": 76,
     "metadata": {},
     "output_type": "execute_result"
    }
   ],
   "source": [
    "X_teste.drop(colunas_regiao, axis=1).columns"
   ]
  },
  {
   "cell_type": "code",
   "execution_count": 78,
   "id": "897d35fe",
   "metadata": {},
   "outputs": [
    {
     "name": "stdin",
     "output_type": "stream",
     "text": [
      " 60\n"
     ]
    }
   ],
   "source": [
    "idade = input()"
   ]
  },
  {
   "cell_type": "code",
   "execution_count": 79,
   "id": "f68d7bac",
   "metadata": {},
   "outputs": [
    {
     "name": "stdin",
     "output_type": "stream",
     "text": [
      " 30\n"
     ]
    }
   ],
   "source": [
    "indice_massa_corporal = input()"
   ]
  },
  {
   "cell_type": "code",
   "execution_count": 80,
   "id": "6df17dd1",
   "metadata": {},
   "outputs": [
    {
     "name": "stdin",
     "output_type": "stream",
     "text": [
      " 1\n"
     ]
    }
   ],
   "source": [
    "criancas = input()"
   ]
  },
  {
   "cell_type": "code",
   "execution_count": 81,
   "id": "99097081",
   "metadata": {},
   "outputs": [
    {
     "name": "stdin",
     "output_type": "stream",
     "text": [
      "1 para fumante, 0 para não fumante:  0\n"
     ]
    }
   ],
   "source": [
    "fumante = input(\"1 para fumante, 0 para não fumante: \")"
   ]
  },
  {
   "cell_type": "code",
   "execution_count": 82,
   "id": "f8d1fe31",
   "metadata": {},
   "outputs": [
    {
     "data": {
      "text/plain": [
       "('60', '30', '1', '0')"
      ]
     },
     "execution_count": 82,
     "metadata": {},
     "output_type": "execute_result"
    }
   ],
   "source": [
    "idade, indice_massa_corporal, criancas, fumante"
   ]
  },
  {
   "cell_type": "code",
   "execution_count": 83,
   "id": "d04b5993",
   "metadata": {},
   "outputs": [
    {
     "name": "stderr",
     "output_type": "stream",
     "text": [
      "D:\\myenv\\Lib\\site-packages\\sklearn\\base.py:493: UserWarning: X does not have valid feature names, but MinMaxScaler was fitted with feature names\n",
      "  warnings.warn(\n"
     ]
    },
    {
     "data": {
      "text/plain": [
       "array([[0.91304348, 0.37772397, 0.2       , 0.        , 1.        ,\n",
       "        1.        , 1.        , 1.        ]])"
      ]
     },
     "execution_count": 83,
     "metadata": {},
     "output_type": "execute_result"
    }
   ],
   "source": [
    "# Completando com 1,1,1,1 porque o X_treino original tinha colunas de região e female\n",
    "features = [[idade, indice_massa_corporal, criancas, fumante, 1, 1, 1, 1]]\n",
    "\n",
    "# O scaler é lááááá do treino (nada de fitar de novo)\n",
    "features = scaler.transform(features)\n",
    "features"
   ]
  },
  {
   "cell_type": "code",
   "execution_count": 84,
   "id": "2ef3789b",
   "metadata": {},
   "outputs": [
    {
     "data": {
      "text/plain": [
       "array([[0.91304348, 0.37772397, 0.2       , 0.        ]])"
      ]
     },
     "execution_count": 84,
     "metadata": {},
     "output_type": "execute_result"
    }
   ],
   "source": [
    "# Pegando somente as 5 features\n",
    "features = features[:,:-4]\n",
    "features"
   ]
  },
  {
   "cell_type": "code",
   "execution_count": 85,
   "id": "6e47fbe7",
   "metadata": {},
   "outputs": [
    {
     "name": "stderr",
     "output_type": "stream",
     "text": [
      "D:\\myenv\\Lib\\site-packages\\sklearn\\base.py:493: UserWarning: X does not have valid feature names, but LinearRegression was fitted with feature names\n",
      "  warnings.warn(\n"
     ]
    },
    {
     "data": {
      "text/plain": [
       "array([[13560.07330678]])"
      ]
     },
     "execution_count": 85,
     "metadata": {},
     "output_type": "execute_result"
    }
   ],
   "source": [
    "# Resultado da predição!\n",
    "regressao_linear.predict(features)"
   ]
  }
 ],
 "metadata": {
  "kernelspec": {
   "display_name": "Python 3 (ipykernel)",
   "language": "python",
   "name": "python3"
  },
  "language_info": {
   "codemirror_mode": {
    "name": "ipython",
    "version": 3
   },
   "file_extension": ".py",
   "mimetype": "text/x-python",
   "name": "python",
   "nbconvert_exporter": "python",
   "pygments_lexer": "ipython3",
   "version": "3.11.2"
  }
 },
 "nbformat": 4,
 "nbformat_minor": 5
}
